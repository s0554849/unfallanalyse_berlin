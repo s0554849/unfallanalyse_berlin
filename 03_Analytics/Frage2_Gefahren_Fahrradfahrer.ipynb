{
 "cells": [
  {
   "cell_type": "markdown",
   "metadata": {},
   "source": [
    "<h1>Vorhersage, ob es bei einem Unfall Schwerverletzte/Tote gibt</h1>"
   ]
  },
  {
   "cell_type": "code",
   "execution_count": 34,
   "metadata": {},
   "outputs": [],
   "source": [
    "import geopandas as gpd\n",
    "import pandas as pd\n",
    "import numpy as np\n",
    "pd.options.display.max_columns = None\n",
    "crash_data = gpd.read_file('../01_Source/consolidatedDataSet.geojson') "
   ]
  },
  {
   "cell_type": "markdown",
   "metadata": {},
   "source": [
    "## 1. Vorbereitung des Datensatzes"
   ]
  },
  {
   "cell_type": "markdown",
   "metadata": {},
   "source": [
    "### 1.1 Vorbereitung der Datenbasis für die konkrete Verarbeitung"
   ]
  },
  {
   "cell_type": "code",
   "execution_count": null,
   "metadata": {},
   "outputs": [],
   "source": [
    "crash_data = crash_data.drop([\"ULAND\",\"UREGBEZ\",\"UJAHR\",\"LINREFX\",\"LINREFY\",\"METER\",\"EW2010\",\"GFZ\",\"HERKUNFT\",\"NAME\",\"KNAME\",\"PLR_NAME\",\n",
    "                              \"VBUS\",\"VBUS_PERS\",\"GESLAERM_PERS\",\"GEMEINDE\",\"BEZIRK\",\"ANWERT\",\"VERFAHRENSART\",\"STICHTAG\",\"BEITRAGSZUSTAND\",\"LUMNUM\",\"ELEM_NR\",\"VRICHT_TXT\",\"ZEIT_T\",\"TAG_T\"\n",
    "                             ,\"DURCH_T\",\"DANN_T\",\"DAT_T\",\"LAT\",\"LON\",\"formatted_address\",\"address_components\",\"street_number\",\"route\",\"postal_code\",\"sublocality\",\"BRW\",\"UART\",\"UWOCHENTAG\",\"ULICHTVERH\",\"UTYP1\",\"STRZUSTAND\"], axis=1)\n",
    "crash_data = crash_data.drop([\"OBJECTID\",\"STR_NAME\"], axis=1)"
   ]
  },
  {
   "cell_type": "code",
   "execution_count": null,
   "metadata": {},
   "outputs": [],
   "source": [
    "crash_data.head()"
   ]
  },
  {
   "cell_type": "code",
   "execution_count": 35,
   "metadata": {},
   "outputs": [],
   "source": [
    "\n",
    "\n",
    "#crash_data = crash_data.drop([\"OBJECTID\",\"STR_NAME\"], axis=1)\n",
    "\n",
    "\n",
    "crash_data_copy = crash_data.copy()\n",
    "crash_data_copy = pd.get_dummies(crash_data_copy, columns=[\"UART_Value\"], prefix='UART_Value_')\n",
    "crash_data_copy = pd.get_dummies(crash_data_copy, columns=[\"UWOCHENTAG_Value\"], prefix='UWOCHENTAG_Value_')\n",
    "crash_data_copy = pd.get_dummies(crash_data_copy, columns=[\"UTYP1_Value\"], prefix='UTYP1_Value_')\n",
    "crash_data_copy = pd.get_dummies(crash_data_copy, columns=[\"ULICHTVERH_Value\"], prefix='ULICHTVERH_Value_')\n",
    "crash_data_copy = pd.get_dummies(crash_data_copy, columns=[\"STRZUSTAND_Value\"], prefix='STRZUSTAND_Value_')\n",
    "crash_data_copy = pd.get_dummies(crash_data_copy, columns=[\"NUTZUNG\"], prefix='NUTZUNG_')\n",
    "crash_data_copy = pd.get_dummies(crash_data_copy, columns=[\"GESLAERM\"], prefix='GESLAERM_')\n",
    "\n",
    "#corr_matrix = crash_data_copy.corr()\n",
    "#corr_matrix[\"TARGET\"]\n",
    "crash_data_copy = crash_data_copy.drop([\"geometry\"], axis=1)"
   ]
  },
  {
   "cell_type": "markdown",
   "metadata": {},
   "source": [
    "### 1.2 Train-Test Split"
   ]
  },
  {
   "cell_type": "code",
   "execution_count": 36,
   "metadata": {},
   "outputs": [],
   "source": [
    "# Import train_test_split function\n",
    "from sklearn.model_selection import train_test_split\n",
    "\n",
    "X = crash_data_copy.drop([\"TARGET\"] , axis=1)\n",
    "Y = crash_data_copy[\"TARGET\"]\n",
    "X_train, X_test, y_train, y_test = train_test_split(X,Y, test_size=0.2, random_state=42)\n",
    "from imblearn.over_sampling import SMOTE\n",
    "sm = SMOTE(random_state=12, ratio = 1.0)\n",
    "x_train_res, y_train_res = sm.fit_sample(X_train, y_train)"
   ]
  },
  {
   "cell_type": "markdown",
   "metadata": {},
   "source": [
    "### 2.1 Trainieren und Testen eines RandomForestClassifiers"
   ]
  },
  {
   "cell_type": "code",
   "execution_count": 37,
   "metadata": {},
   "outputs": [
    {
     "data": {
      "text/plain": [
       "0    8586\n",
       "1    1743\n",
       "Name: TARGET, dtype: int64"
      ]
     },
     "execution_count": 37,
     "metadata": {},
     "output_type": "execute_result"
    }
   ],
   "source": [
    "crash_data_copy[\"TARGET\"].value_counts()"
   ]
  },
  {
   "cell_type": "code",
   "execution_count": 38,
   "metadata": {},
   "outputs": [
    {
     "data": {
      "text/plain": [
       "0.806175107145981"
      ]
     },
     "execution_count": 38,
     "metadata": {},
     "output_type": "execute_result"
    }
   ],
   "source": [
    "(11433-2216)/11433"
   ]
  },
  {
   "cell_type": "code",
   "execution_count": 39,
   "metadata": {},
   "outputs": [
    {
     "name": "stdout",
     "output_type": "stream",
     "text": [
      "Fitting 10 folds for each of 288 candidates, totalling 2880 fits\n"
     ]
    },
    {
     "name": "stderr",
     "output_type": "stream",
     "text": [
      "[Parallel(n_jobs=5)]: Using backend LokyBackend with 5 concurrent workers.\n",
      "[Parallel(n_jobs=5)]: Done   3 tasks      | elapsed:    2.2s\n",
      "[Parallel(n_jobs=5)]: Done   8 tasks      | elapsed:    2.3s\n",
      "[Parallel(n_jobs=5)]: Done  15 tasks      | elapsed:    2.4s\n",
      "[Parallel(n_jobs=5)]: Done  22 tasks      | elapsed:    2.5s\n",
      "[Parallel(n_jobs=5)]: Done  31 tasks      | elapsed:    2.8s\n",
      "[Parallel(n_jobs=5)]: Done  40 tasks      | elapsed:    3.1s\n",
      "[Parallel(n_jobs=5)]: Done  51 tasks      | elapsed:    4.0s\n",
      "[Parallel(n_jobs=5)]: Done  62 tasks      | elapsed:    4.5s\n",
      "[Parallel(n_jobs=5)]: Batch computation too fast (0.1876s.) Setting batch_size=2.\n",
      "[Parallel(n_jobs=5)]: Done  75 tasks      | elapsed:    4.7s\n",
      "[Parallel(n_jobs=5)]: Done  94 tasks      | elapsed:    5.4s\n",
      "[Parallel(n_jobs=5)]: Done 124 tasks      | elapsed:    6.9s\n",
      "[Parallel(n_jobs=5)]: Done 154 tasks      | elapsed:    7.7s\n",
      "[Parallel(n_jobs=5)]: Done 188 tasks      | elapsed:    9.6s\n",
      "[Parallel(n_jobs=5)]: Done 222 tasks      | elapsed:   11.0s\n",
      "[Parallel(n_jobs=5)]: Done 260 tasks      | elapsed:   12.4s\n",
      "[Parallel(n_jobs=5)]: Done 298 tasks      | elapsed:   14.7s\n",
      "[Parallel(n_jobs=5)]: Done 340 tasks      | elapsed:   15.6s\n",
      "[Parallel(n_jobs=5)]: Done 382 tasks      | elapsed:   17.6s\n",
      "[Parallel(n_jobs=5)]: Done 428 tasks      | elapsed:   20.5s\n",
      "[Parallel(n_jobs=5)]: Done 474 tasks      | elapsed:   23.5s\n",
      "[Parallel(n_jobs=5)]: Done 524 tasks      | elapsed:   25.4s\n",
      "[Parallel(n_jobs=5)]: Done 574 tasks      | elapsed:   27.9s\n",
      "[Parallel(n_jobs=5)]: Done 628 tasks      | elapsed:   30.6s\n",
      "[Parallel(n_jobs=5)]: Done 682 tasks      | elapsed:   34.0s\n",
      "[Parallel(n_jobs=5)]: Done 740 tasks      | elapsed:   37.1s\n",
      "[Parallel(n_jobs=5)]: Batch computation too slow (2.0534s.) Setting batch_size=1.\n",
      "[Parallel(n_jobs=5)]: Batch computation too fast (0.1972s.) Setting batch_size=2.\n",
      "[Parallel(n_jobs=5)]: Done 796 tasks      | elapsed:   41.0s\n",
      "[Parallel(n_jobs=5)]: Batch computation too slow (2.0481s.) Setting batch_size=1.\n",
      "[Parallel(n_jobs=5)]: Done 853 tasks      | elapsed:   44.9s\n",
      "[Parallel(n_jobs=5)]: Done 888 tasks      | elapsed:   46.9s\n",
      "[Parallel(n_jobs=5)]: Done 921 tasks      | elapsed:   49.0s\n",
      "[Parallel(n_jobs=5)]: Done 954 tasks      | elapsed:   51.8s\n",
      "[Parallel(n_jobs=5)]: Done 989 tasks      | elapsed:   53.3s\n",
      "[Parallel(n_jobs=5)]: Done 1024 tasks      | elapsed:   57.0s\n",
      "[Parallel(n_jobs=5)]: Done 1061 tasks      | elapsed:   58.8s\n",
      "[Parallel(n_jobs=5)]: Done 1098 tasks      | elapsed:  1.0min\n",
      "[Parallel(n_jobs=5)]: Done 1137 tasks      | elapsed:  1.1min\n",
      "[Parallel(n_jobs=5)]: Done 1176 tasks      | elapsed:  1.1min\n",
      "[Parallel(n_jobs=5)]: Done 1217 tasks      | elapsed:  1.2min\n",
      "[Parallel(n_jobs=5)]: Done 1258 tasks      | elapsed:  1.3min\n",
      "[Parallel(n_jobs=5)]: Done 1301 tasks      | elapsed:  1.3min\n",
      "[Parallel(n_jobs=5)]: Done 1344 tasks      | elapsed:  1.4min\n",
      "[Parallel(n_jobs=5)]: Done 1389 tasks      | elapsed:  1.5min\n",
      "[Parallel(n_jobs=5)]: Done 1434 tasks      | elapsed:  1.6min\n",
      "[Parallel(n_jobs=5)]: Done 1481 tasks      | elapsed:  1.6min\n",
      "[Parallel(n_jobs=5)]: Done 1528 tasks      | elapsed:  1.7min\n",
      "[Parallel(n_jobs=5)]: Done 1577 tasks      | elapsed:  1.8min\n",
      "[Parallel(n_jobs=5)]: Done 1626 tasks      | elapsed:  1.9min\n",
      "[Parallel(n_jobs=5)]: Done 1677 tasks      | elapsed:  2.0min\n",
      "[Parallel(n_jobs=5)]: Done 1728 tasks      | elapsed:  2.1min\n",
      "[Parallel(n_jobs=5)]: Done 1781 tasks      | elapsed:  2.2min\n",
      "[Parallel(n_jobs=5)]: Done 1834 tasks      | elapsed:  2.3min\n",
      "[Parallel(n_jobs=5)]: Done 1889 tasks      | elapsed:  2.4min\n",
      "[Parallel(n_jobs=5)]: Done 1944 tasks      | elapsed:  2.6min\n",
      "[Parallel(n_jobs=5)]: Done 2001 tasks      | elapsed:  2.7min\n",
      "[Parallel(n_jobs=5)]: Done 2058 tasks      | elapsed:  2.8min\n",
      "[Parallel(n_jobs=5)]: Done 2117 tasks      | elapsed:  3.0min\n",
      "[Parallel(n_jobs=5)]: Done 2176 tasks      | elapsed:  3.1min\n",
      "[Parallel(n_jobs=5)]: Done 2237 tasks      | elapsed:  3.3min\n",
      "[Parallel(n_jobs=5)]: Done 2298 tasks      | elapsed:  3.4min\n",
      "[Parallel(n_jobs=5)]: Done 2361 tasks      | elapsed:  3.6min\n",
      "[Parallel(n_jobs=5)]: Done 2424 tasks      | elapsed:  3.8min\n",
      "[Parallel(n_jobs=5)]: Done 2489 tasks      | elapsed:  3.9min\n",
      "[Parallel(n_jobs=5)]: Done 2554 tasks      | elapsed:  4.1min\n",
      "[Parallel(n_jobs=5)]: Done 2621 tasks      | elapsed:  4.3min\n",
      "[Parallel(n_jobs=5)]: Done 2688 tasks      | elapsed:  4.5min\n",
      "[Parallel(n_jobs=5)]: Done 2757 tasks      | elapsed:  4.7min\n",
      "[Parallel(n_jobs=5)]: Done 2826 tasks      | elapsed:  4.9min\n",
      "[Parallel(n_jobs=5)]: Done 2880 out of 2880 | elapsed:  5.1min finished\n"
     ]
    }
   ],
   "source": [
    "#Import Random Forest Model\n",
    "from sklearn.ensemble import RandomForestClassifier\n",
    "\n",
    "#Create a Gaussian Classifier\n",
    "clf=RandomForestClassifier()\n",
    "\n",
    "param_grid = {\n",
    "                 'n_estimators': [5, 15, 30, 90, 100, 200],\n",
    "                 'max_depth': [1, 2,3, 5, 7, 9, 11, 13],\n",
    "                 'class_weight':[\"balanced\"],\n",
    "                 'min_samples_leaf': [2, 3, 4, 5, 7, 9]\n",
    "             }\n",
    "\n",
    "param_grid2 = {\n",
    "                 'n_estimators': [85, 90, 95],\n",
    "                 'max_depth': [3, 4, 5],\n",
    "                 'min_samples_leaf': [7] #5\n",
    "             }\n",
    "\n",
    "from sklearn.model_selection import GridSearchCV\n",
    "\n",
    "grid_clf = GridSearchCV(clf, param_grid, cv=10, verbose=10, n_jobs=5, scoring='balanced_accuracy')\n",
    "grid_clf.fit(X_train, y_train)\n",
    "\n",
    "#Train the model using the training sets y_pred=clf.predict(X_test)\n",
    "#clf.fit(X_train,y_train)\n",
    "\n",
    "y_pred=grid_clf.predict(X_test)"
   ]
  },
  {
   "cell_type": "code",
   "execution_count": 40,
   "metadata": {},
   "outputs": [],
   "source": [
    "y_pred=grid_clf.predict(X_test)"
   ]
  },
  {
   "cell_type": "code",
   "execution_count": 41,
   "metadata": {},
   "outputs": [
    {
     "name": "stdout",
     "output_type": "stream",
     "text": [
      "Accuracy: 0.670377541142304\n"
     ]
    }
   ],
   "source": [
    "#Import scikit-learn metrics module for accuracy calculation\n",
    "from sklearn import metrics\n",
    "# Model Accuracy, how often is the classifier correct?\n",
    "print(\"Accuracy:\",metrics.accuracy_score(y_test, y_pred))"
   ]
  },
  {
   "cell_type": "code",
   "execution_count": 42,
   "metadata": {},
   "outputs": [
    {
     "name": "stdout",
     "output_type": "stream",
     "text": [
      "Average precision-recall score: 0.27\n"
     ]
    }
   ],
   "source": [
    "#grid_clf.best_params_\n",
    "#{'max_depth': 1, 'n_estimators': 5}\n",
    "from sklearn.metrics import average_precision_score\n",
    "average_precision = average_precision_score(y_test, y_pred)\n",
    "\n",
    "print('Average precision-recall score: {0:0.2f}'.format(\n",
    "      average_precision))"
   ]
  },
  {
   "cell_type": "code",
   "execution_count": 43,
   "metadata": {},
   "outputs": [
    {
     "data": {
      "text/plain": [
       "{'class_weight': 'balanced',\n",
       " 'max_depth': 5,\n",
       " 'min_samples_leaf': 9,\n",
       " 'n_estimators': 30}"
      ]
     },
     "execution_count": 43,
     "metadata": {},
     "output_type": "execute_result"
    }
   ],
   "source": [
    "grid_clf.best_params_"
   ]
  },
  {
   "cell_type": "code",
   "execution_count": 44,
   "metadata": {},
   "outputs": [
    {
     "data": {
      "text/plain": [
       "(1132, 573, 108, 253)"
      ]
     },
     "execution_count": 44,
     "metadata": {},
     "output_type": "execute_result"
    }
   ],
   "source": [
    "from sklearn.metrics import confusion_matrix\n",
    "tn, fp, fn, tp = confusion_matrix(y_test, y_pred).ravel()\n",
    "(tn, fp, fn, tp)"
   ]
  },
  {
   "cell_type": "code",
   "execution_count": 55,
   "metadata": {},
   "outputs": [],
   "source": [
    "clf=RandomForestClassifier(random_state=42,class_weight='balanced',max_depth=7, min_samples_leaf=2, n_estimators=200)\n",
    "\n",
    "clf.fit(X_train, y_train)\n",
    "y_pred=clf.predict(X_test)"
   ]
  },
  {
   "cell_type": "code",
   "execution_count": 56,
   "metadata": {},
   "outputs": [
    {
     "name": "stdout",
     "output_type": "stream",
     "text": [
      "Accuracy: 0.702323330106486\n"
     ]
    }
   ],
   "source": [
    "#Import scikit-learn metrics module for accuracy calculation\n",
    "from sklearn import metrics\n",
    "# Model Accuracy, how often is the classifier correct?\n",
    "print(\"Accuracy:\",metrics.accuracy_score(y_test, y_pred))"
   ]
  },
  {
   "cell_type": "code",
   "execution_count": 57,
   "metadata": {},
   "outputs": [
    {
     "data": {
      "text/plain": [
       "(1222, 483, 132, 229)"
      ]
     },
     "execution_count": 57,
     "metadata": {},
     "output_type": "execute_result"
    }
   ],
   "source": [
    "from sklearn.metrics import confusion_matrix\n",
    "tn, fp, fn, tp = confusion_matrix(y_test, y_pred).ravel()\n",
    "(tn, fp, fn, tp)"
   ]
  },
  {
   "cell_type": "code",
   "execution_count": 58,
   "metadata": {},
   "outputs": [
    {
     "data": {
      "text/plain": [
       "0.32162921348314605"
      ]
     },
     "execution_count": 58,
     "metadata": {},
     "output_type": "execute_result"
    }
   ],
   "source": [
    "#Precision\n",
    "tp/(tp+fp)"
   ]
  },
  {
   "cell_type": "code",
   "execution_count": 59,
   "metadata": {},
   "outputs": [
    {
     "data": {
      "text/plain": [
       "0.6343490304709142"
      ]
     },
     "execution_count": 59,
     "metadata": {},
     "output_type": "execute_result"
    }
   ],
   "source": [
    "#Recall\n",
    "tp/(tp+fn)"
   ]
  },
  {
   "cell_type": "code",
   "execution_count": 60,
   "metadata": {},
   "outputs": [
    {
     "name": "stdout",
     "output_type": "stream",
     "text": [
      "Average precision-recall score: 0.27\n"
     ]
    }
   ],
   "source": [
    "#grid_clf.best_params_\n",
    "#{'max_depth': 1, 'n_estimators': 5}\n",
    "from sklearn.metrics import average_precision_score\n",
    "average_precision = average_precision_score(y_test, y_pred)\n",
    "\n",
    "print('Average precision-recall score: {0:0.2f}'.format(\n",
    "      average_precision))"
   ]
  },
  {
   "cell_type": "markdown",
   "metadata": {},
   "source": [
    "### 2.2. Wichtige Features für Klassifikationsentscheidung"
   ]
  },
  {
   "cell_type": "code",
   "execution_count": 61,
   "metadata": {},
   "outputs": [],
   "source": [
    "feature_imp = pd.Series(clf.feature_importances_, index= X_train.columns).sort_values(ascending=False)"
   ]
  },
  {
   "cell_type": "code",
   "execution_count": 62,
   "metadata": {
    "scrolled": true
   },
   "outputs": [
    {
     "data": {
      "text/plain": [
       "FATAL_CRASH_BY_DTV                                                            0.272540\n",
       "UART_Value__Zusammenstoß mit vorausfahrendem / wartendem Fahrzeug             0.088219\n",
       "UTYP1_Value__Überschreitenunfall                                              0.048510\n",
       "IstKrad                                                                       0.040284\n",
       "CRASH_BY_DTV                                                                  0.038845\n",
       "UTYP1_Value__Unfall im Längsverkehr                                           0.037111\n",
       "ANTEIL_KRAD                                                                   0.029923\n",
       "UART_Value__Zusammenstoß zwischen Fahrzeug und Fußgänger                      0.028445\n",
       "IstFuss                                                                       0.027163\n",
       "ANTEIL_REISEBUSSE                                                             0.026292\n",
       "UGEMEINDE_AVG_TARGET                                                          0.025965\n",
       "ANTEIL_LKW                                                                    0.025239\n",
       "DTV                                                                           0.024215\n",
       "UKREIS_AVG_TARGET                                                             0.023596\n",
       "ANTEIL_PKW                                                                    0.022385\n",
       "ANTEIL_LIEFERWAGEN                                                            0.020118\n",
       "USTUNDE                                                                       0.019359\n",
       "ANTEIL_LINIENBUSSE                                                            0.019323\n",
       "UTYP1_Value__Fahrunfall                                                       0.015070\n",
       "UMONAT                                                                        0.014110\n",
       "UKREIS                                                                        0.013680\n",
       "UGEMEINDE                                                                     0.013535\n",
       "IstRad                                                                        0.013157\n",
       "IstPKW                                                                        0.006715\n",
       "UART_Value__Zusammenstoß mit einbiegendem / kreuzendem Fahrzeug               0.006567\n",
       "UWOCHENTAG_Value__Sonntag                                                     0.005720\n",
       "UTYP1_Value__Abbiegeunfall                                                    0.005671\n",
       "WERT_VES                                                                      0.005473\n",
       "ULICHTVERH_Value__Dunkelheit                                                  0.005050\n",
       "ULICHTVERH_Value__Tageslicht                                                  0.004968\n",
       "                                                                                ...   \n",
       "UTYP1_Value__Einbiegen / Kreuzen-Unfall                                       0.003605\n",
       "UART_Value__Abkommen von Fahrbahn nach rechts                                 0.003525\n",
       "NUTZUNG__M1 - Kerngebiet                                                      0.003488\n",
       "UWOCHENTAG_Value__Dienstag                                                    0.002872\n",
       "GESLAERM__mittel                                                              0.002737\n",
       "STRZUSTAND_Value__nass/feucht/schlüpfrig                                      0.002716\n",
       "IstSonstige                                                                   0.002633\n",
       "STRZUSTAND_Value__trocken                                                     0.002629\n",
       "UWOCHENTAG_Value__Freitag                                                     0.002622\n",
       "GESLAERM__hoch                                                                0.002516\n",
       "UART_Value__Abkommen von Fahrbahn nach links                                  0.002470\n",
       "UWOCHENTAG_Value__Donnerstag                                                  0.002406\n",
       "GESLAERM__sehr hoch                                                           0.002173\n",
       "UWOCHENTAG_Value__Samstag                                                     0.002135\n",
       "UWOCHENTAG_Value__Montag                                                      0.001941\n",
       "UWOCHENTAG_Value__Mittwoch                                                    0.001892\n",
       "NUTZUNG__M2 - Mischgebiet                                                     0.001759\n",
       "NUTZUNG__G - Gewerbe                                                          0.001668\n",
       "UTYP1_Value__Unfall durch ruhenden Verkehr                                    0.001620\n",
       "GESLAERM__niedrig - sehr niedrig                                              0.001426\n",
       "ULICHTVERH_Value__Dämmerung                                                   0.001209\n",
       "UART_Value__Zusammenstoß mit anfahrendem / anhaltendem / ruhendem Fahrzeug    0.001200\n",
       "NUTZUNG__F - Forstflächen                                                     0.001177\n",
       "NUTZUNG__LW-A - Acker                                                         0.001084\n",
       "NUTZUNG__GB - Gemeinbedarf                                                    0.000855\n",
       "UART_Value__Zusammenstoß mit entgegenkommendem Fahrzeug                       0.000357\n",
       "STRZUSTAND_Value__winterglatt                                                 0.000241\n",
       "NUTZUNG__Gp - Gewerbe produzierend                                            0.000058\n",
       "UART_Value__Aufprall auf Fahrbahnhindernis                                    0.000018\n",
       "NUTZUNG__LW-GR - Grünland                                                     0.000000\n",
       "Length: 64, dtype: float64"
      ]
     },
     "execution_count": 62,
     "metadata": {},
     "output_type": "execute_result"
    }
   ],
   "source": [
    "feature_imp"
   ]
  },
  {
   "cell_type": "code",
   "execution_count": 68,
   "metadata": {},
   "outputs": [
    {
     "data": {
      "text/plain": [
       "ANTEIL_REISEBUSSE     0.520835\n",
       "CRASH_BY_DTV          0.980538\n",
       "FATAL_CRASH_BY_DTV    1.000000\n",
       "Name: FATAL_CRASH_BY_DTV, dtype: float64"
      ]
     },
     "execution_count": 68,
     "metadata": {},
     "output_type": "execute_result"
    }
   ],
   "source": [
    "corr_matrix = crash_data_copy.corr()\n",
    "corr_matrix[corr_matrix[\"FATAL_CRASH_BY_DTV\"] > 0.1][\"FATAL_CRASH_BY_DTV\"]"
   ]
  },
  {
   "cell_type": "code",
   "execution_count": null,
   "metadata": {},
   "outputs": [],
   "source": []
  }
 ],
 "metadata": {
  "kernelspec": {
   "display_name": "Python 3",
   "language": "python",
   "name": "python3"
  },
  "language_info": {
   "codemirror_mode": {
    "name": "ipython",
    "version": 3
   },
   "file_extension": ".py",
   "mimetype": "text/x-python",
   "name": "python",
   "nbconvert_exporter": "python",
   "pygments_lexer": "ipython3",
   "version": "3.7.3"
  }
 },
 "nbformat": 4,
 "nbformat_minor": 2
}
