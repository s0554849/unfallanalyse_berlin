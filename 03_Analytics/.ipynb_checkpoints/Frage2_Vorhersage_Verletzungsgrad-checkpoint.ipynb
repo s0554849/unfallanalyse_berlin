{
 "cells": [
  {
   "cell_type": "markdown",
   "metadata": {},
   "source": [
    "<h1>Vorhersage, ob es bei einem Unfall Schwerverletzte/Tote gibt</h1>"
   ]
  },
  {
   "cell_type": "code",
   "execution_count": 1,
   "metadata": {},
   "outputs": [],
   "source": [
    "import geopandas as gpd\n",
    "import pandas as pd\n",
    "import numpy as np\n",
    "pd.options.display.max_columns = None\n",
    "crash_data = gpd.read_file('../01_Source/consolidatedDataSet.geojson') "
   ]
  },
  {
   "cell_type": "markdown",
   "metadata": {},
   "source": [
    "## 1. Vorbereitung des Datensatzes"
   ]
  },
  {
   "cell_type": "markdown",
   "metadata": {},
   "source": [
    "### 1.1 Vorbereitung der Datenbasis für die konkrete Verarbeitung"
   ]
  },
  {
   "cell_type": "code",
   "execution_count": 2,
   "metadata": {},
   "outputs": [],
   "source": [
    "crash_data = crash_data.drop([\"ULAND\",\"UREGBEZ\",\"UJAHR\",\"LINREFX\",\"LINREFY\",\"METER\",\"EW2010\",\"GFZ\",\"HERKUNFT\",\"NAME\",\"KNAME\",\"PLR_NAME\",\n",
    "                              \"VBUS\",\"VBUS_PERS\",\"GESLAERM_PERS\",\"GEMEINDE\",\"BEZIRK\",\"ANWERT\",\"VERFAHRENSART\",\"STICHTAG\",\"BEITRAGSZUSTAND\",\"LUMNUM\",\"ELEM_NR\",\"VRICHT_TXT\",\"ZEIT_T\",\"TAG_T\"\n",
    "                             ,\"DURCH_T\",\"DANN_T\",\"DAT_T\",\"LAT\",\"LON\",\"formatted_address\",\"address_components\",\"street_number\",\"route\",\"postal_code\",\"sublocality\",\"BRW\",\"UART\",\"UWOCHENTAG\",\"ULICHTVERH\",\"UTYP1\",\"STRZUSTAND\"], axis=1)\n",
    "crash_data = crash_data.drop([\"OBJECTID\",\"STR_NAME\"], axis=1)"
   ]
  },
  {
   "cell_type": "code",
   "execution_count": 3,
   "metadata": {},
   "outputs": [
    {
     "data": {
      "text/html": [
       "<div>\n",
       "<style scoped>\n",
       "    .dataframe tbody tr th:only-of-type {\n",
       "        vertical-align: middle;\n",
       "    }\n",
       "\n",
       "    .dataframe tbody tr th {\n",
       "        vertical-align: top;\n",
       "    }\n",
       "\n",
       "    .dataframe thead th {\n",
       "        text-align: right;\n",
       "    }\n",
       "</style>\n",
       "<table border=\"1\" class=\"dataframe\">\n",
       "  <thead>\n",
       "    <tr style=\"text-align: right;\">\n",
       "      <th></th>\n",
       "      <th>UKREIS</th>\n",
       "      <th>UGEMEINDE</th>\n",
       "      <th>UMONAT</th>\n",
       "      <th>USTUNDE</th>\n",
       "      <th>IstRad</th>\n",
       "      <th>IstPKW</th>\n",
       "      <th>IstFuss</th>\n",
       "      <th>IstKrad</th>\n",
       "      <th>IstGkfz</th>\n",
       "      <th>IstSonstige</th>\n",
       "      <th>DTV</th>\n",
       "      <th>GESLAERM</th>\n",
       "      <th>NUTZUNG</th>\n",
       "      <th>WERT_VES</th>\n",
       "      <th>TARGET</th>\n",
       "      <th>UART_Value</th>\n",
       "      <th>UWOCHENTAG_Value</th>\n",
       "      <th>ULICHTVERH_Value</th>\n",
       "      <th>UTYP1_Value</th>\n",
       "      <th>STRZUSTAND_Value</th>\n",
       "      <th>ANTEIL_PKW</th>\n",
       "      <th>ANTEIL_LKW</th>\n",
       "      <th>ANTEIL_LIEFERWAGEN</th>\n",
       "      <th>ANTEIL_LINIENBUSSE</th>\n",
       "      <th>ANTEIL_REISEBUSSE</th>\n",
       "      <th>ANTEIL_KRAD</th>\n",
       "      <th>UKREIS_AVG_TARGET</th>\n",
       "      <th>UGEMEINDE_AVG_TARGET</th>\n",
       "      <th>CRASH_BY_DTV</th>\n",
       "      <th>FATAL_CRASH_BY_DTV</th>\n",
       "      <th>Indicator</th>\n",
       "      <th>geometry</th>\n",
       "    </tr>\n",
       "  </thead>\n",
       "  <tbody>\n",
       "    <tr>\n",
       "      <th>0</th>\n",
       "      <td>10</td>\n",
       "      <td>10</td>\n",
       "      <td>3</td>\n",
       "      <td>11</td>\n",
       "      <td>0</td>\n",
       "      <td>1</td>\n",
       "      <td>0</td>\n",
       "      <td>0</td>\n",
       "      <td>0</td>\n",
       "      <td>0</td>\n",
       "      <td>19575.767816</td>\n",
       "      <td>mittel</td>\n",
       "      <td>W - Wohngebiet</td>\n",
       "      <td>30.0</td>\n",
       "      <td>0</td>\n",
       "      <td>Zusammenstoß mit einbiegendem / kreuzendem Fah...</td>\n",
       "      <td>Donnerstag</td>\n",
       "      <td>Tageslicht</td>\n",
       "      <td>Einbiegen / Kreuzen-Unfall</td>\n",
       "      <td>trocken</td>\n",
       "      <td>82.408776</td>\n",
       "      <td>2.762958</td>\n",
       "      <td>2.762958</td>\n",
       "      <td>2.762958</td>\n",
       "      <td>0.400124</td>\n",
       "      <td>2.494525</td>\n",
       "      <td>21.266234</td>\n",
       "      <td>21.266234</td>\n",
       "      <td>5.108</td>\n",
       "      <td>0.000</td>\n",
       "      <td>0.029628</td>\n",
       "      <td>MULTIPOLYGON (((814997.310 5829184.012, 814996...</td>\n",
       "    </tr>\n",
       "    <tr>\n",
       "      <th>1</th>\n",
       "      <td>10</td>\n",
       "      <td>10</td>\n",
       "      <td>1</td>\n",
       "      <td>18</td>\n",
       "      <td>0</td>\n",
       "      <td>1</td>\n",
       "      <td>0</td>\n",
       "      <td>0</td>\n",
       "      <td>0</td>\n",
       "      <td>0</td>\n",
       "      <td>6108.000000</td>\n",
       "      <td>mittel</td>\n",
       "      <td>W - Wohngebiet</td>\n",
       "      <td>30.0</td>\n",
       "      <td>0</td>\n",
       "      <td>Zusammenstoß mit einbiegendem / kreuzendem Fah...</td>\n",
       "      <td>Montag</td>\n",
       "      <td>Dunkelheit</td>\n",
       "      <td>Einbiegen / Kreuzen-Unfall</td>\n",
       "      <td>trocken</td>\n",
       "      <td>81.777996</td>\n",
       "      <td>3.601834</td>\n",
       "      <td>10.216110</td>\n",
       "      <td>2.619515</td>\n",
       "      <td>0.261952</td>\n",
       "      <td>1.522593</td>\n",
       "      <td>21.266234</td>\n",
       "      <td>21.266234</td>\n",
       "      <td>153.846</td>\n",
       "      <td>51.282</td>\n",
       "      <td>0.148718</td>\n",
       "      <td>MULTIPOLYGON (((814885.204 5830057.780, 814884...</td>\n",
       "    </tr>\n",
       "    <tr>\n",
       "      <th>2</th>\n",
       "      <td>10</td>\n",
       "      <td>10</td>\n",
       "      <td>6</td>\n",
       "      <td>7</td>\n",
       "      <td>1</td>\n",
       "      <td>1</td>\n",
       "      <td>0</td>\n",
       "      <td>0</td>\n",
       "      <td>0</td>\n",
       "      <td>0</td>\n",
       "      <td>19575.767816</td>\n",
       "      <td>niedrig - sehr niedrig</td>\n",
       "      <td>W - Wohngebiet</td>\n",
       "      <td>30.0</td>\n",
       "      <td>1</td>\n",
       "      <td>Zusammenstoß mit einbiegendem / kreuzendem Fah...</td>\n",
       "      <td>Mittwoch</td>\n",
       "      <td>Tageslicht</td>\n",
       "      <td>Einbiegen / Kreuzen-Unfall</td>\n",
       "      <td>trocken</td>\n",
       "      <td>82.408776</td>\n",
       "      <td>2.762958</td>\n",
       "      <td>2.762958</td>\n",
       "      <td>2.762958</td>\n",
       "      <td>0.400124</td>\n",
       "      <td>2.494525</td>\n",
       "      <td>21.266234</td>\n",
       "      <td>21.266234</td>\n",
       "      <td>10.217</td>\n",
       "      <td>5.108</td>\n",
       "      <td>0.029628</td>\n",
       "      <td>MULTIPOLYGON (((814281.955 5828040.742, 814281...</td>\n",
       "    </tr>\n",
       "    <tr>\n",
       "      <th>3</th>\n",
       "      <td>10</td>\n",
       "      <td>10</td>\n",
       "      <td>6</td>\n",
       "      <td>13</td>\n",
       "      <td>0</td>\n",
       "      <td>1</td>\n",
       "      <td>0</td>\n",
       "      <td>0</td>\n",
       "      <td>1</td>\n",
       "      <td>0</td>\n",
       "      <td>19575.767816</td>\n",
       "      <td>mittel</td>\n",
       "      <td>W - Wohngebiet</td>\n",
       "      <td>30.0</td>\n",
       "      <td>0</td>\n",
       "      <td>Zusammenstoß mit einbiegendem / kreuzendem Fah...</td>\n",
       "      <td>Mittwoch</td>\n",
       "      <td>Tageslicht</td>\n",
       "      <td>Einbiegen / Kreuzen-Unfall</td>\n",
       "      <td>trocken</td>\n",
       "      <td>82.408776</td>\n",
       "      <td>2.762958</td>\n",
       "      <td>2.762958</td>\n",
       "      <td>2.762958</td>\n",
       "      <td>0.400124</td>\n",
       "      <td>2.494525</td>\n",
       "      <td>21.266234</td>\n",
       "      <td>21.266234</td>\n",
       "      <td>5.108</td>\n",
       "      <td>0.000</td>\n",
       "      <td>0.029628</td>\n",
       "      <td>MULTIPOLYGON (((814215.008 5830068.156, 814214...</td>\n",
       "    </tr>\n",
       "    <tr>\n",
       "      <th>4</th>\n",
       "      <td>10</td>\n",
       "      <td>10</td>\n",
       "      <td>5</td>\n",
       "      <td>20</td>\n",
       "      <td>0</td>\n",
       "      <td>1</td>\n",
       "      <td>0</td>\n",
       "      <td>0</td>\n",
       "      <td>0</td>\n",
       "      <td>0</td>\n",
       "      <td>3852.000000</td>\n",
       "      <td>mittel</td>\n",
       "      <td>W - Wohngebiet</td>\n",
       "      <td>30.0</td>\n",
       "      <td>0</td>\n",
       "      <td>Zusammenstoß mit einbiegendem / kreuzendem Fah...</td>\n",
       "      <td>Samstag</td>\n",
       "      <td>Dämmerung</td>\n",
       "      <td>Einbiegen / Kreuzen-Unfall</td>\n",
       "      <td>trocken</td>\n",
       "      <td>81.178609</td>\n",
       "      <td>2.777778</td>\n",
       "      <td>10.202492</td>\n",
       "      <td>3.894081</td>\n",
       "      <td>0.415369</td>\n",
       "      <td>1.531672</td>\n",
       "      <td>21.266234</td>\n",
       "      <td>21.266234</td>\n",
       "      <td>153.846</td>\n",
       "      <td>51.282</td>\n",
       "      <td>0.148718</td>\n",
       "      <td>MULTIPOLYGON (((814765.428 5829893.128, 814764...</td>\n",
       "    </tr>\n",
       "  </tbody>\n",
       "</table>\n",
       "</div>"
      ],
      "text/plain": [
       "   UKREIS  UGEMEINDE  UMONAT  USTUNDE  IstRad  IstPKW  IstFuss  IstKrad  \\\n",
       "0      10         10       3       11       0       1        0        0   \n",
       "1      10         10       1       18       0       1        0        0   \n",
       "2      10         10       6        7       1       1        0        0   \n",
       "3      10         10       6       13       0       1        0        0   \n",
       "4      10         10       5       20       0       1        0        0   \n",
       "\n",
       "   IstGkfz  IstSonstige           DTV                GESLAERM         NUTZUNG  \\\n",
       "0        0            0  19575.767816                  mittel  W - Wohngebiet   \n",
       "1        0            0   6108.000000                  mittel  W - Wohngebiet   \n",
       "2        0            0  19575.767816  niedrig - sehr niedrig  W - Wohngebiet   \n",
       "3        1            0  19575.767816                  mittel  W - Wohngebiet   \n",
       "4        0            0   3852.000000                  mittel  W - Wohngebiet   \n",
       "\n",
       "   WERT_VES  TARGET                                         UART_Value  \\\n",
       "0      30.0       0  Zusammenstoß mit einbiegendem / kreuzendem Fah...   \n",
       "1      30.0       0  Zusammenstoß mit einbiegendem / kreuzendem Fah...   \n",
       "2      30.0       1  Zusammenstoß mit einbiegendem / kreuzendem Fah...   \n",
       "3      30.0       0  Zusammenstoß mit einbiegendem / kreuzendem Fah...   \n",
       "4      30.0       0  Zusammenstoß mit einbiegendem / kreuzendem Fah...   \n",
       "\n",
       "  UWOCHENTAG_Value ULICHTVERH_Value                 UTYP1_Value  \\\n",
       "0       Donnerstag       Tageslicht  Einbiegen / Kreuzen-Unfall   \n",
       "1           Montag       Dunkelheit  Einbiegen / Kreuzen-Unfall   \n",
       "2         Mittwoch       Tageslicht  Einbiegen / Kreuzen-Unfall   \n",
       "3         Mittwoch       Tageslicht  Einbiegen / Kreuzen-Unfall   \n",
       "4          Samstag        Dämmerung  Einbiegen / Kreuzen-Unfall   \n",
       "\n",
       "  STRZUSTAND_Value  ANTEIL_PKW  ANTEIL_LKW  ANTEIL_LIEFERWAGEN  \\\n",
       "0          trocken   82.408776    2.762958            2.762958   \n",
       "1          trocken   81.777996    3.601834           10.216110   \n",
       "2          trocken   82.408776    2.762958            2.762958   \n",
       "3          trocken   82.408776    2.762958            2.762958   \n",
       "4          trocken   81.178609    2.777778           10.202492   \n",
       "\n",
       "   ANTEIL_LINIENBUSSE  ANTEIL_REISEBUSSE  ANTEIL_KRAD  UKREIS_AVG_TARGET  \\\n",
       "0            2.762958           0.400124     2.494525          21.266234   \n",
       "1            2.619515           0.261952     1.522593          21.266234   \n",
       "2            2.762958           0.400124     2.494525          21.266234   \n",
       "3            2.762958           0.400124     2.494525          21.266234   \n",
       "4            3.894081           0.415369     1.531672          21.266234   \n",
       "\n",
       "   UGEMEINDE_AVG_TARGET  CRASH_BY_DTV  FATAL_CRASH_BY_DTV  Indicator  \\\n",
       "0             21.266234         5.108               0.000   0.029628   \n",
       "1             21.266234       153.846              51.282   0.148718   \n",
       "2             21.266234        10.217               5.108   0.029628   \n",
       "3             21.266234         5.108               0.000   0.029628   \n",
       "4             21.266234       153.846              51.282   0.148718   \n",
       "\n",
       "                                            geometry  \n",
       "0  MULTIPOLYGON (((814997.310 5829184.012, 814996...  \n",
       "1  MULTIPOLYGON (((814885.204 5830057.780, 814884...  \n",
       "2  MULTIPOLYGON (((814281.955 5828040.742, 814281...  \n",
       "3  MULTIPOLYGON (((814215.008 5830068.156, 814214...  \n",
       "4  MULTIPOLYGON (((814765.428 5829893.128, 814764...  "
      ]
     },
     "execution_count": 3,
     "metadata": {},
     "output_type": "execute_result"
    }
   ],
   "source": [
    "crash_data.head()"
   ]
  },
  {
   "cell_type": "code",
   "execution_count": 4,
   "metadata": {},
   "outputs": [],
   "source": [
    "\n",
    "\n",
    "#crash_data = crash_data.drop([\"OBJECTID\",\"STR_NAME\"], axis=1)\n",
    "\n",
    "\n",
    "crash_data_copy = crash_data.copy()\n",
    "crash_data_copy = pd.get_dummies(crash_data_copy, columns=[\"UART_Value\"], prefix='UART_Value_')\n",
    "crash_data_copy = pd.get_dummies(crash_data_copy, columns=[\"UWOCHENTAG_Value\"], prefix='UWOCHENTAG_Value_')\n",
    "crash_data_copy = pd.get_dummies(crash_data_copy, columns=[\"UTYP1_Value\"], prefix='UTYP1_Value_')\n",
    "crash_data_copy = pd.get_dummies(crash_data_copy, columns=[\"ULICHTVERH_Value\"], prefix='ULICHTVERH_Value_')\n",
    "crash_data_copy = pd.get_dummies(crash_data_copy, columns=[\"STRZUSTAND_Value\"], prefix='STRZUSTAND_Value_')\n",
    "crash_data_copy = pd.get_dummies(crash_data_copy, columns=[\"NUTZUNG\"], prefix='NUTZUNG_')\n",
    "crash_data_copy = pd.get_dummies(crash_data_copy, columns=[\"GESLAERM\"], prefix='GESLAERM_')\n",
    "\n",
    "#corr_matrix = crash_data_copy.corr()\n",
    "#corr_matrix[\"TARGET\"]\n",
    "crash_data_copy = crash_data_copy.drop([\"geometry\"], axis=1)"
   ]
  },
  {
   "cell_type": "markdown",
   "metadata": {},
   "source": [
    "### 1.2 Train-Test Split"
   ]
  },
  {
   "cell_type": "code",
   "execution_count": 5,
   "metadata": {},
   "outputs": [],
   "source": [
    "# Import train_test_split function\n",
    "from sklearn.model_selection import train_test_split\n",
    "\n",
    "X = crash_data_copy.drop([\"TARGET\"] , axis=1)\n",
    "Y = crash_data_copy[\"TARGET\"]\n",
    "X_train, X_test, y_train, y_test = train_test_split(X,Y, test_size=0.2, random_state=42)\n",
    "from imblearn.over_sampling import SMOTE\n",
    "sm = SMOTE(random_state=12, ratio = 1.0)\n",
    "x_train_res, y_train_res = sm.fit_sample(X_train, y_train)"
   ]
  },
  {
   "cell_type": "markdown",
   "metadata": {},
   "source": [
    "### 2.1 Trainieren und Testen eines RandomForestClassifiers"
   ]
  },
  {
   "cell_type": "code",
   "execution_count": 6,
   "metadata": {},
   "outputs": [
    {
     "data": {
      "text/plain": [
       "0    11433\n",
       "1     2216\n",
       "Name: TARGET, dtype: int64"
      ]
     },
     "execution_count": 6,
     "metadata": {},
     "output_type": "execute_result"
    }
   ],
   "source": [
    "crash_data_copy[\"TARGET\"].value_counts()"
   ]
  },
  {
   "cell_type": "code",
   "execution_count": 7,
   "metadata": {},
   "outputs": [
    {
     "data": {
      "text/plain": [
       "0.806175107145981"
      ]
     },
     "execution_count": 7,
     "metadata": {},
     "output_type": "execute_result"
    }
   ],
   "source": [
    "(11433-2216)/11433"
   ]
  },
  {
   "cell_type": "code",
   "execution_count": 50,
   "metadata": {},
   "outputs": [
    {
     "name": "stdout",
     "output_type": "stream",
     "text": [
      "Fitting 10 folds for each of 288 candidates, totalling 2880 fits\n"
     ]
    },
    {
     "name": "stderr",
     "output_type": "stream",
     "text": [
      "[Parallel(n_jobs=5)]: Using backend LokyBackend with 5 concurrent workers.\n",
      "[Parallel(n_jobs=5)]: Done   3 tasks      | elapsed:    1.6s\n",
      "[Parallel(n_jobs=5)]: Done   8 tasks      | elapsed:    1.7s\n",
      "[Parallel(n_jobs=5)]: Done  15 tasks      | elapsed:    1.9s\n",
      "[Parallel(n_jobs=5)]: Done  22 tasks      | elapsed:    2.3s\n",
      "[Parallel(n_jobs=5)]: Done  31 tasks      | elapsed:    2.8s\n",
      "[Parallel(n_jobs=5)]: Done  40 tasks      | elapsed:    3.2s\n",
      "[Parallel(n_jobs=5)]: Done  51 tasks      | elapsed:    4.1s\n",
      "[Parallel(n_jobs=5)]: Done  62 tasks      | elapsed:    4.6s\n",
      "[Parallel(n_jobs=5)]: Done  75 tasks      | elapsed:    4.9s\n",
      "[Parallel(n_jobs=5)]: Done  88 tasks      | elapsed:    5.6s\n",
      "[Parallel(n_jobs=5)]: Done 103 tasks      | elapsed:    6.5s\n",
      "[Parallel(n_jobs=5)]: Done 118 tasks      | elapsed:    7.6s\n",
      "[Parallel(n_jobs=5)]: Done 135 tasks      | elapsed:    8.0s\n",
      "[Parallel(n_jobs=5)]: Done 152 tasks      | elapsed:    9.2s\n",
      "[Parallel(n_jobs=5)]: Done 171 tasks      | elapsed:   10.6s\n",
      "[Parallel(n_jobs=5)]: Done 190 tasks      | elapsed:   11.3s\n",
      "[Parallel(n_jobs=5)]: Done 211 tasks      | elapsed:   12.6s\n",
      "[Parallel(n_jobs=5)]: Done 232 tasks      | elapsed:   14.0s\n",
      "[Parallel(n_jobs=5)]: Done 255 tasks      | elapsed:   14.9s\n",
      "[Parallel(n_jobs=5)]: Done 278 tasks      | elapsed:   16.8s\n",
      "[Parallel(n_jobs=5)]: Done 303 tasks      | elapsed:   18.7s\n",
      "[Parallel(n_jobs=5)]: Done 328 tasks      | elapsed:   20.0s\n",
      "[Parallel(n_jobs=5)]: Done 355 tasks      | elapsed:   22.1s\n",
      "[Parallel(n_jobs=5)]: Done 382 tasks      | elapsed:   23.7s\n",
      "[Parallel(n_jobs=5)]: Done 411 tasks      | elapsed:   26.6s\n",
      "[Parallel(n_jobs=5)]: Done 440 tasks      | elapsed:   28.0s\n",
      "[Parallel(n_jobs=5)]: Done 471 tasks      | elapsed:   31.1s\n",
      "[Parallel(n_jobs=5)]: Done 502 tasks      | elapsed:   32.7s\n",
      "[Parallel(n_jobs=5)]: Done 535 tasks      | elapsed:   35.5s\n",
      "[Parallel(n_jobs=5)]: Done 568 tasks      | elapsed:   37.6s\n",
      "[Parallel(n_jobs=5)]: Done 603 tasks      | elapsed:   40.6s\n",
      "[Parallel(n_jobs=5)]: Done 638 tasks      | elapsed:   42.9s\n",
      "[Parallel(n_jobs=5)]: Done 675 tasks      | elapsed:   45.5s\n",
      "[Parallel(n_jobs=5)]: Done 712 tasks      | elapsed:   48.9s\n",
      "[Parallel(n_jobs=5)]: Done 751 tasks      | elapsed:   51.9s\n",
      "[Parallel(n_jobs=5)]: Done 790 tasks      | elapsed:   55.3s\n",
      "[Parallel(n_jobs=5)]: Done 831 tasks      | elapsed:   59.5s\n",
      "[Parallel(n_jobs=5)]: Done 872 tasks      | elapsed:  1.0min\n",
      "[Parallel(n_jobs=5)]: Done 915 tasks      | elapsed:  1.1min\n",
      "[Parallel(n_jobs=5)]: Done 958 tasks      | elapsed:  1.2min\n",
      "[Parallel(n_jobs=5)]: Done 1003 tasks      | elapsed:  1.2min\n",
      "[Parallel(n_jobs=5)]: Done 1048 tasks      | elapsed:  1.3min\n",
      "[Parallel(n_jobs=5)]: Done 1095 tasks      | elapsed:  1.4min\n",
      "[Parallel(n_jobs=5)]: Done 1142 tasks      | elapsed:  1.5min\n",
      "[Parallel(n_jobs=5)]: Done 1191 tasks      | elapsed:  1.6min\n",
      "[Parallel(n_jobs=5)]: Done 1240 tasks      | elapsed:  1.7min\n",
      "[Parallel(n_jobs=5)]: Done 1291 tasks      | elapsed:  1.8min\n",
      "[Parallel(n_jobs=5)]: Done 1342 tasks      | elapsed:  1.8min\n",
      "[Parallel(n_jobs=5)]: Done 1395 tasks      | elapsed:  1.9min\n",
      "[Parallel(n_jobs=5)]: Done 1448 tasks      | elapsed:  2.1min\n",
      "[Parallel(n_jobs=5)]: Done 1503 tasks      | elapsed:  2.2min\n",
      "[Parallel(n_jobs=5)]: Done 1558 tasks      | elapsed:  2.4min\n",
      "[Parallel(n_jobs=5)]: Done 1615 tasks      | elapsed:  2.5min\n",
      "[Parallel(n_jobs=5)]: Done 1672 tasks      | elapsed:  2.6min\n",
      "[Parallel(n_jobs=5)]: Done 1731 tasks      | elapsed:  2.8min\n",
      "[Parallel(n_jobs=5)]: Done 1790 tasks      | elapsed:  2.9min\n",
      "[Parallel(n_jobs=5)]: Done 1851 tasks      | elapsed:  3.1min\n",
      "[Parallel(n_jobs=5)]: Done 1912 tasks      | elapsed:  3.3min\n",
      "[Parallel(n_jobs=5)]: Done 1975 tasks      | elapsed:  3.5min\n",
      "[Parallel(n_jobs=5)]: Done 2038 tasks      | elapsed:  3.7min\n",
      "[Parallel(n_jobs=5)]: Done 2103 tasks      | elapsed:  3.8min\n",
      "[Parallel(n_jobs=5)]: Done 2168 tasks      | elapsed:  4.0min\n",
      "[Parallel(n_jobs=5)]: Done 2235 tasks      | elapsed:  4.2min\n",
      "[Parallel(n_jobs=5)]: Done 2302 tasks      | elapsed:  4.5min\n",
      "[Parallel(n_jobs=5)]: Done 2371 tasks      | elapsed:  4.7min\n",
      "[Parallel(n_jobs=5)]: Done 2440 tasks      | elapsed:  5.0min\n",
      "[Parallel(n_jobs=5)]: Done 2511 tasks      | elapsed:  5.2min\n",
      "[Parallel(n_jobs=5)]: Done 2582 tasks      | elapsed:  5.5min\n",
      "[Parallel(n_jobs=5)]: Done 2655 tasks      | elapsed:  5.7min\n",
      "[Parallel(n_jobs=5)]: Done 2728 tasks      | elapsed:  6.0min\n",
      "[Parallel(n_jobs=5)]: Done 2803 tasks      | elapsed:  6.3min\n",
      "[Parallel(n_jobs=5)]: Done 2880 out of 2880 | elapsed:  6.6min finished\n"
     ]
    }
   ],
   "source": [
    "#Import Random Forest Model\n",
    "from sklearn.ensemble import RandomForestClassifier\n",
    "\n",
    "#Create a Gaussian Classifier\n",
    "clf=RandomForestClassifier()\n",
    "\n",
    "param_grid = {\n",
    "                 'n_estimators': [17, 50, 90, 95, 100, 115],\n",
    "                 'max_depth': [1, 2,3, 5, 7, 9, 11, 13],\n",
    "                 'class_weight':[\"balanced\"],\n",
    "                 'min_samples_leaf': [2, 3, 4, 5, 7, 9]\n",
    "             }\n",
    "\n",
    "param_grid2 = {\n",
    "                 'n_estimators': [85, 90, 95],\n",
    "                 'max_depth': [3, 4, 5],\n",
    "                 'min_samples_leaf': [7] #5\n",
    "             }\n",
    "\n",
    "from sklearn.model_selection import GridSearchCV\n",
    "\n",
    "grid_clf = GridSearchCV(clf, param_grid, cv=10, verbose=10, n_jobs=5, scoring='f1')\n",
    "grid_clf.fit(X_train, y_train)\n",
    "\n",
    "#Train the model using the training sets y_pred=clf.predict(X_test)\n",
    "#clf.fit(X_train,y_train)\n",
    "\n",
    "y_pred=grid_clf.predict(X_test)"
   ]
  },
  {
   "cell_type": "code",
   "execution_count": 51,
   "metadata": {},
   "outputs": [],
   "source": [
    "y_pred=grid_clf.predict(X_test)"
   ]
  },
  {
   "cell_type": "code",
   "execution_count": 52,
   "metadata": {},
   "outputs": [
    {
     "name": "stdout",
     "output_type": "stream",
     "text": [
      "Accuracy: 0.7347985347985349\n"
     ]
    }
   ],
   "source": [
    "#Import scikit-learn metrics module for accuracy calculation\n",
    "from sklearn import metrics\n",
    "# Model Accuracy, how often is the classifier correct?\n",
    "print(\"Accuracy:\",metrics.accuracy_score(y_test, y_pred))"
   ]
  },
  {
   "cell_type": "code",
   "execution_count": 53,
   "metadata": {},
   "outputs": [
    {
     "name": "stdout",
     "output_type": "stream",
     "text": [
      "F1 score: 0.42\n"
     ]
    }
   ],
   "source": [
    "#grid_clf.best_params_\n",
    "#{'max_depth': 1, 'n_estimators': 5}\n",
    "from sklearn.metrics import f1_score\n",
    "f1_score = f1_score(y_test, y_pred)\n",
    "\n",
    "print('F1 score: {0:0.2f}'.format(\n",
    "      f1_score))"
   ]
  },
  {
   "cell_type": "code",
   "execution_count": 54,
   "metadata": {},
   "outputs": [
    {
     "data": {
      "text/plain": [
       "{'class_weight': 'balanced',\n",
       " 'max_depth': 11,\n",
       " 'min_samples_leaf': 9,\n",
       " 'n_estimators': 115}"
      ]
     },
     "execution_count": 54,
     "metadata": {},
     "output_type": "execute_result"
    }
   ],
   "source": [
    "grid_clf.best_params_"
   ]
  },
  {
   "cell_type": "code",
   "execution_count": 55,
   "metadata": {},
   "outputs": [
    {
     "data": {
      "text/plain": [
       "(1745, 540, 184, 261)"
      ]
     },
     "execution_count": 55,
     "metadata": {},
     "output_type": "execute_result"
    }
   ],
   "source": [
    "from sklearn.metrics import confusion_matrix\n",
    "tn, fp, fn, tp = confusion_matrix(y_test, y_pred).ravel()\n",
    "(tn, fp, fn, tp)"
   ]
  },
  {
   "cell_type": "code",
   "execution_count": 57,
   "metadata": {},
   "outputs": [],
   "source": [
    "clf=RandomForestClassifier(random_state=42,class_weight='balanced',max_depth=11, min_samples_leaf=9, n_estimators=115)\n",
    "\n",
    "clf.fit(X_train, y_train)\n",
    "y_pred=clf.predict(X_test)"
   ]
  },
  {
   "cell_type": "code",
   "execution_count": 58,
   "metadata": {},
   "outputs": [
    {
     "name": "stdout",
     "output_type": "stream",
     "text": [
      "Accuracy: 0.7395604395604396\n"
     ]
    }
   ],
   "source": [
    "#Import scikit-learn metrics module for accuracy calculation\n",
    "from sklearn import metrics\n",
    "# Model Accuracy, how often is the classifier correct?\n",
    "print(\"Accuracy:\",metrics.accuracy_score(y_test, y_pred))"
   ]
  },
  {
   "cell_type": "code",
   "execution_count": 59,
   "metadata": {},
   "outputs": [
    {
     "data": {
      "text/plain": [
       "(1766, 519, 192, 253)"
      ]
     },
     "execution_count": 59,
     "metadata": {},
     "output_type": "execute_result"
    }
   ],
   "source": [
    "from sklearn.metrics import confusion_matrix\n",
    "tn, fp, fn, tp = confusion_matrix(y_test, y_pred).ravel()\n",
    "(tn, fp, fn, tp)"
   ]
  },
  {
   "cell_type": "code",
   "execution_count": 60,
   "metadata": {},
   "outputs": [
    {
     "data": {
      "text/plain": [
       "0.327720207253886"
      ]
     },
     "execution_count": 60,
     "metadata": {},
     "output_type": "execute_result"
    }
   ],
   "source": [
    "#Precision\n",
    "tp/(tp+fp)"
   ]
  },
  {
   "cell_type": "code",
   "execution_count": 61,
   "metadata": {},
   "outputs": [
    {
     "data": {
      "text/plain": [
       "0.5685393258426966"
      ]
     },
     "execution_count": 61,
     "metadata": {},
     "output_type": "execute_result"
    }
   ],
   "source": [
    "#Recall\n",
    "tp/(tp+fn)"
   ]
  },
  {
   "cell_type": "markdown",
   "metadata": {},
   "source": [
    "### 2.2. Wichtige Features für Klassifikationsentscheidung"
   ]
  },
  {
   "cell_type": "code",
   "execution_count": 62,
   "metadata": {},
   "outputs": [],
   "source": [
    "feature_imp = pd.Series(clf.feature_importances_, index= X_train.columns).sort_values(ascending=False)"
   ]
  },
  {
   "cell_type": "code",
   "execution_count": 63,
   "metadata": {
    "scrolled": true
   },
   "outputs": [
    {
     "data": {
      "text/plain": [
       "FATAL_CRASH_BY_DTV                                                               0.295460\n",
       "CRASH_BY_DTV                                                                     0.054806\n",
       "UART_Value__Zusammenstoß mit vorausfahrendem / wartendem Fahrzeug                0.046143\n",
       "ANTEIL_KRAD                                                                      0.036820\n",
       "ANTEIL_LIEFERWAGEN                                                               0.034391\n",
       "UTYP1_Value__Überschreitenunfall                                                 0.031288\n",
       "ANTEIL_REISEBUSSE                                                                0.031048\n",
       "ANTEIL_PKW                                                                       0.030446\n",
       "ANTEIL_LKW                                                                       0.030401\n",
       "Indicator                                                                        0.028716\n",
       "DTV                                                                              0.027695\n",
       "ANTEIL_LINIENBUSSE                                                               0.025024\n",
       "USTUNDE                                                                          0.023948\n",
       "IstKrad                                                                          0.022290\n",
       "UTYP1_Value__Unfall im Längsverkehr                                              0.020579\n",
       "UMONAT                                                                           0.018996\n",
       "UGEMEINDE_AVG_TARGET                                                             0.018572\n",
       "UGEMEINDE                                                                        0.017060\n",
       "UKREIS_AVG_TARGET                                                                0.016656\n",
       "IstFuss                                                                          0.015241\n",
       "UTYP1_Value__Fahrunfall                                                          0.015123\n",
       "UKREIS                                                                           0.014760\n",
       "UART_Value__Zusammenstoß zwischen Fahrzeug und Fußgänger                         0.013820\n",
       "IstPKW                                                                           0.012678\n",
       "IstRad                                                                           0.011526\n",
       "UART_Value__Zusammenstoß mit einbiegendem / kreuzendem Fahrzeug                  0.006835\n",
       "UTYP1_Value__Abbiegeunfall                                                       0.006813\n",
       "WERT_VES                                                                         0.006759\n",
       "GESLAERM__mittel                                                                 0.004682\n",
       "UART_Value__Unbekannt                                                            0.004456\n",
       "                                                                                   ...   \n",
       "UART_Value__Zusammenstoß mit seitlich in gleicher Richtung fahrendem Fahrzeug    0.003368\n",
       "ULICHTVERH_Value__Dunkelheit                                                     0.003352\n",
       "UTYP1_Value__Einbiegen / Kreuzen-Unfall                                          0.003208\n",
       "UWOCHENTAG_Value__Donnerstag                                                     0.003106\n",
       "STRZUSTAND_Value__nass/feucht/schlüpfrig                                         0.003086\n",
       "UTYP1_Value__Unfall durch ruhenden Verkehr                                       0.003084\n",
       "UWOCHENTAG_Value__Samstag                                                        0.002898\n",
       "GESLAERM__hoch                                                                   0.002780\n",
       "UWOCHENTAG_Value__Montag                                                         0.002726\n",
       "UWOCHENTAG_Value__Mittwoch                                                       0.002715\n",
       "STRZUSTAND_Value__trocken                                                        0.002624\n",
       "UWOCHENTAG_Value__Freitag                                                        0.002560\n",
       "UART_Value__Abkommen von Fahrbahn nach rechts                                    0.002382\n",
       "IstSonstige                                                                      0.002276\n",
       "GESLAERM__sehr hoch                                                              0.002211\n",
       "NUTZUNG__M1 - Kerngebiet                                                         0.002209\n",
       "UART_Value__Abkommen von Fahrbahn nach links                                     0.001991\n",
       "GESLAERM__niedrig - sehr niedrig                                                 0.001610\n",
       "UART_Value__Zusammenstoß mit anfahrendem / anhaltendem / ruhendem Fahrzeug       0.001495\n",
       "NUTZUNG__G - Gewerbe                                                             0.001422\n",
       "NUTZUNG__M2 - Mischgebiet                                                        0.001007\n",
       "ULICHTVERH_Value__Dämmerung                                                      0.000862\n",
       "NUTZUNG__F - Forstflächen                                                        0.000300\n",
       "UART_Value__Zusammenstoß mit entgegenkommendem Fahrzeug                          0.000285\n",
       "NUTZUNG__GB - Gemeinbedarf                                                       0.000156\n",
       "STRZUSTAND_Value__winterglatt                                                    0.000010\n",
       "NUTZUNG__Gp - Gewerbe produzierend                                               0.000000\n",
       "NUTZUNG__LW-A - Acker                                                            0.000000\n",
       "NUTZUNG__LW-GR - Grünland                                                        0.000000\n",
       "UART_Value__Aufprall auf Fahrbahnhindernis                                       0.000000\n",
       "Length: 66, dtype: float64"
      ]
     },
     "execution_count": 63,
     "metadata": {},
     "output_type": "execute_result"
    }
   ],
   "source": [
    "feature_imp"
   ]
  },
  {
   "cell_type": "code",
   "execution_count": null,
   "metadata": {},
   "outputs": [],
   "source": []
  },
  {
   "cell_type": "code",
   "execution_count": null,
   "metadata": {},
   "outputs": [],
   "source": []
  }
 ],
 "metadata": {
  "kernelspec": {
   "display_name": "Python 3",
   "language": "python",
   "name": "python3"
  },
  "language_info": {
   "codemirror_mode": {
    "name": "ipython",
    "version": 3
   },
   "file_extension": ".py",
   "mimetype": "text/x-python",
   "name": "python",
   "nbconvert_exporter": "python",
   "pygments_lexer": "ipython3",
   "version": "3.7.3"
  }
 },
 "nbformat": 4,
 "nbformat_minor": 2
}
