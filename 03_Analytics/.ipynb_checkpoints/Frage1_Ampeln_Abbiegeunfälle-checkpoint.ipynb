{
 "cells": [
  {
   "cell_type": "markdown",
   "metadata": {},
   "source": [
    "<h1>Fragen</h1>\n",
    "<h2>Helfen Ampeln bei der Reduktion von Abbiege und Kreuzungsunfällen?</h2>\n",
    "1. Welche Informationen sind notwendig, um diese Frage beantworten zu können? <br/>\n",
    "Abgrenzung Abbiege und Kreuzungsunfälle?<br/>\n",
    "Unfalltyp (technisch UTYP1 )<br/>\n",
    "2 = Abbiegeunfall<br/>\n",
    "3 = Einbiegen / Kreuzen-Unfall<br/>\n",
    "NAHE_AMPEL <br/>\n",
    "0 = False <br/>\n",
    "1 = True <br/>\n",
    "\n",
    "2. Woran erkenne ich, ob/in welchem Maß die Ampel geholfen hat? <br/>\n",
    "Durchschnittliche Anzahl an Unfällen um eine Ampel rum im Vergleich zu Kreuzungen, an denen es keine Ampel gab (Visuelle Erkenntnis) <br/>\n",
    "Warum keine analytische Erkenntnis? --> Notwendige Daten fehlen, um das vergleichen zu können müsste, aber mithilfe von Clustering könnte eine Gruppenbildung vorgenommen werden<br/>\n",
    "Verkehrsmenge auf Straßenabschnitten <br/>\n",
    "Verkehrsmenge auf Straßenabschnitten ggf. Kategorisierung in hohes Verehrsaufkommen, mittleres, niedriges  <br/>\n",
    "Vergleich von Bezirken Anzahl Ampeln je durchschnittliche Verkehrsmenge <br/>\n",
    "Tempolimits einbringen <br/>"
   ]
  },
  {
   "cell_type": "markdown",
   "metadata": {},
   "source": [
    "## 1. Vorbereitung des Datensatzes"
   ]
  },
  {
   "cell_type": "markdown",
   "metadata": {},
   "source": [
    "### 1.1 Generelles Aufbereiten der Datenbasis"
   ]
  },
  {
   "cell_type": "code",
   "execution_count": 1,
   "metadata": {},
   "outputs": [],
   "source": [
    "import geopandas as gpd\n",
    "import pandas as pd\n",
    "import numpy as np\n",
    "pd.options.display.max_columns = None\n",
    "crash_data = gpd.read_file('../01_Source/U_VM_A_L_BRW_TL.geojson') \n",
    "geo_information = pd.read_csv('../01_Source/geo_information.csv', sep=';')"
   ]
  },
  {
   "cell_type": "code",
   "execution_count": 2,
   "metadata": {},
   "outputs": [
    {
     "data": {
      "text/html": [
       "<div>\n",
       "<style scoped>\n",
       "    .dataframe tbody tr th:only-of-type {\n",
       "        vertical-align: middle;\n",
       "    }\n",
       "\n",
       "    .dataframe tbody tr th {\n",
       "        vertical-align: top;\n",
       "    }\n",
       "\n",
       "    .dataframe thead th {\n",
       "        text-align: right;\n",
       "    }\n",
       "</style>\n",
       "<table border=\"1\" class=\"dataframe\">\n",
       "  <thead>\n",
       "    <tr style=\"text-align: right;\">\n",
       "      <th></th>\n",
       "      <th>OBJECTID</th>\n",
       "      <th>ULAND</th>\n",
       "      <th>UREGBEZ</th>\n",
       "      <th>UKREIS</th>\n",
       "      <th>UGEMEINDE</th>\n",
       "      <th>UJAHR</th>\n",
       "      <th>UMONAT</th>\n",
       "      <th>USTUNDE</th>\n",
       "      <th>UWOCHENTAG</th>\n",
       "      <th>UKATEGORIE</th>\n",
       "      <th>UART</th>\n",
       "      <th>UTYP1</th>\n",
       "      <th>ULICHTVERH</th>\n",
       "      <th>IstRad</th>\n",
       "      <th>IstPKW</th>\n",
       "      <th>IstFuss</th>\n",
       "      <th>IstKrad</th>\n",
       "      <th>IstGkfz</th>\n",
       "      <th>IstSonstige</th>\n",
       "      <th>STRZUSTAND</th>\n",
       "      <th>LINREFX</th>\n",
       "      <th>LINREFY</th>\n",
       "      <th>METER</th>\n",
       "      <th>STR_NAME</th>\n",
       "      <th>DTV</th>\n",
       "      <th>PKW</th>\n",
       "      <th>LKW</th>\n",
       "      <th>LIEFERWAGEN</th>\n",
       "      <th>LINIENBUSSE</th>\n",
       "      <th>REISEBUSSE</th>\n",
       "      <th>KRAD</th>\n",
       "      <th>HERKUNFT</th>\n",
       "      <th>NAME</th>\n",
       "      <th>KNAME</th>\n",
       "      <th>PLR_NAME</th>\n",
       "      <th>EW2010</th>\n",
       "      <th>VBUS</th>\n",
       "      <th>VBUS_PERS</th>\n",
       "      <th>GESLAERM</th>\n",
       "      <th>GESLAERM_PERS</th>\n",
       "      <th>GEMEINDE</th>\n",
       "      <th>BEZIRK</th>\n",
       "      <th>ANWERT</th>\n",
       "      <th>BRW</th>\n",
       "      <th>NUTZUNG</th>\n",
       "      <th>GFZ</th>\n",
       "      <th>VERFAHRENSART</th>\n",
       "      <th>STICHTAG</th>\n",
       "      <th>BEITRAGSZUSTAND</th>\n",
       "      <th>LUMNUM</th>\n",
       "      <th>ELEM_NR</th>\n",
       "      <th>VRICHT_TXT</th>\n",
       "      <th>WERT_VES</th>\n",
       "      <th>ZEIT_T</th>\n",
       "      <th>TAG_T</th>\n",
       "      <th>DURCH_T</th>\n",
       "      <th>DANN_T</th>\n",
       "      <th>DAT_T</th>\n",
       "      <th>geometry</th>\n",
       "    </tr>\n",
       "  </thead>\n",
       "  <tbody>\n",
       "    <tr>\n",
       "      <th>0</th>\n",
       "      <td>198728</td>\n",
       "      <td>11</td>\n",
       "      <td>0</td>\n",
       "      <td>10</td>\n",
       "      <td>10</td>\n",
       "      <td>2018</td>\n",
       "      <td>3</td>\n",
       "      <td>11</td>\n",
       "      <td>5</td>\n",
       "      <td>3</td>\n",
       "      <td>5</td>\n",
       "      <td>3</td>\n",
       "      <td>0</td>\n",
       "      <td>0</td>\n",
       "      <td>1</td>\n",
       "      <td>0</td>\n",
       "      <td>0</td>\n",
       "      <td>0</td>\n",
       "      <td>0</td>\n",
       "      <td>0</td>\n",
       "      <td>814987.3095</td>\n",
       "      <td>5.829184e+06</td>\n",
       "      <td>NaN</td>\n",
       "      <td>None</td>\n",
       "      <td>NaN</td>\n",
       "      <td>NaN</td>\n",
       "      <td>NaN</td>\n",
       "      <td>NaN</td>\n",
       "      <td>NaN</td>\n",
       "      <td>NaN</td>\n",
       "      <td>NaN</td>\n",
       "      <td>None</td>\n",
       "      <td>None</td>\n",
       "      <td>None</td>\n",
       "      <td>Mahlsdorf Nord</td>\n",
       "      <td>8818.0</td>\n",
       "      <td>mittel</td>\n",
       "      <td>niedrig - sehr niedrig</td>\n",
       "      <td>mittel</td>\n",
       "      <td>niedrig - sehr niedrig</td>\n",
       "      <td>Berlin</td>\n",
       "      <td>Marzahn-Hellersdorf</td>\n",
       "      <td>None</td>\n",
       "      <td>360</td>\n",
       "      <td>W - Wohngebiet</td>\n",
       "      <td>0.4</td>\n",
       "      <td>None</td>\n",
       "      <td>2019-01-01T00:00:00</td>\n",
       "      <td>Beitragsfrei nach BauGB</td>\n",
       "      <td>[[url]]</td>\n",
       "      <td>62540035_62540036.02</td>\n",
       "      <td>beide Richtungen</td>\n",
       "      <td>30.0</td>\n",
       "      <td>None</td>\n",
       "      <td>None</td>\n",
       "      <td>angeordnete Verkehrseinschränkung</td>\n",
       "      <td>None</td>\n",
       "      <td>None</td>\n",
       "      <td>MULTIPOLYGON (((814997.310 5829184.012, 814996...</td>\n",
       "    </tr>\n",
       "    <tr>\n",
       "      <th>1</th>\n",
       "      <td>196865</td>\n",
       "      <td>11</td>\n",
       "      <td>0</td>\n",
       "      <td>10</td>\n",
       "      <td>10</td>\n",
       "      <td>2018</td>\n",
       "      <td>1</td>\n",
       "      <td>18</td>\n",
       "      <td>2</td>\n",
       "      <td>3</td>\n",
       "      <td>5</td>\n",
       "      <td>3</td>\n",
       "      <td>2</td>\n",
       "      <td>0</td>\n",
       "      <td>1</td>\n",
       "      <td>0</td>\n",
       "      <td>0</td>\n",
       "      <td>0</td>\n",
       "      <td>0</td>\n",
       "      <td>0</td>\n",
       "      <td>814875.2039</td>\n",
       "      <td>5.830058e+06</td>\n",
       "      <td>220.0</td>\n",
       "      <td>Lemkestr.</td>\n",
       "      <td>6108.0</td>\n",
       "      <td>4995.0</td>\n",
       "      <td>220.0</td>\n",
       "      <td>624.0</td>\n",
       "      <td>160.0</td>\n",
       "      <td>16.0</td>\n",
       "      <td>93.0</td>\n",
       "      <td>Modellrechnung 2014, VMZ</td>\n",
       "      <td>None</td>\n",
       "      <td>None</td>\n",
       "      <td>Mahlsdorf Nord</td>\n",
       "      <td>8818.0</td>\n",
       "      <td>mittel</td>\n",
       "      <td>niedrig - sehr niedrig</td>\n",
       "      <td>mittel</td>\n",
       "      <td>niedrig - sehr niedrig</td>\n",
       "      <td>Berlin</td>\n",
       "      <td>Marzahn-Hellersdorf</td>\n",
       "      <td>None</td>\n",
       "      <td>360</td>\n",
       "      <td>W - Wohngebiet</td>\n",
       "      <td>0.4</td>\n",
       "      <td>None</td>\n",
       "      <td>2019-01-01T00:00:00</td>\n",
       "      <td>Beitragsfrei nach BauGB</td>\n",
       "      <td>[[url]]</td>\n",
       "      <td>62550001_62550021.01</td>\n",
       "      <td>beide Richtungen</td>\n",
       "      <td>30.0</td>\n",
       "      <td>07:00 - 17:00</td>\n",
       "      <td>Montag bis Freitag</td>\n",
       "      <td>Kinder</td>\n",
       "      <td>Zeitangabe</td>\n",
       "      <td>None</td>\n",
       "      <td>MULTIPOLYGON (((814885.204 5830057.780, 814884...</td>\n",
       "    </tr>\n",
       "    <tr>\n",
       "      <th>2</th>\n",
       "      <td>202456</td>\n",
       "      <td>11</td>\n",
       "      <td>0</td>\n",
       "      <td>10</td>\n",
       "      <td>10</td>\n",
       "      <td>2018</td>\n",
       "      <td>6</td>\n",
       "      <td>7</td>\n",
       "      <td>4</td>\n",
       "      <td>2</td>\n",
       "      <td>5</td>\n",
       "      <td>3</td>\n",
       "      <td>0</td>\n",
       "      <td>1</td>\n",
       "      <td>1</td>\n",
       "      <td>0</td>\n",
       "      <td>0</td>\n",
       "      <td>0</td>\n",
       "      <td>0</td>\n",
       "      <td>0</td>\n",
       "      <td>814271.9549</td>\n",
       "      <td>5.828041e+06</td>\n",
       "      <td>NaN</td>\n",
       "      <td>None</td>\n",
       "      <td>NaN</td>\n",
       "      <td>NaN</td>\n",
       "      <td>NaN</td>\n",
       "      <td>NaN</td>\n",
       "      <td>NaN</td>\n",
       "      <td>NaN</td>\n",
       "      <td>NaN</td>\n",
       "      <td>None</td>\n",
       "      <td>None</td>\n",
       "      <td>None</td>\n",
       "      <td>Alt-Mahlsdorf</td>\n",
       "      <td>3852.0</td>\n",
       "      <td>niedrig - sehr niedrig</td>\n",
       "      <td>niedrig - sehr niedrig</td>\n",
       "      <td>niedrig - sehr niedrig</td>\n",
       "      <td>mittel</td>\n",
       "      <td>Berlin</td>\n",
       "      <td>Marzahn-Hellersdorf</td>\n",
       "      <td>None</td>\n",
       "      <td>360</td>\n",
       "      <td>W - Wohngebiet</td>\n",
       "      <td>0.4</td>\n",
       "      <td>None</td>\n",
       "      <td>2019-01-01T00:00:00</td>\n",
       "      <td>Beitragsfrei nach BauGB</td>\n",
       "      <td>[[url]]</td>\n",
       "      <td>62530003_62540023.02</td>\n",
       "      <td>beide Richtungen</td>\n",
       "      <td>30.0</td>\n",
       "      <td>None</td>\n",
       "      <td>None</td>\n",
       "      <td>angeordnete Verkehrseinschränkung</td>\n",
       "      <td>None</td>\n",
       "      <td>None</td>\n",
       "      <td>MULTIPOLYGON (((814281.955 5828040.742, 814281...</td>\n",
       "    </tr>\n",
       "    <tr>\n",
       "      <th>3</th>\n",
       "      <td>201726</td>\n",
       "      <td>11</td>\n",
       "      <td>0</td>\n",
       "      <td>10</td>\n",
       "      <td>10</td>\n",
       "      <td>2018</td>\n",
       "      <td>6</td>\n",
       "      <td>13</td>\n",
       "      <td>4</td>\n",
       "      <td>3</td>\n",
       "      <td>5</td>\n",
       "      <td>3</td>\n",
       "      <td>0</td>\n",
       "      <td>0</td>\n",
       "      <td>1</td>\n",
       "      <td>0</td>\n",
       "      <td>0</td>\n",
       "      <td>1</td>\n",
       "      <td>0</td>\n",
       "      <td>0</td>\n",
       "      <td>814205.0080</td>\n",
       "      <td>5.830068e+06</td>\n",
       "      <td>NaN</td>\n",
       "      <td>None</td>\n",
       "      <td>NaN</td>\n",
       "      <td>NaN</td>\n",
       "      <td>NaN</td>\n",
       "      <td>NaN</td>\n",
       "      <td>NaN</td>\n",
       "      <td>NaN</td>\n",
       "      <td>NaN</td>\n",
       "      <td>None</td>\n",
       "      <td>None</td>\n",
       "      <td>None</td>\n",
       "      <td>Mahlsdorf Nord</td>\n",
       "      <td>8818.0</td>\n",
       "      <td>mittel</td>\n",
       "      <td>niedrig - sehr niedrig</td>\n",
       "      <td>mittel</td>\n",
       "      <td>niedrig - sehr niedrig</td>\n",
       "      <td>Berlin</td>\n",
       "      <td>Marzahn-Hellersdorf</td>\n",
       "      <td>None</td>\n",
       "      <td>360</td>\n",
       "      <td>W - Wohngebiet</td>\n",
       "      <td>0.4</td>\n",
       "      <td>None</td>\n",
       "      <td>2019-01-01T00:00:00</td>\n",
       "      <td>Beitragsfrei nach BauGB</td>\n",
       "      <td>[[url]]</td>\n",
       "      <td>62550008_62550009.03</td>\n",
       "      <td>beide Richtungen</td>\n",
       "      <td>30.0</td>\n",
       "      <td>None</td>\n",
       "      <td>None</td>\n",
       "      <td>angeordnete Verkehrseinschränkung</td>\n",
       "      <td>None</td>\n",
       "      <td>None</td>\n",
       "      <td>MULTIPOLYGON (((814215.008 5830068.156, 814214...</td>\n",
       "    </tr>\n",
       "    <tr>\n",
       "      <th>4</th>\n",
       "      <td>200478</td>\n",
       "      <td>11</td>\n",
       "      <td>0</td>\n",
       "      <td>10</td>\n",
       "      <td>10</td>\n",
       "      <td>2018</td>\n",
       "      <td>5</td>\n",
       "      <td>20</td>\n",
       "      <td>7</td>\n",
       "      <td>3</td>\n",
       "      <td>5</td>\n",
       "      <td>3</td>\n",
       "      <td>1</td>\n",
       "      <td>0</td>\n",
       "      <td>1</td>\n",
       "      <td>0</td>\n",
       "      <td>0</td>\n",
       "      <td>0</td>\n",
       "      <td>0</td>\n",
       "      <td>0</td>\n",
       "      <td>814755.4276</td>\n",
       "      <td>5.829893e+06</td>\n",
       "      <td>254.0</td>\n",
       "      <td>Lemkestr.</td>\n",
       "      <td>3852.0</td>\n",
       "      <td>3127.0</td>\n",
       "      <td>107.0</td>\n",
       "      <td>393.0</td>\n",
       "      <td>150.0</td>\n",
       "      <td>16.0</td>\n",
       "      <td>59.0</td>\n",
       "      <td>Modellrechnung 2014, VMZ</td>\n",
       "      <td>None</td>\n",
       "      <td>None</td>\n",
       "      <td>Mahlsdorf Nord</td>\n",
       "      <td>8818.0</td>\n",
       "      <td>mittel</td>\n",
       "      <td>niedrig - sehr niedrig</td>\n",
       "      <td>mittel</td>\n",
       "      <td>niedrig - sehr niedrig</td>\n",
       "      <td>Berlin</td>\n",
       "      <td>Marzahn-Hellersdorf</td>\n",
       "      <td>None</td>\n",
       "      <td>360</td>\n",
       "      <td>W - Wohngebiet</td>\n",
       "      <td>0.4</td>\n",
       "      <td>None</td>\n",
       "      <td>2019-01-01T00:00:00</td>\n",
       "      <td>Beitragsfrei nach BauGB</td>\n",
       "      <td>[[url]]</td>\n",
       "      <td>62550028_62550029.02</td>\n",
       "      <td>beide Richtungen</td>\n",
       "      <td>30.0</td>\n",
       "      <td>None</td>\n",
       "      <td>None</td>\n",
       "      <td>angeordnete Verkehrseinschränkung</td>\n",
       "      <td>None</td>\n",
       "      <td>None</td>\n",
       "      <td>MULTIPOLYGON (((814765.428 5829893.128, 814764...</td>\n",
       "    </tr>\n",
       "  </tbody>\n",
       "</table>\n",
       "</div>"
      ],
      "text/plain": [
       "   OBJECTID  ULAND  UREGBEZ  UKREIS  UGEMEINDE  UJAHR  UMONAT  USTUNDE  \\\n",
       "0    198728     11        0      10         10   2018       3       11   \n",
       "1    196865     11        0      10         10   2018       1       18   \n",
       "2    202456     11        0      10         10   2018       6        7   \n",
       "3    201726     11        0      10         10   2018       6       13   \n",
       "4    200478     11        0      10         10   2018       5       20   \n",
       "\n",
       "   UWOCHENTAG  UKATEGORIE  UART  UTYP1  ULICHTVERH  IstRad  IstPKW  IstFuss  \\\n",
       "0           5           3     5      3           0       0       1        0   \n",
       "1           2           3     5      3           2       0       1        0   \n",
       "2           4           2     5      3           0       1       1        0   \n",
       "3           4           3     5      3           0       0       1        0   \n",
       "4           7           3     5      3           1       0       1        0   \n",
       "\n",
       "   IstKrad  IstGkfz  IstSonstige  STRZUSTAND      LINREFX       LINREFY  \\\n",
       "0        0        0            0           0  814987.3095  5.829184e+06   \n",
       "1        0        0            0           0  814875.2039  5.830058e+06   \n",
       "2        0        0            0           0  814271.9549  5.828041e+06   \n",
       "3        0        1            0           0  814205.0080  5.830068e+06   \n",
       "4        0        0            0           0  814755.4276  5.829893e+06   \n",
       "\n",
       "   METER   STR_NAME     DTV     PKW    LKW  LIEFERWAGEN  LINIENBUSSE  \\\n",
       "0    NaN       None     NaN     NaN    NaN          NaN          NaN   \n",
       "1  220.0  Lemkestr.  6108.0  4995.0  220.0        624.0        160.0   \n",
       "2    NaN       None     NaN     NaN    NaN          NaN          NaN   \n",
       "3    NaN       None     NaN     NaN    NaN          NaN          NaN   \n",
       "4  254.0  Lemkestr.  3852.0  3127.0  107.0        393.0        150.0   \n",
       "\n",
       "   REISEBUSSE  KRAD                  HERKUNFT  NAME KNAME        PLR_NAME  \\\n",
       "0         NaN   NaN                      None  None  None  Mahlsdorf Nord   \n",
       "1        16.0  93.0  Modellrechnung 2014, VMZ  None  None  Mahlsdorf Nord   \n",
       "2         NaN   NaN                      None  None  None   Alt-Mahlsdorf   \n",
       "3         NaN   NaN                      None  None  None  Mahlsdorf Nord   \n",
       "4        16.0  59.0  Modellrechnung 2014, VMZ  None  None  Mahlsdorf Nord   \n",
       "\n",
       "   EW2010                    VBUS               VBUS_PERS  \\\n",
       "0  8818.0                  mittel  niedrig - sehr niedrig   \n",
       "1  8818.0                  mittel  niedrig - sehr niedrig   \n",
       "2  3852.0  niedrig - sehr niedrig  niedrig - sehr niedrig   \n",
       "3  8818.0                  mittel  niedrig - sehr niedrig   \n",
       "4  8818.0                  mittel  niedrig - sehr niedrig   \n",
       "\n",
       "                 GESLAERM           GESLAERM_PERS GEMEINDE  \\\n",
       "0                  mittel  niedrig - sehr niedrig   Berlin   \n",
       "1                  mittel  niedrig - sehr niedrig   Berlin   \n",
       "2  niedrig - sehr niedrig                  mittel   Berlin   \n",
       "3                  mittel  niedrig - sehr niedrig   Berlin   \n",
       "4                  mittel  niedrig - sehr niedrig   Berlin   \n",
       "\n",
       "                BEZIRK ANWERT  BRW         NUTZUNG  GFZ VERFAHRENSART  \\\n",
       "0  Marzahn-Hellersdorf   None  360  W - Wohngebiet  0.4          None   \n",
       "1  Marzahn-Hellersdorf   None  360  W - Wohngebiet  0.4          None   \n",
       "2  Marzahn-Hellersdorf   None  360  W - Wohngebiet  0.4          None   \n",
       "3  Marzahn-Hellersdorf   None  360  W - Wohngebiet  0.4          None   \n",
       "4  Marzahn-Hellersdorf   None  360  W - Wohngebiet  0.4          None   \n",
       "\n",
       "              STICHTAG          BEITRAGSZUSTAND   LUMNUM  \\\n",
       "0  2019-01-01T00:00:00  Beitragsfrei nach BauGB  [[url]]   \n",
       "1  2019-01-01T00:00:00  Beitragsfrei nach BauGB  [[url]]   \n",
       "2  2019-01-01T00:00:00  Beitragsfrei nach BauGB  [[url]]   \n",
       "3  2019-01-01T00:00:00  Beitragsfrei nach BauGB  [[url]]   \n",
       "4  2019-01-01T00:00:00  Beitragsfrei nach BauGB  [[url]]   \n",
       "\n",
       "                ELEM_NR        VRICHT_TXT  WERT_VES         ZEIT_T  \\\n",
       "0  62540035_62540036.02  beide Richtungen      30.0           None   \n",
       "1  62550001_62550021.01  beide Richtungen      30.0  07:00 - 17:00   \n",
       "2  62530003_62540023.02  beide Richtungen      30.0           None   \n",
       "3  62550008_62550009.03  beide Richtungen      30.0           None   \n",
       "4  62550028_62550029.02  beide Richtungen      30.0           None   \n",
       "\n",
       "                TAG_T                            DURCH_T      DANN_T DAT_T  \\\n",
       "0                None  angeordnete Verkehrseinschränkung        None  None   \n",
       "1  Montag bis Freitag                             Kinder  Zeitangabe  None   \n",
       "2                None  angeordnete Verkehrseinschränkung        None  None   \n",
       "3                None  angeordnete Verkehrseinschränkung        None  None   \n",
       "4                None  angeordnete Verkehrseinschränkung        None  None   \n",
       "\n",
       "                                            geometry  \n",
       "0  MULTIPOLYGON (((814997.310 5829184.012, 814996...  \n",
       "1  MULTIPOLYGON (((814885.204 5830057.780, 814884...  \n",
       "2  MULTIPOLYGON (((814281.955 5828040.742, 814281...  \n",
       "3  MULTIPOLYGON (((814215.008 5830068.156, 814214...  \n",
       "4  MULTIPOLYGON (((814765.428 5829893.128, 814764...  "
      ]
     },
     "execution_count": 2,
     "metadata": {},
     "output_type": "execute_result"
    }
   ],
   "source": [
    "crash_data.head()"
   ]
  },
  {
   "cell_type": "code",
   "execution_count": 3,
   "metadata": {},
   "outputs": [],
   "source": [
    "affected_crash_data = crash_data[((crash_data['UTYP1'] == 2) | (crash_data['UTYP1'] == 3))]"
   ]
  },
  {
   "cell_type": "code",
   "execution_count": 4,
   "metadata": {},
   "outputs": [
    {
     "data": {
      "text/plain": [
       "(6163, 59)"
      ]
     },
     "execution_count": 4,
     "metadata": {},
     "output_type": "execute_result"
    }
   ],
   "source": [
    "affected_crash_data.shape"
   ]
  },
  {
   "cell_type": "code",
   "execution_count": 5,
   "metadata": {},
   "outputs": [
    {
     "name": "stderr",
     "output_type": "stream",
     "text": [
      "/Users/haju/anaconda3/lib/python3.7/site-packages/ipykernel_launcher.py:2: SettingWithCopyWarning: \n",
      "A value is trying to be set on a copy of a slice from a DataFrame.\n",
      "Try using .loc[row_indexer,col_indexer] = value instead\n",
      "\n",
      "See the caveats in the documentation: http://pandas.pydata.org/pandas-docs/stable/indexing.html#indexing-view-versus-copy\n",
      "  \n",
      "/Users/haju/anaconda3/lib/python3.7/site-packages/pandas/core/indexing.py:543: SettingWithCopyWarning: \n",
      "A value is trying to be set on a copy of a slice from a DataFrame.\n",
      "Try using .loc[row_indexer,col_indexer] = value instead\n",
      "\n",
      "See the caveats in the documentation: http://pandas.pydata.org/pandas-docs/stable/indexing.html#indexing-view-versus-copy\n",
      "  self.obj[item] = s\n"
     ]
    },
    {
     "data": {
      "text/plain": [
       "(2949, 57)"
      ]
     },
     "execution_count": 5,
     "metadata": {},
     "output_type": "execute_result"
    }
   ],
   "source": [
    "# Feld Nahe Ampel erzeugen\n",
    "affected_crash_data['NAHE_AMPEL'] = 0\n",
    "affected_crash_data.loc[~affected_crash_data[\"KNAME\"].isna(), ['NAHE_AMPEL']] = 1\n",
    "affected_crash_data = affected_crash_data.drop([\"NAME\",\"KNAME\",\"PLR_NAME\"], axis=1)\n",
    "\n",
    "affected_crash_data.loc[affected_crash_data['NAHE_AMPEL'] == 1].shape"
   ]
  },
  {
   "cell_type": "markdown",
   "metadata": {},
   "source": [
    "### 1.2 Clustering zur Sicherstellung von Vergleichbarkeit (Ab jetzt in QGIS realisiert über DBSCAN)"
   ]
  },
  {
   "cell_type": "code",
   "execution_count": 6,
   "metadata": {},
   "outputs": [],
   "source": [
    "#str(crash_data.iloc[0, :].geometry[ 0 ].centroid)\n",
    "# 1. Loope über alle Crash Daten\n",
    "# 2. Hole den Centroid aus dem 1. Polygon str(crash_data.iloc[0, :].geometry[ 0 ].centroid)\n",
    "# 3. replace geometry with the point\n",
    "#df_new = pd.DataFrame(columns = [])\n",
    "#for index, row in crash_data.iterrows():\n",
    "#    print(index)\n",
    "#    row.geometry = row.geometry[ 0 ].centroid \n",
    "#    df_new = df_new.append(row, ignore_index=True)"
   ]
  },
  {
   "cell_type": "raw",
   "metadata": {},
   "source": [
    "#groups.append([\"Test3\",\"Test4\"])\n",
    "#\n",
    "#for element in group:\n",
    "#    print(element)\n",
    "#distancematrix = gpd.read_file('distanzmatrix.geojson')\n",
    "#groups = []\n",
    "#for index, row in distancematrix.iterrows():\n",
    " #   print(index)\n",
    "  #  if row['Distance'] > 10:\n",
    "    #    group = []\n",
    "   #     group.append(row['InputID'])\n",
    "     #   groups.append(group)\n",
    "#    else:\n",
    "        existingGroup = False\n",
    "        groupIndex = 0\n",
    "        for element in groups:\n",
    "            if row['TargetID'] in element:\n",
    "                groups[groupIndex].append(row['InputID'])\n",
    "                existingGroup = True\n",
    "                groupIndex = groupIndex + 1\n",
    "        if existingGroup == False:\n",
    "            group = []\n",
    "            group.append(row['InputID'])\n",
    "            groups.append(group)\n",
    "            \n",
    "groupIndex = groupIndex + 1\n",
    "\n",
    "\n",
    "import geopandas as gpd\n",
    "import pandas as pd\n",
    "import numpy as np\n",
    "pd.options.display.max_columns = None\n",
    "crash_data = gpd.read_file('U_VM_A_L_BRW_TL.geojson') \n",
    "geo_information = pd.read_csv('geo_information.csv', sep=';')\n",
    "\n",
    "affected_crash_data = crash_data[((crash_data['UTYP1'] == 2) | (crash_data['UTYP1'] == 3))]\n",
    "\n",
    "# Feld Nahe Ampel erzeugen\n",
    "affected_crash_data['NAHE_AMPEL'] = 0\n",
    "affected_crash_data.loc[~affected_crash_data[\"KNAME\"].isna(), ['NAHE_AMPEL']] = 1\n",
    "affected_crash_data = affected_crash_data.drop([\"NAME\",\"KNAME\",\"PLR_NAME\"], axis=1)\n",
    "\n",
    "merge = pd.merge(affected_crash_data, geo_information, left_on=['OBJECTID'], right_on=['OBJECTID'],  how='inner')\n",
    "\n",
    "from sklearn.cluster import DBSCAN\n",
    "import numpy as np\n",
    "array = []\n",
    "for index, row in merge.iterrows():\n",
    "    appendix = [ row['LAT'], row['LON'] ]\n",
    "    array.append(appendix)\n",
    "    \n",
    "    \n",
    "X = np.array(array)\n",
    "clustering = DBSCAN(eps=10, min_samples=100).fit(X)\n",
    "test = clustering.labels_\n",
    "clustering \n",
    "#DBSCAN(algorithm='auto', eps=3, leaf_size=30, metric='euclidean',\n",
    "#    metric_params=None, min_samples=2, n_jobs=None, p=None)     "
   ]
  },
  {
   "cell_type": "markdown",
   "metadata": {},
   "source": [
    "### 1.3 Einlesen, der in QGIS ermittelten Cluster"
   ]
  },
  {
   "cell_type": "code",
   "execution_count": 7,
   "metadata": {},
   "outputs": [],
   "source": [
    "cluster = pd.read_csv(\"../01_Source/haeufung.csv\",sep=';')\n",
    "affected_crash_data = pd.merge(affected_crash_data, cluster, left_on=['OBJECTID'], right_on=['OBJECTID'],  how='inner')"
   ]
  },
  {
   "cell_type": "code",
   "execution_count": 8,
   "metadata": {},
   "outputs": [
    {
     "data": {
      "text/plain": [
       "(6163,)"
      ]
     },
     "execution_count": 8,
     "metadata": {},
     "output_type": "execute_result"
    }
   ],
   "source": [
    "affected_crash_data['OBJECTID'].shape"
   ]
  },
  {
   "cell_type": "markdown",
   "metadata": {},
   "source": [
    "## 2 Betrachtung der Daten"
   ]
  },
  {
   "cell_type": "code",
   "execution_count": 9,
   "metadata": {},
   "outputs": [
    {
     "data": {
      "text/plain": [
       "(2949,)"
      ]
     },
     "execution_count": 9,
     "metadata": {},
     "output_type": "execute_result"
    }
   ],
   "source": [
    "crashes_near_traffic_light = affected_crash_data[ affected_crash_data['NAHE_AMPEL'] == 1 ]\n",
    "crashes_near_traffic_light['OBJECTID'].shape"
   ]
  },
  {
   "cell_type": "code",
   "execution_count": 10,
   "metadata": {},
   "outputs": [
    {
     "data": {
      "text/plain": [
       "(3214,)"
      ]
     },
     "execution_count": 10,
     "metadata": {},
     "output_type": "execute_result"
    }
   ],
   "source": [
    "crashes_without_traffic_light = affected_crash_data[affected_crash_data['NAHE_AMPEL'] == 0]\n",
    "crashes_without_traffic_light['OBJECTID'].shape"
   ]
  },
  {
   "cell_type": "code",
   "execution_count": 11,
   "metadata": {},
   "outputs": [
    {
     "data": {
      "text/plain": [
       "2.2256603773584906"
      ]
     },
     "execution_count": 11,
     "metadata": {},
     "output_type": "execute_result"
    }
   ],
   "source": [
    "#Durchschnittliche Anzahl an Unfällen um eine Ampel rum im Vergleich zu Kreuzungen\n",
    "cnt_crtl = crashes_near_traffic_light.groupby('CLUSTER_ID')[['OBJECTID']].count()\n",
    "cnt_crtl.rename(columns=lambda x: 'Cnt' + x, inplace=True)\n",
    "cnt_crtl['CntOBJECTID'].mean()"
   ]
  },
  {
   "cell_type": "code",
   "execution_count": 12,
   "metadata": {},
   "outputs": [
    {
     "data": {
      "text/plain": [
       "1.3770351328191945"
      ]
     },
     "execution_count": 12,
     "metadata": {},
     "output_type": "execute_result"
    }
   ],
   "source": [
    "cnt_cwtl = crashes_without_traffic_light.groupby('CLUSTER_ID')[['OBJECTID']].count()\n",
    "cnt_cwtl.rename(columns=lambda x: 'Cnt' + x, inplace=True)\n",
    "cnt_cwtl['CntOBJECTID'].mean()"
   ]
  },
  {
   "cell_type": "code",
   "execution_count": 13,
   "metadata": {},
   "outputs": [
    {
     "data": {
      "text/plain": [
       "OBJECTID      -0.118869\n",
       "ULAND               NaN\n",
       "UREGBEZ             NaN\n",
       "UKREIS        -0.214808\n",
       "UGEMEINDE     -0.214808\n",
       "UJAHR               NaN\n",
       "UMONAT        -0.012437\n",
       "USTUNDE        0.023620\n",
       "UWOCHENTAG     0.002804\n",
       "UKATEGORIE     0.005866\n",
       "UART           0.014020\n",
       "UTYP1         -0.157132\n",
       "ULICHTVERH     0.069047\n",
       "IstRad        -0.028913\n",
       "IstPKW         0.012000\n",
       "IstFuss        0.015741\n",
       "IstKrad       -0.055973\n",
       "IstGkfz        0.010231\n",
       "IstSonstige    0.001543\n",
       "STRZUSTAND     0.017762\n",
       "LINREFX       -0.019049\n",
       "LINREFY        0.050026\n",
       "METER         -0.036036\n",
       "DTV            0.185171\n",
       "PKW            0.184205\n",
       "LKW            0.128470\n",
       "LIEFERWAGEN    0.185162\n",
       "LINIENBUSSE    0.034259\n",
       "REISEBUSSE     0.159324\n",
       "KRAD           0.224826\n",
       "EW2010         0.008307\n",
       "GFZ            0.219371\n",
       "WERT_VES       0.058207\n",
       "NAHE_AMPEL     0.333660\n",
       "CLUSTER_ID     0.152884\n",
       "CntOBJECTID    1.000000\n",
       "Name: CntOBJECTID, dtype: float64"
      ]
     },
     "execution_count": 13,
     "metadata": {},
     "output_type": "execute_result"
    }
   ],
   "source": [
    "#Wo könnten ggf. Korrelationen existieren?\n",
    "affected_crash_data_cnt = affected_crash_data.groupby('CLUSTER_ID')[['OBJECTID']].count()\n",
    "affected_crash_data_cnt.rename(columns=lambda x: 'Cnt' + x, inplace=True)\n",
    "affected_crash_data = pd.merge(affected_crash_data, affected_crash_data_cnt, left_on=['CLUSTER_ID'], right_on=['CLUSTER_ID'],  how='inner')\n",
    "corr_matrix = affected_crash_data.corr()\n",
    "corr_matrix[\"CntOBJECTID\"]"
   ]
  },
  {
   "cell_type": "code",
   "execution_count": 18,
   "metadata": {},
   "outputs": [
    {
     "data": {
      "text/plain": [
       "array([[<matplotlib.axes._subplots.AxesSubplot object at 0x119562ba8>,\n",
       "        <matplotlib.axes._subplots.AxesSubplot object at 0x119a34a58>,\n",
       "        <matplotlib.axes._subplots.AxesSubplot object at 0x119adf208>,\n",
       "        <matplotlib.axes._subplots.AxesSubplot object at 0x1199c5438>,\n",
       "        <matplotlib.axes._subplots.AxesSubplot object at 0x119c5ae48>,\n",
       "        <matplotlib.axes._subplots.AxesSubplot object at 0x119c174a8>],\n",
       "       [<matplotlib.axes._subplots.AxesSubplot object at 0x119c8cdd8>,\n",
       "        <matplotlib.axes._subplots.AxesSubplot object at 0x119c9a588>,\n",
       "        <matplotlib.axes._subplots.AxesSubplot object at 0x119c9a550>,\n",
       "        <matplotlib.axes._subplots.AxesSubplot object at 0x119cb6d68>,\n",
       "        <matplotlib.axes._subplots.AxesSubplot object at 0x119cc44e0>,\n",
       "        <matplotlib.axes._subplots.AxesSubplot object at 0x119cd3400>],\n",
       "       [<matplotlib.axes._subplots.AxesSubplot object at 0x119cdfb38>,\n",
       "        <matplotlib.axes._subplots.AxesSubplot object at 0x119cee908>,\n",
       "        <matplotlib.axes._subplots.AxesSubplot object at 0x119cfc240>,\n",
       "        <matplotlib.axes._subplots.AxesSubplot object at 0x119d06b70>,\n",
       "        <matplotlib.axes._subplots.AxesSubplot object at 0x119d16ef0>,\n",
       "        <matplotlib.axes._subplots.AxesSubplot object at 0x119d25898>],\n",
       "       [<matplotlib.axes._subplots.AxesSubplot object at 0x119d34438>,\n",
       "        <matplotlib.axes._subplots.AxesSubplot object at 0x119d42d68>,\n",
       "        <matplotlib.axes._subplots.AxesSubplot object at 0x119d52208>,\n",
       "        <matplotlib.axes._subplots.AxesSubplot object at 0x1190389e8>,\n",
       "        <matplotlib.axes._subplots.AxesSubplot object at 0x119046d68>,\n",
       "        <matplotlib.axes._subplots.AxesSubplot object at 0x119056208>],\n",
       "       [<matplotlib.axes._subplots.AxesSubplot object at 0x119061c18>,\n",
       "        <matplotlib.axes._subplots.AxesSubplot object at 0x11906eb38>,\n",
       "        <matplotlib.axes._subplots.AxesSubplot object at 0x11907d240>,\n",
       "        <matplotlib.axes._subplots.AxesSubplot object at 0x1190896a0>,\n",
       "        <matplotlib.axes._subplots.AxesSubplot object at 0x119096ef0>,\n",
       "        <matplotlib.axes._subplots.AxesSubplot object at 0x118e70860>],\n",
       "       [<matplotlib.axes._subplots.AxesSubplot object at 0x1190b0588>,\n",
       "        <matplotlib.axes._subplots.AxesSubplot object at 0x1190c10b8>,\n",
       "        <matplotlib.axes._subplots.AxesSubplot object at 0x1190d0860>,\n",
       "        <matplotlib.axes._subplots.AxesSubplot object at 0x118e8a898>,\n",
       "        <matplotlib.axes._subplots.AxesSubplot object at 0x1190e62e8>,\n",
       "        <matplotlib.axes._subplots.AxesSubplot object at 0x118e96208>]],\n",
       "      dtype=object)"
      ]
     },
     "execution_count": 18,
     "metadata": {},
     "output_type": "execute_result"
    },
    {
     "data": {
      "image/png": "[encoded data removed]",
      "text/plain": [
       "<Figure size 864x576 with 36 Axes>"
      ]
     },
     "metadata": {
      "needs_background": "light"
     },
     "output_type": "display_data"
    }
   ],
   "source": [
    "from pandas.plotting import scatter_matrix\n",
    "attributes = [\"CntOBJECTID\", \"NAHE_AMPEL\", \"DTV\",\"UMONAT\",\"ULICHTVERH\",\"UGEMEINDE\"]\n",
    "scatter_matrix(affected_crash_data[attributes], figsize=(12,8))"
   ]
  },
  {
   "cell_type": "code",
   "execution_count": 20,
   "metadata": {},
   "outputs": [
    {
     "data": {
      "text/plain": [
       "1     681\n",
       "2     280\n",
       "3     136\n",
       "4      83\n",
       "5      56\n",
       "6      37\n",
       "7      20\n",
       "8       9\n",
       "9       8\n",
       "11      4\n",
       "10      4\n",
       "13      2\n",
       "12      2\n",
       "17      1\n",
       "16      1\n",
       "15      1\n",
       "Name: CntOBJECTID, dtype: int64"
      ]
     },
     "execution_count": 20,
     "metadata": {},
     "output_type": "execute_result"
    }
   ],
   "source": [
    "# Macht es eventuell Sinn Orte an denen es nur einen Unfall gab rauszuwerfen\n",
    "cnt_crtl['CntOBJECTID'].value_counts()"
   ]
  },
  {
   "cell_type": "code",
   "execution_count": 21,
   "metadata": {},
   "outputs": [
    {
     "data": {
      "text/plain": [
       "1     1817\n",
       "2      337\n",
       "3       88\n",
       "4       47\n",
       "5       24\n",
       "6       14\n",
       "11       2\n",
       "7        2\n",
       "9        1\n",
       "14       1\n",
       "8        1\n",
       "Name: CntOBJECTID, dtype: int64"
      ]
     },
     "execution_count": 21,
     "metadata": {},
     "output_type": "execute_result"
    }
   ],
   "source": [
    "cnt_cwtl['CntOBJECTID'].value_counts()"
   ]
  },
  {
   "cell_type": "code",
   "execution_count": 22,
   "metadata": {},
   "outputs": [],
   "source": [
    "#Einbeziehung weiterer Parameter\n",
    "#Verkehrsmenge auf Straßenabschnitten <br/>\n",
    "#Verkehrsmenge auf Straßenabschnitten ggf. Kategorisierung in hohes Verehrsaufkommen, mittleres, niedriges  <br/>\n",
    "#Vergleich von Bezirken Anzahl Ampeln je durchschnittliche Verkehrsmenge <br/>\n",
    "#Tempolimits einbringen <br/>"
   ]
  },
  {
   "cell_type": "code",
   "execution_count": 28,
   "metadata": {},
   "outputs": [
    {
     "data": {
      "text/plain": [
       "<matplotlib.legend.Legend at 0x118a665c0>"
      ]
     },
     "execution_count": 28,
     "metadata": {},
     "output_type": "execute_result"
    }
   ],
   "source": [
    "import matplotlib.pyplot as plt\n",
    "plt.scatter(x=affected_crash_data[\"DTV\"], y=affected_crash_data[\"CntOBJECTID\"], c=affected_crash_data[\"NAHE_AMPEL\"], alpha=0.1,cmap=plt.get_cmap(\"jet\"))\n",
    "plt.legend()"
   ]
  },
  {
   "cell_type": "code",
   "execution_count": 29,
   "metadata": {},
   "outputs": [
    {
     "data": {
      "text/plain": [
       "<matplotlib.legend.Legend at 0x118a71908>"
      ]
     },
     "execution_count": 29,
     "metadata": {},
     "output_type": "execute_result"
    },
    {
     "data": {
      "image/png": "[encoded data removed]",
      "text/plain": [
       "<Figure size 432x288 with 1 Axes>"
      ]
     },
     "metadata": {
      "needs_background": "light"
     },
     "output_type": "display_data"
    }
   ],
   "source": [
    "plt.scatter(x=affected_crash_data[\"WERT_VES\"], y=affected_crash_data[\"CntOBJECTID\"], c=affected_crash_data[\"NAHE_AMPEL\"], alpha=0.1,cmap=plt.get_cmap(\"jet\"))\n",
    "plt.legend()\n"
   ]
  },
  {
   "cell_type": "code",
   "execution_count": 30,
   "metadata": {},
   "outputs": [
    {
     "data": {
      "text/plain": [
       "(3700,)"
      ]
     },
     "execution_count": 30,
     "metadata": {},
     "output_type": "execute_result"
    }
   ],
   "source": [
    "affected_crash_data_reduced = affected_crash_data[affected_crash_data['CntOBJECTID'] >= 2]\n",
    "affected_crash_data_reduced['OBJECTID'].shape"
   ]
  },
  {
   "cell_type": "code",
   "execution_count": 63,
   "metadata": {},
   "outputs": [
    {
     "data": {
      "text/plain": [
       "<matplotlib.legend.Legend at 0x125d321d0>"
      ]
     },
     "execution_count": 63,
     "metadata": {},
     "output_type": "execute_result"
    },
    {
     "data": {
      "image/png": "[encoded data removed]",
      "text/plain": [
       "<Figure size 432x288 with 1 Axes>"
      ]
     },
     "metadata": {
      "needs_background": "light"
     },
     "output_type": "display_data"
    }
   ],
   "source": [
    "plt.scatter(x=affected_crash_data_reduced[\"DTV\"], y=affected_crash_data_reduced[\"CntOBJECTID\"], c=affected_crash_data_reduced[\"NAHE_AMPEL\"], alpha=0.1,cmap=plt.get_cmap(\"jet\"))\n",
    "plt.legend()"
   ]
  },
  {
   "cell_type": "code",
   "execution_count": 20,
   "metadata": {},
   "outputs": [
    {
     "data": {
      "text/plain": [
       "count     5362.000000\n",
       "mean     17699.612272\n",
       "std      11301.854668\n",
       "min          0.000000\n",
       "25%       9360.000000\n",
       "50%      15300.000000\n",
       "75%      24007.500000\n",
       "max      82082.000000\n",
       "Name: DTV, dtype: float64"
      ]
     },
     "execution_count": 20,
     "metadata": {},
     "output_type": "execute_result"
    }
   ],
   "source": [
    "affected_crash_data[\"DTV\"].describe()"
   ]
  },
  {
   "cell_type": "code",
   "execution_count": 24,
   "metadata": {},
   "outputs": [],
   "source": [
    "affected_crash_data['DTV_GROUP'] = np.where(affected_crash_data['DTV'] < 9360, 1, np.where(affected_crash_data['DTV'] < 15300, 2, np.where(affected_crash_data['DTV'] < 24007, 3, np.where(affected_crash_data['DTV'] < 82082, 4, 5))))"
   ]
  },
  {
   "cell_type": "code",
   "execution_count": 26,
   "metadata": {},
   "outputs": [
    {
     "data": {
      "text/plain": [
       "3    1344\n",
       "2    1341\n",
       "4    1340\n",
       "1    1336\n",
       "5     802\n",
       "Name: DTV_GROUP, dtype: int64"
      ]
     },
     "execution_count": 26,
     "metadata": {},
     "output_type": "execute_result"
    }
   ],
   "source": [
    "affected_crash_data['DTV_GROUP'].value_counts()"
   ]
  },
  {
   "cell_type": "code",
   "execution_count": 28,
   "metadata": {},
   "outputs": [],
   "source": [
    "affected_crash_data.to_file(\"../01_Source/frage1_tableau.geojson\")"
   ]
  },
  {
   "cell_type": "code",
   "execution_count": null,
   "metadata": {},
   "outputs": [],
   "source": []
  }
 ],
 "metadata": {
  "kernelspec": {
   "display_name": "Python 3",
   "language": "python",
   "name": "python3"
  },
  "language_info": {
   "codemirror_mode": {
    "name": "ipython",
    "version": 3
   },
   "file_extension": ".py",
   "mimetype": "text/x-python",
   "name": "python",
   "nbconvert_exporter": "python",
   "pygments_lexer": "ipython3",
   "version": "3.7.3"
  }
 },
 "nbformat": 4,
 "nbformat_minor": 2
}
