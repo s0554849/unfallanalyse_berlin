{
 "cells": [
  {
   "cell_type": "markdown",
   "metadata": {},
   "source": [
    "<h1>Fragen</h1>\n",
    "<h2>Helfen Ampeln bei der Reduktion von Abbiege und Kreuzungsunfällen?</h2>\n",
    "1. Welche Informationen sind notwendig, um diese Frage beantworten zu können? <br/>\n",
    "Abgrenzung Abbiege und Kreuzungsunfälle?<br/>\n",
    "Unfalltyp (technisch UTYP1 )<br/>\n",
    "2 = Abbiegeunfall<br/>\n",
    "3 = Einbiegen / Kreuzen-Unfall<br/>\n",
    "NAHE_AMPEL <br/>\n",
    "0 = False <br/>\n",
    "1 = True <br/>\n",
    "\n",
    "2. Woran erkenne ich, ob/in welchem Maß die Ampel geholfen hat? <br/>\n",
    "Durchschnittliche Anzahl an Unfällen um eine Ampel rum im Vergleich zu Kreuzungen, an denen es keine Ampel gab (Visuelle Erkenntnis) <br/>\n",
    "Warum keine analytische Erkenntnis? --> Notwendige Daten fehlen, um das vergleichen zu können müsste, aber mithilfe von Clustering könnte eine Gruppenbildung vorgenommen werden<br/>\n",
    "Verkehrsmenge auf Straßenabschnitten <br/>\n",
    "Verkehrsmenge auf Straßenabschnitten ggf. Kategorisierung in hohes Verehrsaufkommen, mittleres, niedriges  <br/>\n",
    "Vergleich von Bezirken Anzahl Ampeln je durchschnittliche Verkehrsmenge <br/>\n",
    "Tempolimits einbringen <br/>"
   ]
  },
  {
   "cell_type": "markdown",
   "metadata": {},
   "source": [
    "## 1. Vorbereitung des Datensatzes"
   ]
  },
  {
   "cell_type": "markdown",
   "metadata": {},
   "source": [
    "### 1.1 Generelles Aufbereiten der Datenbasis"
   ]
  },
  {
   "cell_type": "code",
   "execution_count": 35,
   "metadata": {},
   "outputs": [],
   "source": [
    "import geopandas as gpd\n",
    "import pandas as pd\n",
    "import numpy as np\n",
    "pd.options.display.max_columns = None\n",
    "crash_data = gpd.read_file('../01_Source/consolidatedDataSet.geojson') "
   ]
  },
  {
   "cell_type": "code",
   "execution_count": 36,
   "metadata": {},
   "outputs": [
    {
     "data": {
      "text/html": [
       "<div>\n",
       "<style scoped>\n",
       "    .dataframe tbody tr th:only-of-type {\n",
       "        vertical-align: middle;\n",
       "    }\n",
       "\n",
       "    .dataframe tbody tr th {\n",
       "        vertical-align: top;\n",
       "    }\n",
       "\n",
       "    .dataframe thead th {\n",
       "        text-align: right;\n",
       "    }\n",
       "</style>\n",
       "<table border=\"1\" class=\"dataframe\">\n",
       "  <thead>\n",
       "    <tr style=\"text-align: right;\">\n",
       "      <th></th>\n",
       "      <th>OBJECTID</th>\n",
       "      <th>ULAND</th>\n",
       "      <th>UREGBEZ</th>\n",
       "      <th>UKREIS</th>\n",
       "      <th>UGEMEINDE</th>\n",
       "      <th>UJAHR</th>\n",
       "      <th>UMONAT</th>\n",
       "      <th>USTUNDE</th>\n",
       "      <th>UWOCHENTAG</th>\n",
       "      <th>UART</th>\n",
       "      <th>UTYP1</th>\n",
       "      <th>ULICHTVERH</th>\n",
       "      <th>IstRad</th>\n",
       "      <th>IstPKW</th>\n",
       "      <th>IstFuss</th>\n",
       "      <th>IstKrad</th>\n",
       "      <th>IstGkfz</th>\n",
       "      <th>IstSonstige</th>\n",
       "      <th>STRZUSTAND</th>\n",
       "      <th>LINREFX</th>\n",
       "      <th>LINREFY</th>\n",
       "      <th>METER</th>\n",
       "      <th>STR_NAME</th>\n",
       "      <th>DTV</th>\n",
       "      <th>HERKUNFT</th>\n",
       "      <th>NAME</th>\n",
       "      <th>KNAME</th>\n",
       "      <th>PLR_NAME</th>\n",
       "      <th>EW2010</th>\n",
       "      <th>VBUS</th>\n",
       "      <th>VBUS_PERS</th>\n",
       "      <th>GESLAERM</th>\n",
       "      <th>GESLAERM_PERS</th>\n",
       "      <th>GEMEINDE</th>\n",
       "      <th>BEZIRK</th>\n",
       "      <th>ANWERT</th>\n",
       "      <th>BRW</th>\n",
       "      <th>NUTZUNG</th>\n",
       "      <th>GFZ</th>\n",
       "      <th>VERFAHRENSART</th>\n",
       "      <th>STICHTAG</th>\n",
       "      <th>BEITRAGSZUSTAND</th>\n",
       "      <th>LUMNUM</th>\n",
       "      <th>ELEM_NR</th>\n",
       "      <th>VRICHT_TXT</th>\n",
       "      <th>WERT_VES</th>\n",
       "      <th>ZEIT_T</th>\n",
       "      <th>TAG_T</th>\n",
       "      <th>DURCH_T</th>\n",
       "      <th>DANN_T</th>\n",
       "      <th>DAT_T</th>\n",
       "      <th>LAT</th>\n",
       "      <th>LON</th>\n",
       "      <th>formatted_address</th>\n",
       "      <th>address_components</th>\n",
       "      <th>postal_code</th>\n",
       "      <th>sublocality</th>\n",
       "      <th>street_number</th>\n",
       "      <th>route</th>\n",
       "      <th>TARGET</th>\n",
       "      <th>UART_Value</th>\n",
       "      <th>UWOCHENTAG_Value</th>\n",
       "      <th>ULICHTVERH_Value</th>\n",
       "      <th>UTYP1_Value</th>\n",
       "      <th>STRZUSTAND_Value</th>\n",
       "      <th>ANTEIL_PKW</th>\n",
       "      <th>ANTEIL_LKW</th>\n",
       "      <th>ANTEIL_LIEFERWAGEN</th>\n",
       "      <th>ANTEIL_LINIENBUSSE</th>\n",
       "      <th>ANTEIL_REISEBUSSE</th>\n",
       "      <th>ANTEIL_KRAD</th>\n",
       "      <th>UKREIS_AVG_TARGET</th>\n",
       "      <th>UGEMEINDE_AVG_TARGET</th>\n",
       "      <th>CRASH_BY_DTV</th>\n",
       "      <th>FATAL_CRASH_BY_DTV</th>\n",
       "      <th>Indicator</th>\n",
       "      <th>geometry</th>\n",
       "    </tr>\n",
       "  </thead>\n",
       "  <tbody>\n",
       "    <tr>\n",
       "      <th>0</th>\n",
       "      <td>201103</td>\n",
       "      <td>11</td>\n",
       "      <td>0</td>\n",
       "      <td>10</td>\n",
       "      <td>10</td>\n",
       "      <td>2018</td>\n",
       "      <td>5</td>\n",
       "      <td>14</td>\n",
       "      <td>5</td>\n",
       "      <td>5</td>\n",
       "      <td>3</td>\n",
       "      <td>0</td>\n",
       "      <td>0</td>\n",
       "      <td>1</td>\n",
       "      <td>0</td>\n",
       "      <td>1</td>\n",
       "      <td>0</td>\n",
       "      <td>0</td>\n",
       "      <td>0</td>\n",
       "      <td>814741.4342</td>\n",
       "      <td>5.829904e+06</td>\n",
       "      <td>254.0</td>\n",
       "      <td>Lemkestr.</td>\n",
       "      <td>3852.0</td>\n",
       "      <td>Modellrechnung 2014, VMZ</td>\n",
       "      <td>None</td>\n",
       "      <td>None</td>\n",
       "      <td>Mahlsdorf Nord</td>\n",
       "      <td>8818.0</td>\n",
       "      <td>mittel</td>\n",
       "      <td>niedrig - sehr niedrig</td>\n",
       "      <td>mittel</td>\n",
       "      <td>niedrig - sehr niedrig</td>\n",
       "      <td>Berlin</td>\n",
       "      <td>Marzahn-Hellersdorf</td>\n",
       "      <td>None</td>\n",
       "      <td>360</td>\n",
       "      <td>W - Wohngebiet</td>\n",
       "      <td>0.4</td>\n",
       "      <td>None</td>\n",
       "      <td>2019-01-01T00:00:00</td>\n",
       "      <td>Beitragsfrei nach BauGB</td>\n",
       "      <td>[[url]]</td>\n",
       "      <td>62550028_62550029.02</td>\n",
       "      <td>beide Richtungen</td>\n",
       "      <td>30.0</td>\n",
       "      <td>None</td>\n",
       "      <td>None</td>\n",
       "      <td>angeordnete Verkehrseinschränkung</td>\n",
       "      <td>None</td>\n",
       "      <td>None</td>\n",
       "      <td>52.528103</td>\n",
       "      <td>13.640801</td>\n",
       "      <td>Lemkestr./Greifswalder Str. (Berlin), 12623 Be...</td>\n",
       "      <td>[ { \"long_name\": \"Lemkestr.\\/Greifswalder Str....</td>\n",
       "      <td>12623.0</td>\n",
       "      <td>Bezirk Marzahn-Hellersdorf</td>\n",
       "      <td>None</td>\n",
       "      <td>Lemkestr./Greifswalder Str. (Berlin)</td>\n",
       "      <td>1</td>\n",
       "      <td>Zusammenstoß mit einbiegendem / kreuzendem Fah...</td>\n",
       "      <td>Donnerstag</td>\n",
       "      <td>Tageslicht</td>\n",
       "      <td>Einbiegen / Kreuzen-Unfall</td>\n",
       "      <td>trocken</td>\n",
       "      <td>81.178609</td>\n",
       "      <td>2.777778</td>\n",
       "      <td>10.202492</td>\n",
       "      <td>3.894081</td>\n",
       "      <td>0.415369</td>\n",
       "      <td>1.531672</td>\n",
       "      <td>21.92029</td>\n",
       "      <td>21.92029</td>\n",
       "      <td>121.761</td>\n",
       "      <td>48.704</td>\n",
       "      <td>0.071523</td>\n",
       "      <td>MULTIPOLYGON (((814751.434 5829903.997, 814750...</td>\n",
       "    </tr>\n",
       "    <tr>\n",
       "      <th>1</th>\n",
       "      <td>199882</td>\n",
       "      <td>11</td>\n",
       "      <td>0</td>\n",
       "      <td>10</td>\n",
       "      <td>10</td>\n",
       "      <td>2018</td>\n",
       "      <td>4</td>\n",
       "      <td>16</td>\n",
       "      <td>6</td>\n",
       "      <td>5</td>\n",
       "      <td>3</td>\n",
       "      <td>0</td>\n",
       "      <td>1</td>\n",
       "      <td>1</td>\n",
       "      <td>0</td>\n",
       "      <td>0</td>\n",
       "      <td>0</td>\n",
       "      <td>0</td>\n",
       "      <td>0</td>\n",
       "      <td>814743.6764</td>\n",
       "      <td>5.829892e+06</td>\n",
       "      <td>254.0</td>\n",
       "      <td>Lemkestr.</td>\n",
       "      <td>3852.0</td>\n",
       "      <td>Modellrechnung 2014, VMZ</td>\n",
       "      <td>None</td>\n",
       "      <td>None</td>\n",
       "      <td>Mahlsdorf Nord</td>\n",
       "      <td>8818.0</td>\n",
       "      <td>mittel</td>\n",
       "      <td>niedrig - sehr niedrig</td>\n",
       "      <td>mittel</td>\n",
       "      <td>niedrig - sehr niedrig</td>\n",
       "      <td>Berlin</td>\n",
       "      <td>Marzahn-Hellersdorf</td>\n",
       "      <td>None</td>\n",
       "      <td>360</td>\n",
       "      <td>W - Wohngebiet</td>\n",
       "      <td>0.4</td>\n",
       "      <td>None</td>\n",
       "      <td>2019-01-01T00:00:00</td>\n",
       "      <td>Beitragsfrei nach BauGB</td>\n",
       "      <td>[[url]]</td>\n",
       "      <td>62550028_62550029.02</td>\n",
       "      <td>beide Richtungen</td>\n",
       "      <td>30.0</td>\n",
       "      <td>None</td>\n",
       "      <td>None</td>\n",
       "      <td>angeordnete Verkehrseinschränkung</td>\n",
       "      <td>None</td>\n",
       "      <td>None</td>\n",
       "      <td>52.527997</td>\n",
       "      <td>13.640823</td>\n",
       "      <td>Lemkestraße 104, 12623 Berlin, Germany</td>\n",
       "      <td>[ { \"long_name\": \"104\", \"short_name\": \"104\", \"...</td>\n",
       "      <td>12623.0</td>\n",
       "      <td>Bezirk Marzahn-Hellersdorf</td>\n",
       "      <td>104</td>\n",
       "      <td>Lemkestraße</td>\n",
       "      <td>1</td>\n",
       "      <td>Zusammenstoß mit einbiegendem / kreuzendem Fah...</td>\n",
       "      <td>Freitag</td>\n",
       "      <td>Tageslicht</td>\n",
       "      <td>Einbiegen / Kreuzen-Unfall</td>\n",
       "      <td>trocken</td>\n",
       "      <td>81.178609</td>\n",
       "      <td>2.777778</td>\n",
       "      <td>10.202492</td>\n",
       "      <td>3.894081</td>\n",
       "      <td>0.415369</td>\n",
       "      <td>1.531672</td>\n",
       "      <td>21.92029</td>\n",
       "      <td>21.92029</td>\n",
       "      <td>121.761</td>\n",
       "      <td>48.704</td>\n",
       "      <td>0.071523</td>\n",
       "      <td>MULTIPOLYGON (((814753.676 5829892.369, 814753...</td>\n",
       "    </tr>\n",
       "    <tr>\n",
       "      <th>2</th>\n",
       "      <td>204338</td>\n",
       "      <td>11</td>\n",
       "      <td>0</td>\n",
       "      <td>10</td>\n",
       "      <td>10</td>\n",
       "      <td>2018</td>\n",
       "      <td>8</td>\n",
       "      <td>7</td>\n",
       "      <td>6</td>\n",
       "      <td>5</td>\n",
       "      <td>3</td>\n",
       "      <td>0</td>\n",
       "      <td>0</td>\n",
       "      <td>1</td>\n",
       "      <td>0</td>\n",
       "      <td>0</td>\n",
       "      <td>0</td>\n",
       "      <td>0</td>\n",
       "      <td>0</td>\n",
       "      <td>814018.8594</td>\n",
       "      <td>5.828964e+06</td>\n",
       "      <td>67.0</td>\n",
       "      <td>Lemkestr.</td>\n",
       "      <td>2868.0</td>\n",
       "      <td>Modellrechnung 2014, VMZ</td>\n",
       "      <td>None</td>\n",
       "      <td>None</td>\n",
       "      <td>Mahlsdorf Nord</td>\n",
       "      <td>8818.0</td>\n",
       "      <td>mittel</td>\n",
       "      <td>niedrig - sehr niedrig</td>\n",
       "      <td>mittel</td>\n",
       "      <td>niedrig - sehr niedrig</td>\n",
       "      <td>Berlin</td>\n",
       "      <td>Marzahn-Hellersdorf</td>\n",
       "      <td>None</td>\n",
       "      <td>360</td>\n",
       "      <td>W - Wohngebiet</td>\n",
       "      <td>0.4</td>\n",
       "      <td>None</td>\n",
       "      <td>2019-01-01T00:00:00</td>\n",
       "      <td>Beitragsfrei nach BauGB</td>\n",
       "      <td>[[url]]</td>\n",
       "      <td>61540047_62540021.01</td>\n",
       "      <td>beide Richtungen</td>\n",
       "      <td>30.0</td>\n",
       "      <td>None</td>\n",
       "      <td>None</td>\n",
       "      <td>angeordnete Verkehrseinschränkung</td>\n",
       "      <td>None</td>\n",
       "      <td>None</td>\n",
       "      <td>52.520097</td>\n",
       "      <td>13.629297</td>\n",
       "      <td>Albrecht-Dürer-Straße 5C, 12623 Berlin, Germany</td>\n",
       "      <td>[ { \"long_name\": \"5C\", \"short_name\": \"5C\", \"ty...</td>\n",
       "      <td>12623.0</td>\n",
       "      <td>Bezirk Marzahn-Hellersdorf</td>\n",
       "      <td>5C</td>\n",
       "      <td>Albrecht-Dürer-Straße</td>\n",
       "      <td>0</td>\n",
       "      <td>Zusammenstoß mit einbiegendem / kreuzendem Fah...</td>\n",
       "      <td>Freitag</td>\n",
       "      <td>Tageslicht</td>\n",
       "      <td>Einbiegen / Kreuzen-Unfall</td>\n",
       "      <td>trocken</td>\n",
       "      <td>80.613668</td>\n",
       "      <td>2.894003</td>\n",
       "      <td>10.216179</td>\n",
       "      <td>4.184100</td>\n",
       "      <td>0.557880</td>\n",
       "      <td>1.534170</td>\n",
       "      <td>21.92029</td>\n",
       "      <td>21.92029</td>\n",
       "      <td>121.761</td>\n",
       "      <td>48.704</td>\n",
       "      <td>0.071523</td>\n",
       "      <td>MULTIPOLYGON (((814028.859 5828964.065, 814028...</td>\n",
       "    </tr>\n",
       "    <tr>\n",
       "      <th>3</th>\n",
       "      <td>196865</td>\n",
       "      <td>11</td>\n",
       "      <td>0</td>\n",
       "      <td>10</td>\n",
       "      <td>10</td>\n",
       "      <td>2018</td>\n",
       "      <td>1</td>\n",
       "      <td>18</td>\n",
       "      <td>2</td>\n",
       "      <td>5</td>\n",
       "      <td>3</td>\n",
       "      <td>2</td>\n",
       "      <td>0</td>\n",
       "      <td>1</td>\n",
       "      <td>0</td>\n",
       "      <td>0</td>\n",
       "      <td>0</td>\n",
       "      <td>0</td>\n",
       "      <td>0</td>\n",
       "      <td>814875.2039</td>\n",
       "      <td>5.830058e+06</td>\n",
       "      <td>220.0</td>\n",
       "      <td>Lemkestr.</td>\n",
       "      <td>6108.0</td>\n",
       "      <td>Modellrechnung 2014, VMZ</td>\n",
       "      <td>None</td>\n",
       "      <td>None</td>\n",
       "      <td>Mahlsdorf Nord</td>\n",
       "      <td>8818.0</td>\n",
       "      <td>mittel</td>\n",
       "      <td>niedrig - sehr niedrig</td>\n",
       "      <td>mittel</td>\n",
       "      <td>niedrig - sehr niedrig</td>\n",
       "      <td>Berlin</td>\n",
       "      <td>Marzahn-Hellersdorf</td>\n",
       "      <td>None</td>\n",
       "      <td>360</td>\n",
       "      <td>W - Wohngebiet</td>\n",
       "      <td>0.4</td>\n",
       "      <td>None</td>\n",
       "      <td>2019-01-01T00:00:00</td>\n",
       "      <td>Beitragsfrei nach BauGB</td>\n",
       "      <td>[[url]]</td>\n",
       "      <td>62550001_62550021.01</td>\n",
       "      <td>beide Richtungen</td>\n",
       "      <td>30.0</td>\n",
       "      <td>07:00 - 17:00</td>\n",
       "      <td>Montag bis Freitag</td>\n",
       "      <td>Kinder</td>\n",
       "      <td>Zeitangabe</td>\n",
       "      <td>None</td>\n",
       "      <td>52.529404</td>\n",
       "      <td>13.642912</td>\n",
       "      <td>Lemkestraße 112B, 12623 Berlin, Germany</td>\n",
       "      <td>[ { \"long_name\": \"112B\", \"short_name\": \"112B\",...</td>\n",
       "      <td>12623.0</td>\n",
       "      <td>Bezirk Marzahn-Hellersdorf</td>\n",
       "      <td>112B</td>\n",
       "      <td>Lemkestraße</td>\n",
       "      <td>0</td>\n",
       "      <td>Zusammenstoß mit einbiegendem / kreuzendem Fah...</td>\n",
       "      <td>Montag</td>\n",
       "      <td>Dunkelheit</td>\n",
       "      <td>Einbiegen / Kreuzen-Unfall</td>\n",
       "      <td>trocken</td>\n",
       "      <td>81.777996</td>\n",
       "      <td>3.601834</td>\n",
       "      <td>10.216110</td>\n",
       "      <td>2.619515</td>\n",
       "      <td>0.261952</td>\n",
       "      <td>1.522593</td>\n",
       "      <td>21.92029</td>\n",
       "      <td>21.92029</td>\n",
       "      <td>121.761</td>\n",
       "      <td>48.704</td>\n",
       "      <td>0.071523</td>\n",
       "      <td>MULTIPOLYGON (((814885.204 5830057.780, 814884...</td>\n",
       "    </tr>\n",
       "    <tr>\n",
       "      <th>4</th>\n",
       "      <td>200478</td>\n",
       "      <td>11</td>\n",
       "      <td>0</td>\n",
       "      <td>10</td>\n",
       "      <td>10</td>\n",
       "      <td>2018</td>\n",
       "      <td>5</td>\n",
       "      <td>20</td>\n",
       "      <td>7</td>\n",
       "      <td>5</td>\n",
       "      <td>3</td>\n",
       "      <td>1</td>\n",
       "      <td>0</td>\n",
       "      <td>1</td>\n",
       "      <td>0</td>\n",
       "      <td>0</td>\n",
       "      <td>0</td>\n",
       "      <td>0</td>\n",
       "      <td>0</td>\n",
       "      <td>814755.4276</td>\n",
       "      <td>5.829893e+06</td>\n",
       "      <td>254.0</td>\n",
       "      <td>Lemkestr.</td>\n",
       "      <td>3852.0</td>\n",
       "      <td>Modellrechnung 2014, VMZ</td>\n",
       "      <td>None</td>\n",
       "      <td>None</td>\n",
       "      <td>Mahlsdorf Nord</td>\n",
       "      <td>8818.0</td>\n",
       "      <td>mittel</td>\n",
       "      <td>niedrig - sehr niedrig</td>\n",
       "      <td>mittel</td>\n",
       "      <td>niedrig - sehr niedrig</td>\n",
       "      <td>Berlin</td>\n",
       "      <td>Marzahn-Hellersdorf</td>\n",
       "      <td>None</td>\n",
       "      <td>360</td>\n",
       "      <td>W - Wohngebiet</td>\n",
       "      <td>0.4</td>\n",
       "      <td>None</td>\n",
       "      <td>2019-01-01T00:00:00</td>\n",
       "      <td>Beitragsfrei nach BauGB</td>\n",
       "      <td>[[url]]</td>\n",
       "      <td>62550028_62550029.02</td>\n",
       "      <td>beide Richtungen</td>\n",
       "      <td>30.0</td>\n",
       "      <td>None</td>\n",
       "      <td>None</td>\n",
       "      <td>angeordnete Verkehrseinschränkung</td>\n",
       "      <td>None</td>\n",
       "      <td>None</td>\n",
       "      <td>52.527997</td>\n",
       "      <td>13.640996</td>\n",
       "      <td>Lemkestr./Greifswalder Str. (Berlin), 12623 Be...</td>\n",
       "      <td>[ { \"long_name\": \"Lemkestr.\\/Greifswalder Str....</td>\n",
       "      <td>12623.0</td>\n",
       "      <td>Bezirk Marzahn-Hellersdorf</td>\n",
       "      <td>None</td>\n",
       "      <td>Lemkestr./Greifswalder Str. (Berlin)</td>\n",
       "      <td>0</td>\n",
       "      <td>Zusammenstoß mit einbiegendem / kreuzendem Fah...</td>\n",
       "      <td>Samstag</td>\n",
       "      <td>Dämmerung</td>\n",
       "      <td>Einbiegen / Kreuzen-Unfall</td>\n",
       "      <td>trocken</td>\n",
       "      <td>81.178609</td>\n",
       "      <td>2.777778</td>\n",
       "      <td>10.202492</td>\n",
       "      <td>3.894081</td>\n",
       "      <td>0.415369</td>\n",
       "      <td>1.531672</td>\n",
       "      <td>21.92029</td>\n",
       "      <td>21.92029</td>\n",
       "      <td>121.761</td>\n",
       "      <td>48.704</td>\n",
       "      <td>0.071523</td>\n",
       "      <td>MULTIPOLYGON (((814765.428 5829893.128, 814764...</td>\n",
       "    </tr>\n",
       "  </tbody>\n",
       "</table>\n",
       "</div>"
      ],
      "text/plain": [
       "   OBJECTID  ULAND  UREGBEZ  UKREIS  UGEMEINDE  UJAHR  UMONAT  USTUNDE  \\\n",
       "0    201103     11        0      10         10   2018       5       14   \n",
       "1    199882     11        0      10         10   2018       4       16   \n",
       "2    204338     11        0      10         10   2018       8        7   \n",
       "3    196865     11        0      10         10   2018       1       18   \n",
       "4    200478     11        0      10         10   2018       5       20   \n",
       "\n",
       "   UWOCHENTAG  UART  UTYP1  ULICHTVERH  IstRad  IstPKW  IstFuss  IstKrad  \\\n",
       "0           5     5      3           0       0       1        0        1   \n",
       "1           6     5      3           0       1       1        0        0   \n",
       "2           6     5      3           0       0       1        0        0   \n",
       "3           2     5      3           2       0       1        0        0   \n",
       "4           7     5      3           1       0       1        0        0   \n",
       "\n",
       "   IstGkfz  IstSonstige  STRZUSTAND      LINREFX       LINREFY  METER  \\\n",
       "0        0            0           0  814741.4342  5.829904e+06  254.0   \n",
       "1        0            0           0  814743.6764  5.829892e+06  254.0   \n",
       "2        0            0           0  814018.8594  5.828964e+06   67.0   \n",
       "3        0            0           0  814875.2039  5.830058e+06  220.0   \n",
       "4        0            0           0  814755.4276  5.829893e+06  254.0   \n",
       "\n",
       "    STR_NAME     DTV                  HERKUNFT  NAME KNAME        PLR_NAME  \\\n",
       "0  Lemkestr.  3852.0  Modellrechnung 2014, VMZ  None  None  Mahlsdorf Nord   \n",
       "1  Lemkestr.  3852.0  Modellrechnung 2014, VMZ  None  None  Mahlsdorf Nord   \n",
       "2  Lemkestr.  2868.0  Modellrechnung 2014, VMZ  None  None  Mahlsdorf Nord   \n",
       "3  Lemkestr.  6108.0  Modellrechnung 2014, VMZ  None  None  Mahlsdorf Nord   \n",
       "4  Lemkestr.  3852.0  Modellrechnung 2014, VMZ  None  None  Mahlsdorf Nord   \n",
       "\n",
       "   EW2010    VBUS               VBUS_PERS GESLAERM           GESLAERM_PERS  \\\n",
       "0  8818.0  mittel  niedrig - sehr niedrig   mittel  niedrig - sehr niedrig   \n",
       "1  8818.0  mittel  niedrig - sehr niedrig   mittel  niedrig - sehr niedrig   \n",
       "2  8818.0  mittel  niedrig - sehr niedrig   mittel  niedrig - sehr niedrig   \n",
       "3  8818.0  mittel  niedrig - sehr niedrig   mittel  niedrig - sehr niedrig   \n",
       "4  8818.0  mittel  niedrig - sehr niedrig   mittel  niedrig - sehr niedrig   \n",
       "\n",
       "  GEMEINDE               BEZIRK ANWERT  BRW         NUTZUNG  GFZ  \\\n",
       "0   Berlin  Marzahn-Hellersdorf   None  360  W - Wohngebiet  0.4   \n",
       "1   Berlin  Marzahn-Hellersdorf   None  360  W - Wohngebiet  0.4   \n",
       "2   Berlin  Marzahn-Hellersdorf   None  360  W - Wohngebiet  0.4   \n",
       "3   Berlin  Marzahn-Hellersdorf   None  360  W - Wohngebiet  0.4   \n",
       "4   Berlin  Marzahn-Hellersdorf   None  360  W - Wohngebiet  0.4   \n",
       "\n",
       "  VERFAHRENSART             STICHTAG          BEITRAGSZUSTAND   LUMNUM  \\\n",
       "0          None  2019-01-01T00:00:00  Beitragsfrei nach BauGB  [[url]]   \n",
       "1          None  2019-01-01T00:00:00  Beitragsfrei nach BauGB  [[url]]   \n",
       "2          None  2019-01-01T00:00:00  Beitragsfrei nach BauGB  [[url]]   \n",
       "3          None  2019-01-01T00:00:00  Beitragsfrei nach BauGB  [[url]]   \n",
       "4          None  2019-01-01T00:00:00  Beitragsfrei nach BauGB  [[url]]   \n",
       "\n",
       "                ELEM_NR        VRICHT_TXT  WERT_VES         ZEIT_T  \\\n",
       "0  62550028_62550029.02  beide Richtungen      30.0           None   \n",
       "1  62550028_62550029.02  beide Richtungen      30.0           None   \n",
       "2  61540047_62540021.01  beide Richtungen      30.0           None   \n",
       "3  62550001_62550021.01  beide Richtungen      30.0  07:00 - 17:00   \n",
       "4  62550028_62550029.02  beide Richtungen      30.0           None   \n",
       "\n",
       "                TAG_T                            DURCH_T      DANN_T DAT_T  \\\n",
       "0                None  angeordnete Verkehrseinschränkung        None  None   \n",
       "1                None  angeordnete Verkehrseinschränkung        None  None   \n",
       "2                None  angeordnete Verkehrseinschränkung        None  None   \n",
       "3  Montag bis Freitag                             Kinder  Zeitangabe  None   \n",
       "4                None  angeordnete Verkehrseinschränkung        None  None   \n",
       "\n",
       "         LAT        LON                                  formatted_address  \\\n",
       "0  52.528103  13.640801  Lemkestr./Greifswalder Str. (Berlin), 12623 Be...   \n",
       "1  52.527997  13.640823             Lemkestraße 104, 12623 Berlin, Germany   \n",
       "2  52.520097  13.629297    Albrecht-Dürer-Straße 5C, 12623 Berlin, Germany   \n",
       "3  52.529404  13.642912            Lemkestraße 112B, 12623 Berlin, Germany   \n",
       "4  52.527997  13.640996  Lemkestr./Greifswalder Str. (Berlin), 12623 Be...   \n",
       "\n",
       "                                  address_components  postal_code  \\\n",
       "0  [ { \"long_name\": \"Lemkestr.\\/Greifswalder Str....      12623.0   \n",
       "1  [ { \"long_name\": \"104\", \"short_name\": \"104\", \"...      12623.0   \n",
       "2  [ { \"long_name\": \"5C\", \"short_name\": \"5C\", \"ty...      12623.0   \n",
       "3  [ { \"long_name\": \"112B\", \"short_name\": \"112B\",...      12623.0   \n",
       "4  [ { \"long_name\": \"Lemkestr.\\/Greifswalder Str....      12623.0   \n",
       "\n",
       "                  sublocality street_number  \\\n",
       "0  Bezirk Marzahn-Hellersdorf          None   \n",
       "1  Bezirk Marzahn-Hellersdorf           104   \n",
       "2  Bezirk Marzahn-Hellersdorf            5C   \n",
       "3  Bezirk Marzahn-Hellersdorf          112B   \n",
       "4  Bezirk Marzahn-Hellersdorf          None   \n",
       "\n",
       "                                  route  TARGET  \\\n",
       "0  Lemkestr./Greifswalder Str. (Berlin)       1   \n",
       "1                           Lemkestraße       1   \n",
       "2                 Albrecht-Dürer-Straße       0   \n",
       "3                           Lemkestraße       0   \n",
       "4  Lemkestr./Greifswalder Str. (Berlin)       0   \n",
       "\n",
       "                                          UART_Value UWOCHENTAG_Value  \\\n",
       "0  Zusammenstoß mit einbiegendem / kreuzendem Fah...       Donnerstag   \n",
       "1  Zusammenstoß mit einbiegendem / kreuzendem Fah...          Freitag   \n",
       "2  Zusammenstoß mit einbiegendem / kreuzendem Fah...          Freitag   \n",
       "3  Zusammenstoß mit einbiegendem / kreuzendem Fah...           Montag   \n",
       "4  Zusammenstoß mit einbiegendem / kreuzendem Fah...          Samstag   \n",
       "\n",
       "  ULICHTVERH_Value                 UTYP1_Value STRZUSTAND_Value  ANTEIL_PKW  \\\n",
       "0       Tageslicht  Einbiegen / Kreuzen-Unfall          trocken   81.178609   \n",
       "1       Tageslicht  Einbiegen / Kreuzen-Unfall          trocken   81.178609   \n",
       "2       Tageslicht  Einbiegen / Kreuzen-Unfall          trocken   80.613668   \n",
       "3       Dunkelheit  Einbiegen / Kreuzen-Unfall          trocken   81.777996   \n",
       "4        Dämmerung  Einbiegen / Kreuzen-Unfall          trocken   81.178609   \n",
       "\n",
       "   ANTEIL_LKW  ANTEIL_LIEFERWAGEN  ANTEIL_LINIENBUSSE  ANTEIL_REISEBUSSE  \\\n",
       "0    2.777778           10.202492            3.894081           0.415369   \n",
       "1    2.777778           10.202492            3.894081           0.415369   \n",
       "2    2.894003           10.216179            4.184100           0.557880   \n",
       "3    3.601834           10.216110            2.619515           0.261952   \n",
       "4    2.777778           10.202492            3.894081           0.415369   \n",
       "\n",
       "   ANTEIL_KRAD  UKREIS_AVG_TARGET  UGEMEINDE_AVG_TARGET  CRASH_BY_DTV  \\\n",
       "0     1.531672           21.92029              21.92029       121.761   \n",
       "1     1.531672           21.92029              21.92029       121.761   \n",
       "2     1.534170           21.92029              21.92029       121.761   \n",
       "3     1.522593           21.92029              21.92029       121.761   \n",
       "4     1.531672           21.92029              21.92029       121.761   \n",
       "\n",
       "   FATAL_CRASH_BY_DTV  Indicator  \\\n",
       "0              48.704   0.071523   \n",
       "1              48.704   0.071523   \n",
       "2              48.704   0.071523   \n",
       "3              48.704   0.071523   \n",
       "4              48.704   0.071523   \n",
       "\n",
       "                                            geometry  \n",
       "0  MULTIPOLYGON (((814751.434 5829903.997, 814750...  \n",
       "1  MULTIPOLYGON (((814753.676 5829892.369, 814753...  \n",
       "2  MULTIPOLYGON (((814028.859 5828964.065, 814028...  \n",
       "3  MULTIPOLYGON (((814885.204 5830057.780, 814884...  \n",
       "4  MULTIPOLYGON (((814765.428 5829893.128, 814764...  "
      ]
     },
     "execution_count": 36,
     "metadata": {},
     "output_type": "execute_result"
    }
   ],
   "source": [
    "crash_data.head()"
   ]
  },
  {
   "cell_type": "code",
   "execution_count": 37,
   "metadata": {},
   "outputs": [],
   "source": [
    "affected_crash_data = crash_data[((crash_data['UTYP1'] == 2) | (crash_data['UTYP1'] == 3))]"
   ]
  },
  {
   "cell_type": "code",
   "execution_count": 38,
   "metadata": {},
   "outputs": [
    {
     "data": {
      "text/plain": [
       "(4972, 77)"
      ]
     },
     "execution_count": 38,
     "metadata": {},
     "output_type": "execute_result"
    }
   ],
   "source": [
    "affected_crash_data.shape"
   ]
  },
  {
   "cell_type": "code",
   "execution_count": 39,
   "metadata": {},
   "outputs": [
    {
     "name": "stderr",
     "output_type": "stream",
     "text": [
      "/Users/haju/anaconda3/lib/python3.7/site-packages/ipykernel_launcher.py:2: SettingWithCopyWarning: \n",
      "A value is trying to be set on a copy of a slice from a DataFrame.\n",
      "Try using .loc[row_indexer,col_indexer] = value instead\n",
      "\n",
      "See the caveats in the documentation: http://pandas.pydata.org/pandas-docs/stable/indexing.html#indexing-view-versus-copy\n",
      "  \n",
      "/Users/haju/anaconda3/lib/python3.7/site-packages/pandas/core/indexing.py:543: SettingWithCopyWarning: \n",
      "A value is trying to be set on a copy of a slice from a DataFrame.\n",
      "Try using .loc[row_indexer,col_indexer] = value instead\n",
      "\n",
      "See the caveats in the documentation: http://pandas.pydata.org/pandas-docs/stable/indexing.html#indexing-view-versus-copy\n",
      "  self.obj[item] = s\n"
     ]
    },
    {
     "data": {
      "text/plain": [
       "(2729, 75)"
      ]
     },
     "execution_count": 39,
     "metadata": {},
     "output_type": "execute_result"
    }
   ],
   "source": [
    "# Feld Nahe Ampel erzeugen\n",
    "affected_crash_data['NAHE_AMPEL'] = 0\n",
    "affected_crash_data.loc[~affected_crash_data[\"KNAME\"].isna(), ['NAHE_AMPEL']] = 1\n",
    "affected_crash_data = affected_crash_data.drop([\"NAME\",\"KNAME\",\"PLR_NAME\"], axis=1)\n",
    "\n",
    "affected_crash_data.loc[affected_crash_data['NAHE_AMPEL'] == 1].shape"
   ]
  },
  {
   "cell_type": "markdown",
   "metadata": {},
   "source": [
    "### 1.2 Clustering zur Sicherstellung von Vergleichbarkeit (Ab jetzt in QGIS realisiert über DBSCAN)"
   ]
  },
  {
   "cell_type": "code",
   "execution_count": 40,
   "metadata": {},
   "outputs": [],
   "source": [
    "#str(crash_data.iloc[0, :].geometry[ 0 ].centroid)\n",
    "# 1. Loope über alle Crash Daten\n",
    "# 2. Hole den Centroid aus dem 1. Polygon str(crash_data.iloc[0, :].geometry[ 0 ].centroid)\n",
    "# 3. replace geometry with the point\n",
    "#df_new = pd.DataFrame(columns = [])\n",
    "#for index, row in crash_data.iterrows():\n",
    "#    print(index)\n",
    "#    row.geometry = row.geometry[ 0 ].centroid \n",
    "#    df_new = df_new.append(row, ignore_index=True)"
   ]
  },
  {
   "cell_type": "raw",
   "metadata": {},
   "source": [
    "#groups.append([\"Test3\",\"Test4\"])\n",
    "#\n",
    "#for element in group:\n",
    "#    print(element)\n",
    "#distancematrix = gpd.read_file('distanzmatrix.geojson')\n",
    "#groups = []\n",
    "#for index, row in distancematrix.iterrows():\n",
    " #   print(index)\n",
    "  #  if row['Distance'] > 10:\n",
    "    #    group = []\n",
    "   #     group.append(row['InputID'])\n",
    "     #   groups.append(group)\n",
    "#    else:\n",
    "        existingGroup = False\n",
    "        groupIndex = 0\n",
    "        for element in groups:\n",
    "            if row['TargetID'] in element:\n",
    "                groups[groupIndex].append(row['InputID'])\n",
    "                existingGroup = True\n",
    "                groupIndex = groupIndex + 1\n",
    "        if existingGroup == False:\n",
    "            group = []\n",
    "            group.append(row['InputID'])\n",
    "            groups.append(group)\n",
    "            \n",
    "groupIndex = groupIndex + 1\n",
    "\n",
    "\n",
    "import geopandas as gpd\n",
    "import pandas as pd\n",
    "import numpy as np\n",
    "pd.options.display.max_columns = None\n",
    "crash_data = gpd.read_file('U_VM_A_L_BRW_TL.geojson') \n",
    "geo_information = pd.read_csv('geo_information.csv', sep=';')\n",
    "\n",
    "affected_crash_data = crash_data[((crash_data['UTYP1'] == 2) | (crash_data['UTYP1'] == 3))]\n",
    "\n",
    "# Feld Nahe Ampel erzeugen\n",
    "affected_crash_data['NAHE_AMPEL'] = 0\n",
    "affected_crash_data.loc[~affected_crash_data[\"KNAME\"].isna(), ['NAHE_AMPEL']] = 1\n",
    "affected_crash_data = affected_crash_data.drop([\"NAME\",\"KNAME\",\"PLR_NAME\"], axis=1)\n",
    "\n",
    "merge = pd.merge(affected_crash_data, geo_information, left_on=['OBJECTID'], right_on=['OBJECTID'],  how='inner')\n",
    "\n",
    "from sklearn.cluster import DBSCAN\n",
    "import numpy as np\n",
    "array = []\n",
    "for index, row in merge.iterrows():\n",
    "    appendix = [ row['LAT'], row['LON'] ]\n",
    "    array.append(appendix)\n",
    "    \n",
    "    \n",
    "X = np.array(array)\n",
    "clustering = DBSCAN(eps=10, min_samples=100).fit(X)\n",
    "test = clustering.labels_\n",
    "clustering \n",
    "#DBSCAN(algorithm='auto', eps=3, leaf_size=30, metric='euclidean',\n",
    "#    metric_params=None, min_samples=2, n_jobs=None, p=None)     "
   ]
  },
  {
   "cell_type": "markdown",
   "metadata": {},
   "source": [
    "### 1.3 Einlesen, der in QGIS ermittelten Cluster"
   ]
  },
  {
   "cell_type": "code",
   "execution_count": 41,
   "metadata": {},
   "outputs": [],
   "source": [
    "cluster = pd.read_csv(\"../01_Source/haeufung.csv\",sep=';')\n",
    "affected_crash_data = pd.merge(affected_crash_data, cluster, left_on=['OBJECTID'], right_on=['OBJECTID'],  how='inner')"
   ]
  },
  {
   "cell_type": "code",
   "execution_count": 42,
   "metadata": {},
   "outputs": [
    {
     "data": {
      "text/plain": [
       "(4972,)"
      ]
     },
     "execution_count": 42,
     "metadata": {},
     "output_type": "execute_result"
    }
   ],
   "source": [
    "affected_crash_data['OBJECTID'].shape"
   ]
  },
  {
   "cell_type": "markdown",
   "metadata": {},
   "source": [
    "## 2 Betrachtung der Daten"
   ]
  },
  {
   "cell_type": "code",
   "execution_count": 43,
   "metadata": {},
   "outputs": [
    {
     "data": {
      "text/plain": [
       "(2729,)"
      ]
     },
     "execution_count": 43,
     "metadata": {},
     "output_type": "execute_result"
    }
   ],
   "source": [
    "crashes_near_traffic_light = affected_crash_data[ affected_crash_data['NAHE_AMPEL'] == 1 ]\n",
    "crashes_near_traffic_light['OBJECTID'].shape"
   ]
  },
  {
   "cell_type": "code",
   "execution_count": 44,
   "metadata": {},
   "outputs": [
    {
     "data": {
      "text/plain": [
       "(2243,)"
      ]
     },
     "execution_count": 44,
     "metadata": {},
     "output_type": "execute_result"
    }
   ],
   "source": [
    "crashes_without_traffic_light = affected_crash_data[affected_crash_data['NAHE_AMPEL'] == 0]\n",
    "crashes_without_traffic_light['OBJECTID'].shape"
   ]
  },
  {
   "cell_type": "code",
   "execution_count": 45,
   "metadata": {},
   "outputs": [
    {
     "data": {
      "text/plain": [
       "2.1693163751987283"
      ]
     },
     "execution_count": 45,
     "metadata": {},
     "output_type": "execute_result"
    }
   ],
   "source": [
    "#Durchschnittliche Anzahl an Unfällen um eine Ampel rum im Vergleich zu Kreuzungen\n",
    "cnt_crtl = crashes_near_traffic_light.groupby('CLUSTER_ID')[['OBJECTID']].count()\n",
    "cnt_crtl.rename(columns=lambda x: 'Cnt' + x, inplace=True)\n",
    "cnt_crtl['CntOBJECTID'].mean()"
   ]
  },
  {
   "cell_type": "code",
   "execution_count": 46,
   "metadata": {},
   "outputs": [
    {
     "data": {
      "text/plain": [
       "1.406269592476489"
      ]
     },
     "execution_count": 46,
     "metadata": {},
     "output_type": "execute_result"
    }
   ],
   "source": [
    "cnt_cwtl = crashes_without_traffic_light.groupby('CLUSTER_ID')[['OBJECTID']].count()\n",
    "cnt_cwtl.rename(columns=lambda x: 'Cnt' + x, inplace=True)\n",
    "cnt_cwtl['CntOBJECTID'].mean()"
   ]
  },
  {
   "cell_type": "markdown",
   "metadata": {},
   "source": [
    "In einer einfachen Betrachtung scheint es zunächst so, dass eine Ampel mehr Abbiege- und Kreuzungsunfälle verursacht."
   ]
  },
  {
   "cell_type": "markdown",
   "metadata": {},
   "source": [
    "Die Verteilung der Anzahl von Unfällen scheint an dieser Stelle noch nicht geeignet, um zu prüfen, ob Ampeln bei der Reduktion von Unfällen helfen, da es auch seien könnte, dass es einfach viele Kreuzungen ohne Ampel gibt, die aufgrund diverser Features nicht so anfällig für Verkehrsunfälle sind.<br>\n",
    "\n",
    "Zunächst ist zu beantworten: Welche Features machen einen Ort/Spot besonders gefährlich/prädestiniert für Unfälle und wie könnte dies in Form eines Indizes abgebildet werden: <br>\n",
    "\n",
    "1. Wie finde ich das heraus?<br>\n",
    "Als vereinfachte Kennzahl wird im Folgenden das Feature indicator verwendet, welches eine relative Berechnung \n",
    "der Anzahl an Unfällen je Verkehrsmenge je Meter darstellt.\n",
    "\n",
    "\n"
   ]
  },
  {
   "cell_type": "code",
   "execution_count": 47,
   "metadata": {},
   "outputs": [
    {
     "data": {
      "text/plain": [
       "0.2579648054654653"
      ]
     },
     "execution_count": 47,
     "metadata": {},
     "output_type": "execute_result"
    }
   ],
   "source": [
    "#Durchschnittliche Anzahl an Unfällen um eine Ampel rum im Vergleich zu Kreuzungen\n",
    "cnt_crtl = crashes_near_traffic_light.groupby('CLUSTER_ID')[['Indicator']].sum()\n",
    "cnt_crtl.rename(columns=lambda x: 'Sum' + x, inplace=True)\n",
    "cnt_crtl['SumIndicator'].mean()"
   ]
  },
  {
   "cell_type": "code",
   "execution_count": 48,
   "metadata": {},
   "outputs": [
    {
     "data": {
      "text/plain": [
       "0.14892928634644262"
      ]
     },
     "execution_count": 48,
     "metadata": {},
     "output_type": "execute_result"
    }
   ],
   "source": [
    "cnt_cwtl = crashes_without_traffic_light.groupby('CLUSTER_ID')[['Indicator']].sum()\n",
    "cnt_cwtl.rename(columns=lambda x: 'Sum' + x, inplace=True)\n",
    "cnt_cwtl['SumIndicator'].mean()"
   ]
  },
  {
   "cell_type": "markdown",
   "metadata": {},
   "source": [
    "Es scheint als würde das Bestehen von Ampel "
   ]
  },
  {
   "cell_type": "code",
   "execution_count": 49,
   "metadata": {},
   "outputs": [
    {
     "ename": "ValueError",
     "evalue": "The truth value of a Series is ambiguous. Use a.empty, a.bool(), a.item(), a.any() or a.all().",
     "output_type": "error",
     "traceback": [
      "\u001b[0;31m---------------------------------------------------------------------------\u001b[0m",
      "\u001b[0;31mValueError\u001b[0m                                Traceback (most recent call last)",
      "\u001b[0;32m<ipython-input-49-7f7972385c36>\u001b[0m in \u001b[0;36m<module>\u001b[0;34m\u001b[0m\n\u001b[1;32m      4\u001b[0m \u001b[0maffected_crash_data\u001b[0m \u001b[0;34m=\u001b[0m \u001b[0mpd\u001b[0m\u001b[0;34m.\u001b[0m\u001b[0mmerge\u001b[0m\u001b[0;34m(\u001b[0m\u001b[0maffected_crash_data\u001b[0m\u001b[0;34m,\u001b[0m \u001b[0maffected_crash_data_cnt\u001b[0m\u001b[0;34m,\u001b[0m \u001b[0mleft_on\u001b[0m\u001b[0;34m=\u001b[0m\u001b[0;34m[\u001b[0m\u001b[0;34m'CLUSTER_ID'\u001b[0m\u001b[0;34m]\u001b[0m\u001b[0;34m,\u001b[0m \u001b[0mright_on\u001b[0m\u001b[0;34m=\u001b[0m\u001b[0;34m[\u001b[0m\u001b[0;34m'CLUSTER_ID'\u001b[0m\u001b[0;34m]\u001b[0m\u001b[0;34m,\u001b[0m  \u001b[0mhow\u001b[0m\u001b[0;34m=\u001b[0m\u001b[0;34m'inner'\u001b[0m\u001b[0;34m)\u001b[0m\u001b[0;34m\u001b[0m\u001b[0;34m\u001b[0m\u001b[0m\n\u001b[1;32m      5\u001b[0m \u001b[0mcorr_matrix\u001b[0m \u001b[0;34m=\u001b[0m \u001b[0maffected_crash_data\u001b[0m\u001b[0;34m.\u001b[0m\u001b[0mcorr\u001b[0m\u001b[0;34m(\u001b[0m\u001b[0;34m)\u001b[0m\u001b[0;34m\u001b[0m\u001b[0;34m\u001b[0m\u001b[0m\n\u001b[0;32m----> 6\u001b[0;31m \u001b[0mcorr_matrix\u001b[0m\u001b[0;34m[\u001b[0m \u001b[0;34m(\u001b[0m\u001b[0mcorr_matrix\u001b[0m\u001b[0;34m[\u001b[0m\u001b[0;34m\"CntOBJECTID\"\u001b[0m\u001b[0;34m]\u001b[0m \u001b[0;34m>\u001b[0m \u001b[0;36m0.1\u001b[0m\u001b[0;34m)\u001b[0m \u001b[0;32mor\u001b[0m \u001b[0;34m(\u001b[0m\u001b[0mcorr_matrix\u001b[0m\u001b[0;34m[\u001b[0m\u001b[0;34m\"CntOBJECTID\"\u001b[0m\u001b[0;34m]\u001b[0m \u001b[0;34m<\u001b[0m \u001b[0;34m-\u001b[0m\u001b[0;36m0.1\u001b[0m\u001b[0;34m)\u001b[0m \u001b[0;34m]\u001b[0m\u001b[0;34m\u001b[0m\u001b[0;34m\u001b[0m\u001b[0m\n\u001b[0m",
      "\u001b[0;32m~/anaconda3/lib/python3.7/site-packages/pandas/core/generic.py\u001b[0m in \u001b[0;36m__nonzero__\u001b[0;34m(self)\u001b[0m\n\u001b[1;32m   1476\u001b[0m         raise ValueError(\"The truth value of a {0} is ambiguous. \"\n\u001b[1;32m   1477\u001b[0m                          \u001b[0;34m\"Use a.empty, a.bool(), a.item(), a.any() or a.all().\"\u001b[0m\u001b[0;34m\u001b[0m\u001b[0;34m\u001b[0m\u001b[0m\n\u001b[0;32m-> 1478\u001b[0;31m                          .format(self.__class__.__name__))\n\u001b[0m\u001b[1;32m   1479\u001b[0m \u001b[0;34m\u001b[0m\u001b[0m\n\u001b[1;32m   1480\u001b[0m     \u001b[0m__bool__\u001b[0m \u001b[0;34m=\u001b[0m \u001b[0m__nonzero__\u001b[0m\u001b[0;34m\u001b[0m\u001b[0;34m\u001b[0m\u001b[0m\n",
      "\u001b[0;31mValueError\u001b[0m: The truth value of a Series is ambiguous. Use a.empty, a.bool(), a.item(), a.any() or a.all()."
     ]
    }
   ],
   "source": [
    "#Wo könnten ggf. Korrelationen existieren?\n",
    "affected_crash_data_cnt = affected_crash_data.groupby('CLUSTER_ID')[['OBJECTID']].count()\n",
    "affected_crash_data_cnt.rename(columns=lambda x: 'Cnt' + x, inplace=True)\n",
    "affected_crash_data = pd.merge(affected_crash_data, affected_crash_data_cnt, left_on=['CLUSTER_ID'], right_on=['CLUSTER_ID'],  how='inner')\n",
    "corr_matrix = affected_crash_data.corr()\n",
    "corr_matrix[ -0.1 > corr_matrix[\"CntOBJECTID\"] > 0.1 ]"
   ]
  },
  {
   "cell_type": "code",
   "execution_count": 33,
   "metadata": {},
   "outputs": [
    {
     "data": {
      "text/plain": [
       "array([[<matplotlib.axes._subplots.AxesSubplot object at 0x11fba8080>,\n",
       "        <matplotlib.axes._subplots.AxesSubplot object at 0x11fbc3828>,\n",
       "        <matplotlib.axes._subplots.AxesSubplot object at 0x11fbdc978>,\n",
       "        <matplotlib.axes._subplots.AxesSubplot object at 0x11fbf6518>,\n",
       "        <matplotlib.axes._subplots.AxesSubplot object at 0x11fc11e10>,\n",
       "        <matplotlib.axes._subplots.AxesSubplot object at 0x11fc2ec50>],\n",
       "       [<matplotlib.axes._subplots.AxesSubplot object at 0x11fc47550>,\n",
       "        <matplotlib.axes._subplots.AxesSubplot object at 0x11fc60b00>,\n",
       "        <matplotlib.axes._subplots.AxesSubplot object at 0x11fc60a90>,\n",
       "        <matplotlib.axes._subplots.AxesSubplot object at 0x11fc924a8>,\n",
       "        <matplotlib.axes._subplots.AxesSubplot object at 0x11fcb1080>,\n",
       "        <matplotlib.axes._subplots.AxesSubplot object at 0x11fccb9e8>],\n",
       "       [<matplotlib.axes._subplots.AxesSubplot object at 0x11fce6f60>,\n",
       "        <matplotlib.axes._subplots.AxesSubplot object at 0x11fd026d8>,\n",
       "        <matplotlib.axes._subplots.AxesSubplot object at 0x11fd1fa90>,\n",
       "        <matplotlib.axes._subplots.AxesSubplot object at 0x11fd36b38>,\n",
       "        <matplotlib.axes._subplots.AxesSubplot object at 0x11fd52ba8>,\n",
       "        <matplotlib.axes._subplots.AxesSubplot object at 0x11fd721d0>],\n",
       "       [<matplotlib.axes._subplots.AxesSubplot object at 0x11fd8f3c8>,\n",
       "        <matplotlib.axes._subplots.AxesSubplot object at 0x11fdabb00>,\n",
       "        <matplotlib.axes._subplots.AxesSubplot object at 0x11fdc50b8>,\n",
       "        <matplotlib.axes._subplots.AxesSubplot object at 0x11fde3a90>,\n",
       "        <matplotlib.axes._subplots.AxesSubplot object at 0x11fdffba8>,\n",
       "        <matplotlib.axes._subplots.AxesSubplot object at 0x11fe19ac8>],\n",
       "       [<matplotlib.axes._subplots.AxesSubplot object at 0x11fe38e48>,\n",
       "        <matplotlib.axes._subplots.AxesSubplot object at 0x11fe52198>,\n",
       "        <matplotlib.axes._subplots.AxesSubplot object at 0x11fe69f98>,\n",
       "        <matplotlib.axes._subplots.AxesSubplot object at 0x11fe85160>,\n",
       "        <matplotlib.axes._subplots.AxesSubplot object at 0x11fea3c50>,\n",
       "        <matplotlib.axes._subplots.AxesSubplot object at 0x11febd5f8>],\n",
       "       [<matplotlib.axes._subplots.AxesSubplot object at 0x11fed7208>,\n",
       "        <matplotlib.axes._subplots.AxesSubplot object at 0x11fef4f28>,\n",
       "        <matplotlib.axes._subplots.AxesSubplot object at 0x11ff0c7f0>,\n",
       "        <matplotlib.axes._subplots.AxesSubplot object at 0x11ff26198>,\n",
       "        <matplotlib.axes._subplots.AxesSubplot object at 0x11ff41320>,\n",
       "        <matplotlib.axes._subplots.AxesSubplot object at 0x11ff5cf28>]],\n",
       "      dtype=object)"
      ]
     },
     "execution_count": 33,
     "metadata": {},
     "output_type": "execute_result"
    }
   ],
   "source": [
    "from pandas.plotting import scatter_matrix\n",
    "attributes = [\"CntOBJECTID\", \"NAHE_AMPEL\", \"DTV\",\"UMONAT\",\"ULICHTVERH\",\"UGEMEINDE\"]\n",
    "scatter_matrix(affected_crash_data[attributes], figsize=(12,8))"
   ]
  },
  {
   "cell_type": "code",
   "execution_count": 20,
   "metadata": {},
   "outputs": [
    {
     "data": {
      "text/plain": [
       "1     681\n",
       "2     280\n",
       "3     136\n",
       "4      83\n",
       "5      56\n",
       "6      37\n",
       "7      20\n",
       "8       9\n",
       "9       8\n",
       "11      4\n",
       "10      4\n",
       "13      2\n",
       "12      2\n",
       "17      1\n",
       "16      1\n",
       "15      1\n",
       "Name: CntOBJECTID, dtype: int64"
      ]
     },
     "execution_count": 20,
     "metadata": {},
     "output_type": "execute_result"
    }
   ],
   "source": [
    "# Macht es eventuell Sinn Orte an denen es nur einen Unfall gab rauszuwerfen\n",
    "cnt_crtl['CntOBJECTID'].value_counts()"
   ]
  },
  {
   "cell_type": "code",
   "execution_count": 21,
   "metadata": {},
   "outputs": [
    {
     "data": {
      "text/plain": [
       "1     1817\n",
       "2      337\n",
       "3       88\n",
       "4       47\n",
       "5       24\n",
       "6       14\n",
       "11       2\n",
       "7        2\n",
       "9        1\n",
       "14       1\n",
       "8        1\n",
       "Name: CntOBJECTID, dtype: int64"
      ]
     },
     "execution_count": 21,
     "metadata": {},
     "output_type": "execute_result"
    }
   ],
   "source": [
    "cnt_cwtl['CntOBJECTID'].value_counts()"
   ]
  },
  {
   "cell_type": "code",
   "execution_count": 1,
   "metadata": {},
   "outputs": [],
   "source": [
    "#Einbeziehung weiterer Parameter\n",
    "#Verkehrsmenge auf Straßenabschnitten <br/>\n",
    "#Verkehrsmenge auf Straßenabschnitten ggf. Kategorisierung in hohes Verehrsaufkommen, mittleres, niedriges  <br/>\n",
    "#Vergleich von Bezirken Anzahl Ampeln je durchschnittliche Verkehrsmenge <br/>\n",
    "#Tempolimits einbringen <br/>"
   ]
  },
  {
   "cell_type": "code",
   "execution_count": 28,
   "metadata": {},
   "outputs": [
    {
     "data": {
      "text/plain": [
       "<matplotlib.legend.Legend at 0x118a665c0>"
      ]
     },
     "execution_count": 28,
     "metadata": {},
     "output_type": "execute_result"
    }
   ],
   "source": [
    "import matplotlib.pyplot as plt\n",
    "plt.scatter(x=affected_crash_data[\"DTV\"], y=affected_crash_data[\"CntOBJECTID\"], c=affected_crash_data[\"NAHE_AMPEL\"], alpha=0.1,cmap=plt.get_cmap(\"jet\"))\n",
    "plt.legend()"
   ]
  },
  {
   "cell_type": "code",
   "execution_count": 29,
   "metadata": {},
   "outputs": [
    {
     "data": {
      "text/plain": [
       "<matplotlib.legend.Legend at 0x118a71908>"
      ]
     },
     "execution_count": 29,
     "metadata": {},
     "output_type": "execute_result"
    },
    {
     "data": {
      "image/png": "[encoded data removed]",
      "text/plain": [
       "<Figure size 432x288 with 1 Axes>"
      ]
     },
     "metadata": {
      "needs_background": "light"
     },
     "output_type": "display_data"
    }
   ],
   "source": [
    "plt.scatter(x=affected_crash_data[\"WERT_VES\"], y=affected_crash_data[\"CntOBJECTID\"], c=affected_crash_data[\"NAHE_AMPEL\"], alpha=0.1,cmap=plt.get_cmap(\"jet\"))\n",
    "plt.legend()\n"
   ]
  },
  {
   "cell_type": "code",
   "execution_count": 30,
   "metadata": {},
   "outputs": [
    {
     "data": {
      "text/plain": [
       "(3700,)"
      ]
     },
     "execution_count": 30,
     "metadata": {},
     "output_type": "execute_result"
    }
   ],
   "source": [
    "affected_crash_data_reduced = affected_crash_data[affected_crash_data['CntOBJECTID'] >= 2]\n",
    "affected_crash_data_reduced['OBJECTID'].shape"
   ]
  },
  {
   "cell_type": "code",
   "execution_count": 63,
   "metadata": {},
   "outputs": [
    {
     "data": {
      "text/plain": [
       "<matplotlib.legend.Legend at 0x125d321d0>"
      ]
     },
     "execution_count": 63,
     "metadata": {},
     "output_type": "execute_result"
    },
    {
     "data": {
      "image/png": "[encoded data removed]",
      "text/plain": [
       "<Figure size 432x288 with 1 Axes>"
      ]
     },
     "metadata": {
      "needs_background": "light"
     },
     "output_type": "display_data"
    }
   ],
   "source": [
    "plt.scatter(x=affected_crash_data_reduced[\"DTV\"], y=affected_crash_data_reduced[\"CntOBJECTID\"], c=affected_crash_data_reduced[\"NAHE_AMPEL\"], alpha=0.1,cmap=plt.get_cmap(\"jet\"))\n",
    "plt.legend()"
   ]
  },
  {
   "cell_type": "code",
   "execution_count": 20,
   "metadata": {},
   "outputs": [
    {
     "data": {
      "text/plain": [
       "count     5362.000000\n",
       "mean     17699.612272\n",
       "std      11301.854668\n",
       "min          0.000000\n",
       "25%       9360.000000\n",
       "50%      15300.000000\n",
       "75%      24007.500000\n",
       "max      82082.000000\n",
       "Name: DTV, dtype: float64"
      ]
     },
     "execution_count": 20,
     "metadata": {},
     "output_type": "execute_result"
    }
   ],
   "source": [
    "affected_crash_data[\"DTV\"].describe()"
   ]
  },
  {
   "cell_type": "code",
   "execution_count": 24,
   "metadata": {},
   "outputs": [],
   "source": [
    "affected_crash_data['DTV_GROUP'] = np.where(affected_crash_data['DTV'] < 9360, 1, np.where(affected_crash_data['DTV'] < 15300, 2, np.where(affected_crash_data['DTV'] < 24007, 3, np.where(affected_crash_data['DTV'] < 82082, 4, 5))))"
   ]
  },
  {
   "cell_type": "code",
   "execution_count": 26,
   "metadata": {},
   "outputs": [
    {
     "data": {
      "text/plain": [
       "3    1344\n",
       "2    1341\n",
       "4    1340\n",
       "1    1336\n",
       "5     802\n",
       "Name: DTV_GROUP, dtype: int64"
      ]
     },
     "execution_count": 26,
     "metadata": {},
     "output_type": "execute_result"
    }
   ],
   "source": [
    "affected_crash_data['DTV_GROUP'].value_counts()"
   ]
  },
  {
   "cell_type": "code",
   "execution_count": null,
   "metadata": {},
   "outputs": [],
   "source": [
    "affected_crash_data.to_file(\"../01_Source/frage1_tableau.geojson\")"
   ]
  },
  {
   "cell_type": "code",
   "execution_count": null,
   "metadata": {},
   "outputs": [],
   "source": []
  }
 ],
 "metadata": {
  "kernelspec": {
   "display_name": "Python 3",
   "language": "python",
   "name": "python3"
  },
  "language_info": {
   "codemirror_mode": {
    "name": "ipython",
    "version": 3
   },
   "file_extension": ".py",
   "mimetype": "text/x-python",
   "name": "python",
   "nbconvert_exporter": "python",
   "pygments_lexer": "ipython3",
   "version": "3.7.3"
  }
 },
 "nbformat": 4,
 "nbformat_minor": 2
}
