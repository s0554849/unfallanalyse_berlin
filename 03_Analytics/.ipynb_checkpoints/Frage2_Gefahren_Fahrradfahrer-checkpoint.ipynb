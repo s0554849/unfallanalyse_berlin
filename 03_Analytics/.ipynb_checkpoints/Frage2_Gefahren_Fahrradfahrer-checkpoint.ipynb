{
 "cells": [
  {
   "cell_type": "markdown",
   "metadata": {},
   "source": [
    "<h1>Vorhersage, ob es bei einem Unfall Schwerverletzte/Tote gibt</h1>"
   ]
  },
  {
   "cell_type": "code",
   "execution_count": 1,
   "metadata": {},
   "outputs": [],
   "source": [
    "import geopandas as gpd\n",
    "import pandas as pd\n",
    "import numpy as np\n",
    "pd.options.display.max_columns = None\n",
    "crash_data = gpd.read_file('../01_Source/consolidatedDataSet.geojson') "
   ]
  },
  {
   "cell_type": "markdown",
   "metadata": {},
   "source": [
    "## 1. Vorbereitung des Datensatzes"
   ]
  },
  {
   "cell_type": "markdown",
   "metadata": {},
   "source": [
    "### 1.1 Vorbereitung der Datenbasis für die konkrete Verarbeitung"
   ]
  },
  {
   "cell_type": "code",
   "execution_count": 10,
   "metadata": {},
   "outputs": [],
   "source": [
    "#crash_data = crash_data.drop([\"OBJECTID\",\"STR_NAME\"], axis=1)\n",
    "\n",
    "\n",
    "crash_data_copy = crash_data.copy()\n",
    "crash_data_copy = pd.get_dummies(crash_data_copy, columns=[\"UART_Value\"], prefix='UART_Value_')\n",
    "crash_data_copy = pd.get_dummies(crash_data_copy, columns=[\"UWOCHENTAG_Value\"], prefix='UWOCHENTAG_Value_')\n",
    "crash_data_copy = pd.get_dummies(crash_data_copy, columns=[\"UTYP1_Value\"], prefix='UTYP1_Value_')\n",
    "crash_data_copy = pd.get_dummies(crash_data_copy, columns=[\"ULICHTVERH_Value\"], prefix='ULICHTVERH_Value_')\n",
    "crash_data_copy = pd.get_dummies(crash_data_copy, columns=[\"STRZUSTAND_Value\"], prefix='STRZUSTAND_Value_')\n",
    "crash_data_copy = pd.get_dummies(crash_data_copy, columns=[\"NUTZUNG\"], prefix='NUTZUNG_')\n",
    "crash_data_copy = pd.get_dummies(crash_data_copy, columns=[\"GESLAERM\"], prefix='GESLAERM_')\n",
    "\n",
    "#corr_matrix = crash_data_copy.corr()\n",
    "#corr_matrix[\"TARGET\"]\n",
    "crash_data_copy = crash_data_copy.drop([\"geometry\"], axis=1)"
   ]
  },
  {
   "cell_type": "markdown",
   "metadata": {},
   "source": [
    "### 1.2 Train-Test Split"
   ]
  },
  {
   "cell_type": "code",
   "execution_count": 11,
   "metadata": {},
   "outputs": [],
   "source": [
    "# Import train_test_split function\n",
    "from sklearn.model_selection import train_test_split\n",
    "\n",
    "X = crash_data_copy.drop([\"TARGET\"] , axis=1)\n",
    "Y = crash_data_copy[\"TARGET\"]\n",
    "X_train, X_test, y_train, y_test = train_test_split(X,Y, test_size=0.2, random_state=42)\n",
    "from imblearn.over_sampling import SMOTE\n",
    "sm = SMOTE(random_state=12, ratio = 1.0)\n",
    "x_train_res, y_train_res = sm.fit_sample(X_train, y_train)"
   ]
  },
  {
   "cell_type": "markdown",
   "metadata": {},
   "source": [
    "### 2.1 Trainieren und Testen eines RandomForestClassifiers"
   ]
  },
  {
   "cell_type": "code",
   "execution_count": 26,
   "metadata": {},
   "outputs": [
    {
     "data": {
      "text/plain": [
       "0    8586\n",
       "1    1743\n",
       "Name: TARGET, dtype: int64"
      ]
     },
     "execution_count": 26,
     "metadata": {},
     "output_type": "execute_result"
    }
   ],
   "source": [
    "crash_data_copy[\"TARGET\"].value_counts()"
   ]
  },
  {
   "cell_type": "code",
   "execution_count": 27,
   "metadata": {},
   "outputs": [
    {
     "data": {
      "text/plain": [
       "0.806175107145981"
      ]
     },
     "execution_count": 27,
     "metadata": {},
     "output_type": "execute_result"
    }
   ],
   "source": [
    "(11433-2216)/11433"
   ]
  },
  {
   "cell_type": "code",
   "execution_count": 12,
   "metadata": {},
   "outputs": [
    {
     "name": "stdout",
     "output_type": "stream",
     "text": [
      "Fitting 10 folds for each of 288 candidates, totalling 2880 fits\n"
     ]
    },
    {
     "name": "stderr",
     "output_type": "stream",
     "text": [
      "[Parallel(n_jobs=5)]: Using backend LokyBackend with 5 concurrent workers.\n",
      "[Parallel(n_jobs=5)]: Done   3 tasks      | elapsed:    1.8s\n",
      "[Parallel(n_jobs=5)]: Done   8 tasks      | elapsed:    1.9s\n",
      "[Parallel(n_jobs=5)]: Done  15 tasks      | elapsed:    1.9s\n",
      "[Parallel(n_jobs=5)]: Done  22 tasks      | elapsed:    2.1s\n",
      "[Parallel(n_jobs=5)]: Done  31 tasks      | elapsed:    2.4s\n",
      "[Parallel(n_jobs=5)]: Done  40 tasks      | elapsed:    2.7s\n",
      "[Parallel(n_jobs=5)]: Done  51 tasks      | elapsed:    3.7s\n",
      "[Parallel(n_jobs=5)]: Done  62 tasks      | elapsed:    4.2s\n",
      "[Parallel(n_jobs=5)]: Batch computation too fast (0.1966s.) Setting batch_size=2.\n",
      "[Parallel(n_jobs=5)]: Done  75 tasks      | elapsed:    4.3s\n",
      "[Parallel(n_jobs=5)]: Done  94 tasks      | elapsed:    5.1s\n",
      "[Parallel(n_jobs=5)]: Done 124 tasks      | elapsed:    7.1s\n",
      "[Parallel(n_jobs=5)]: Done 154 tasks      | elapsed:    8.1s\n",
      "[Parallel(n_jobs=5)]: Done 188 tasks      | elapsed:   10.0s\n",
      "[Parallel(n_jobs=5)]: Done 222 tasks      | elapsed:   11.5s\n",
      "[Parallel(n_jobs=5)]: Done 260 tasks      | elapsed:   12.9s\n",
      "[Parallel(n_jobs=5)]: Done 298 tasks      | elapsed:   15.3s\n",
      "[Parallel(n_jobs=5)]: Done 340 tasks      | elapsed:   16.3s\n",
      "[Parallel(n_jobs=5)]: Done 382 tasks      | elapsed:   18.4s\n",
      "[Parallel(n_jobs=5)]: Done 428 tasks      | elapsed:   21.5s\n",
      "[Parallel(n_jobs=5)]: Done 474 tasks      | elapsed:   24.8s\n",
      "[Parallel(n_jobs=5)]: Done 524 tasks      | elapsed:   26.8s\n",
      "[Parallel(n_jobs=5)]: Done 574 tasks      | elapsed:   29.5s\n",
      "[Parallel(n_jobs=5)]: Done 628 tasks      | elapsed:   32.3s\n",
      "[Parallel(n_jobs=5)]: Done 682 tasks      | elapsed:   35.8s\n",
      "[Parallel(n_jobs=5)]: Done 740 tasks      | elapsed:   39.2s\n",
      "[Parallel(n_jobs=5)]: Batch computation too slow (2.0066s.) Setting batch_size=1.\n",
      "[Parallel(n_jobs=5)]: Done 795 tasks      | elapsed:   43.1s\n",
      "[Parallel(n_jobs=5)]: Done 827 tasks      | elapsed:   45.2s\n",
      "[Parallel(n_jobs=5)]: Done 858 tasks      | elapsed:   47.3s\n",
      "[Parallel(n_jobs=5)]: Done 891 tasks      | elapsed:   50.2s\n",
      "[Parallel(n_jobs=5)]: Done 924 tasks      | elapsed:   51.7s\n",
      "[Parallel(n_jobs=5)]: Done 959 tasks      | elapsed:   55.5s\n",
      "[Parallel(n_jobs=5)]: Done 994 tasks      | elapsed:   56.7s\n",
      "[Parallel(n_jobs=5)]: Done 1031 tasks      | elapsed:  1.0min\n",
      "[Parallel(n_jobs=5)]: Done 1068 tasks      | elapsed:  1.0min\n",
      "[Parallel(n_jobs=5)]: Done 1107 tasks      | elapsed:  1.1min\n",
      "[Parallel(n_jobs=5)]: Done 1146 tasks      | elapsed:  1.2min\n",
      "[Parallel(n_jobs=5)]: Done 1187 tasks      | elapsed:  1.2min\n",
      "[Parallel(n_jobs=5)]: Done 1228 tasks      | elapsed:  1.3min\n",
      "[Parallel(n_jobs=5)]: Done 1271 tasks      | elapsed:  1.4min\n",
      "[Parallel(n_jobs=5)]: Done 1314 tasks      | elapsed:  1.4min\n",
      "[Parallel(n_jobs=5)]: Done 1359 tasks      | elapsed:  1.5min\n",
      "[Parallel(n_jobs=5)]: Done 1404 tasks      | elapsed:  1.6min\n",
      "[Parallel(n_jobs=5)]: Done 1451 tasks      | elapsed:  1.6min\n",
      "[Parallel(n_jobs=5)]: Done 1498 tasks      | elapsed:  1.8min\n",
      "[Parallel(n_jobs=5)]: Done 1547 tasks      | elapsed:  1.8min\n",
      "[Parallel(n_jobs=5)]: Done 1596 tasks      | elapsed:  1.9min\n",
      "[Parallel(n_jobs=5)]: Done 1647 tasks      | elapsed:  2.0min\n",
      "[Parallel(n_jobs=5)]: Done 1698 tasks      | elapsed:  2.1min\n",
      "[Parallel(n_jobs=5)]: Done 1751 tasks      | elapsed:  2.2min\n",
      "[Parallel(n_jobs=5)]: Done 1804 tasks      | elapsed:  2.3min\n",
      "[Parallel(n_jobs=5)]: Done 1859 tasks      | elapsed:  2.5min\n",
      "[Parallel(n_jobs=5)]: Done 1914 tasks      | elapsed:  2.6min\n",
      "[Parallel(n_jobs=5)]: Done 1971 tasks      | elapsed:  2.7min\n",
      "[Parallel(n_jobs=5)]: Done 2028 tasks      | elapsed:  2.8min\n",
      "[Parallel(n_jobs=5)]: Done 2087 tasks      | elapsed:  3.0min\n",
      "[Parallel(n_jobs=5)]: Done 2146 tasks      | elapsed:  3.1min\n",
      "[Parallel(n_jobs=5)]: Done 2207 tasks      | elapsed:  3.3min\n",
      "[Parallel(n_jobs=5)]: Done 2268 tasks      | elapsed:  3.4min\n",
      "[Parallel(n_jobs=5)]: Done 2331 tasks      | elapsed:  3.6min\n",
      "[Parallel(n_jobs=5)]: Done 2394 tasks      | elapsed:  3.8min\n",
      "[Parallel(n_jobs=5)]: Done 2459 tasks      | elapsed:  4.0min\n",
      "[Parallel(n_jobs=5)]: Done 2524 tasks      | elapsed:  4.2min\n",
      "[Parallel(n_jobs=5)]: Done 2591 tasks      | elapsed:  4.3min\n",
      "[Parallel(n_jobs=5)]: Done 2658 tasks      | elapsed:  4.5min\n",
      "[Parallel(n_jobs=5)]: Done 2727 tasks      | elapsed:  4.7min\n",
      "[Parallel(n_jobs=5)]: Done 2796 tasks      | elapsed:  4.9min\n",
      "[Parallel(n_jobs=5)]: Done 2867 tasks      | elapsed:  5.1min\n",
      "[Parallel(n_jobs=5)]: Done 2880 out of 2880 | elapsed:  5.2min finished\n"
     ]
    }
   ],
   "source": [
    "#Import Random Forest Model\n",
    "from sklearn.ensemble import RandomForestClassifier\n",
    "\n",
    "#Create a Gaussian Classifier\n",
    "clf=RandomForestClassifier()\n",
    "\n",
    "param_grid = {\n",
    "                 'n_estimators': [5, 15, 30, 90, 100, 200],\n",
    "                 'max_depth': [1, 2,3, 5, 7, 9, 11, 13],\n",
    "                 'class_weight':[\"balanced\"],\n",
    "                 'min_samples_leaf': [2, 3, 4, 5, 7, 9]\n",
    "             }\n",
    "\n",
    "param_grid2 = {\n",
    "                 'n_estimators': [85, 90, 95],\n",
    "                 'max_depth': [3, 4, 5],\n",
    "                 'min_samples_leaf': [7] #5\n",
    "             }\n",
    "\n",
    "from sklearn.model_selection import GridSearchCV\n",
    "\n",
    "grid_clf = GridSearchCV(clf, param_grid, cv=10, verbose=10, n_jobs=5, scoring='balanced_accuracy')\n",
    "grid_clf.fit(X_train, y_train)\n",
    "\n",
    "#Train the model using the training sets y_pred=clf.predict(X_test)\n",
    "#clf.fit(X_train,y_train)\n",
    "\n",
    "y_pred=grid_clf.predict(X_test)"
   ]
  },
  {
   "cell_type": "code",
   "execution_count": 13,
   "metadata": {},
   "outputs": [],
   "source": [
    "y_pred=grid_clf.predict(X_test)"
   ]
  },
  {
   "cell_type": "code",
   "execution_count": 14,
   "metadata": {},
   "outputs": [
    {
     "name": "stdout",
     "output_type": "stream",
     "text": [
      "Accuracy: 0.7037754114230397\n"
     ]
    }
   ],
   "source": [
    "#Import scikit-learn metrics module for accuracy calculation\n",
    "from sklearn import metrics\n",
    "# Model Accuracy, how often is the classifier correct?\n",
    "print(\"Accuracy:\",metrics.accuracy_score(y_test, y_pred))"
   ]
  },
  {
   "cell_type": "code",
   "execution_count": 15,
   "metadata": {},
   "outputs": [
    {
     "name": "stdout",
     "output_type": "stream",
     "text": [
      "Average precision-recall score: 0.26\n"
     ]
    }
   ],
   "source": [
    "#grid_clf.best_params_\n",
    "#{'max_depth': 1, 'n_estimators': 5}\n",
    "from sklearn.metrics import average_precision_score\n",
    "average_precision = average_precision_score(y_test, y_pred)\n",
    "\n",
    "print('Average precision-recall score: {0:0.2f}'.format(\n",
    "      average_precision))"
   ]
  },
  {
   "cell_type": "code",
   "execution_count": 16,
   "metadata": {},
   "outputs": [
    {
     "data": {
      "text/plain": [
       "{'class_weight': 'balanced',\n",
       " 'max_depth': 7,\n",
       " 'min_samples_leaf': 2,\n",
       " 'n_estimators': 200}"
      ]
     },
     "execution_count": 16,
     "metadata": {},
     "output_type": "execute_result"
    }
   ],
   "source": [
    "grid_clf.best_params_"
   ]
  },
  {
   "cell_type": "code",
   "execution_count": 17,
   "metadata": {},
   "outputs": [
    {
     "data": {
      "text/plain": [
       "(1231, 474, 138, 223)"
      ]
     },
     "execution_count": 17,
     "metadata": {},
     "output_type": "execute_result"
    }
   ],
   "source": [
    "from sklearn.metrics import confusion_matrix\n",
    "tn, fp, fn, tp = confusion_matrix(y_test, y_pred).ravel()\n",
    "(tn, fp, fn, tp)"
   ]
  },
  {
   "cell_type": "code",
   "execution_count": 28,
   "metadata": {},
   "outputs": [],
   "source": [
    "clf=RandomForestClassifier(random_state=42,class_weight='balanced',max_depth=7, min_samples_leaf=2, n_estimators=200)\n",
    "\n",
    "clf.fit(X_train, y_train)\n",
    "y_pred=clf.predict(X_test)"
   ]
  },
  {
   "cell_type": "code",
   "execution_count": 29,
   "metadata": {},
   "outputs": [
    {
     "name": "stdout",
     "output_type": "stream",
     "text": [
      "Accuracy: 0.7018393030009681\n"
     ]
    }
   ],
   "source": [
    "#Import scikit-learn metrics module for accuracy calculation\n",
    "from sklearn import metrics\n",
    "# Model Accuracy, how often is the classifier correct?\n",
    "print(\"Accuracy:\",metrics.accuracy_score(y_test, y_pred))"
   ]
  },
  {
   "cell_type": "code",
   "execution_count": 30,
   "metadata": {},
   "outputs": [
    {
     "data": {
      "text/plain": [
       "(1222, 483, 133, 228)"
      ]
     },
     "execution_count": 30,
     "metadata": {},
     "output_type": "execute_result"
    }
   ],
   "source": [
    "from sklearn.metrics import confusion_matrix\n",
    "tn, fp, fn, tp = confusion_matrix(y_test, y_pred).ravel()\n",
    "(tn, fp, fn, tp)"
   ]
  },
  {
   "cell_type": "code",
   "execution_count": 31,
   "metadata": {},
   "outputs": [
    {
     "data": {
      "text/plain": [
       "0.3206751054852321"
      ]
     },
     "execution_count": 31,
     "metadata": {},
     "output_type": "execute_result"
    }
   ],
   "source": [
    "#Precision\n",
    "tp/(tp+fp)"
   ]
  },
  {
   "cell_type": "code",
   "execution_count": 32,
   "metadata": {},
   "outputs": [
    {
     "data": {
      "text/plain": [
       "0.631578947368421"
      ]
     },
     "execution_count": 32,
     "metadata": {},
     "output_type": "execute_result"
    }
   ],
   "source": [
    "#Recall\n",
    "tp/(tp+fn)"
   ]
  },
  {
   "cell_type": "code",
   "execution_count": 23,
   "metadata": {},
   "outputs": [
    {
     "name": "stdout",
     "output_type": "stream",
     "text": [
      "Average precision-recall score: 0.26\n"
     ]
    }
   ],
   "source": [
    "#grid_clf.best_params_\n",
    "#{'max_depth': 1, 'n_estimators': 5}\n",
    "from sklearn.metrics import average_precision_score\n",
    "average_precision = average_precision_score(y_test, y_pred)\n",
    "\n",
    "print('Average precision-recall score: {0:0.2f}'.format(\n",
    "      average_precision))"
   ]
  },
  {
   "cell_type": "markdown",
   "metadata": {},
   "source": [
    "### 2.2. Wichtige Features für Klassifikationsentscheidung"
   ]
  },
  {
   "cell_type": "code",
   "execution_count": 24,
   "metadata": {},
   "outputs": [],
   "source": [
    "feature_imp = pd.Series(clf.feature_importances_, index= X_train.columns).sort_values(ascending=False)"
   ]
  },
  {
   "cell_type": "code",
   "execution_count": 25,
   "metadata": {
    "scrolled": true
   },
   "outputs": [
    {
     "data": {
      "text/plain": [
       "FATAL_CRASH_BY_DTV                                                               0.267747\n",
       "UART_Value__Zusammenstoß mit vorausfahrendem / wartendem Fahrzeug                0.091536\n",
       "UTYP1_Value__Überschreitenunfall                                                 0.052950\n",
       "UTYP1_Value__Unfall im Längsverkehr                                              0.041177\n",
       "IstKrad                                                                          0.039163\n",
       "CRASH_BY_DTV                                                                     0.035587\n",
       "UART_Value__Zusammenstoß zwischen Fahrzeug und Fußgänger                         0.031562\n",
       "ANTEIL_KRAD                                                                      0.031056\n",
       "UGEMEINDE_AVG_TARGET                                                             0.026948\n",
       "ANTEIL_REISEBUSSE                                                                0.026104\n",
       "UKREIS_AVG_TARGET                                                                0.025472\n",
       "ANTEIL_LKW                                                                       0.024850\n",
       "ANTEIL_PKW                                                                       0.023121\n",
       "DTV                                                                              0.022833\n",
       "IstFuss                                                                          0.022309\n",
       "ANTEIL_LIEFERWAGEN                                                               0.021819\n",
       "USTUNDE                                                                          0.020602\n",
       "ANTEIL_LINIENBUSSE                                                               0.018935\n",
       "UMONAT                                                                           0.014639\n",
       "UKREIS                                                                           0.014111\n",
       "IstRad                                                                           0.012946\n",
       "UGEMEINDE                                                                        0.012322\n",
       "UTYP1_Value__Fahrunfall                                                          0.012035\n",
       "UART_Value__Zusammenstoß mit einbiegendem / kreuzendem Fahrzeug                  0.008019\n",
       "UART_Value__Zusammenstoß mit seitlich in gleicher Richtung fahrendem Fahrzeug    0.007017\n",
       "UWOCHENTAG_Value__Sonntag                                                        0.006255\n",
       "WERT_VES                                                                         0.006206\n",
       "ULICHTVERH_Value__Dunkelheit                                                     0.006027\n",
       "UTYP1_Value__Abbiegeunfall                                                       0.005821\n",
       "IstPKW                                                                           0.005269\n",
       "                                                                                   ...   \n",
       "NUTZUNG__W - Wohngebiet                                                          0.003490\n",
       "GESLAERM__mittel                                                                 0.003482\n",
       "UART_Value__Abkommen von Fahrbahn nach links                                     0.003424\n",
       "UART_Value__Abkommen von Fahrbahn nach rechts                                    0.003197\n",
       "STRZUSTAND_Value__trocken                                                        0.002934\n",
       "STRZUSTAND_Value__nass/feucht/schlüpfrig                                         0.002908\n",
       "UWOCHENTAG_Value__Freitag                                                        0.002860\n",
       "UTYP1_Value__Unfall durch ruhenden Verkehr                                       0.002599\n",
       "NUTZUNG__M2 - Mischgebiet                                                        0.002283\n",
       "IstSonstige                                                                      0.002226\n",
       "UWOCHENTAG_Value__Donnerstag                                                     0.002110\n",
       "NUTZUNG__M1 - Kerngebiet                                                         0.001888\n",
       "GESLAERM__niedrig - sehr niedrig                                                 0.001862\n",
       "NUTZUNG__G - Gewerbe                                                             0.001776\n",
       "UWOCHENTAG_Value__Montag                                                         0.001751\n",
       "UWOCHENTAG_Value__Mittwoch                                                       0.001739\n",
       "GESLAERM__sehr hoch                                                              0.001465\n",
       "UWOCHENTAG_Value__Dienstag                                                       0.001428\n",
       "UWOCHENTAG_Value__Samstag                                                        0.001400\n",
       "GESLAERM__hoch                                                                   0.001325\n",
       "UART_Value__Zusammenstoß mit anfahrendem / anhaltendem / ruhendem Fahrzeug       0.001023\n",
       "ULICHTVERH_Value__Dämmerung                                                      0.000874\n",
       "NUTZUNG__F - Forstflächen                                                        0.000834\n",
       "NUTZUNG__GB - Gemeinbedarf                                                       0.000687\n",
       "UART_Value__Zusammenstoß mit entgegenkommendem Fahrzeug                          0.000239\n",
       "UART_Value__Aufprall auf Fahrbahnhindernis                                       0.000000\n",
       "STRZUSTAND_Value__winterglatt                                                    0.000000\n",
       "NUTZUNG__Gp - Gewerbe produzierend                                               0.000000\n",
       "NUTZUNG__LW-A - Acker                                                            0.000000\n",
       "NUTZUNG__LW-GR - Grünland                                                        0.000000\n",
       "Length: 64, dtype: float64"
      ]
     },
     "execution_count": 25,
     "metadata": {},
     "output_type": "execute_result"
    }
   ],
   "source": [
    "feature_imp"
   ]
  }
 ],
 "metadata": {
  "kernelspec": {
   "display_name": "Python 3",
   "language": "python",
   "name": "python3"
  },
  "language_info": {
   "codemirror_mode": {
    "name": "ipython",
    "version": 3
   },
   "file_extension": ".py",
   "mimetype": "text/x-python",
   "name": "python",
   "nbconvert_exporter": "python",
   "pygments_lexer": "ipython3",
   "version": "3.7.3"
  }
 },
 "nbformat": 4,
 "nbformat_minor": 2
}
