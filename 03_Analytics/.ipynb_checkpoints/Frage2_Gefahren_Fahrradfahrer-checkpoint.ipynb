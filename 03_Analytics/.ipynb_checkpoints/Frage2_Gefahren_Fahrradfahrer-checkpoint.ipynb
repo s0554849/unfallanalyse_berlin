{
 "cells": [
  {
   "cell_type": "markdown",
   "metadata": {},
   "source": [
    "<h1>Vorhersage, ob es bei einem Unfall Schwerverletzte/Tote gibt</h1>"
   ]
  },
  {
   "cell_type": "markdown",
   "metadata": {},
   "source": [
    "## 1. Vorbereitung des Datensatzes"
   ]
  },
  {
   "cell_type": "markdown",
   "metadata": {},
   "source": [
    "### 1.1 Generelles Aufbereiten der Datenbasis"
   ]
  },
  {
   "cell_type": "code",
   "execution_count": 163,
   "metadata": {},
   "outputs": [],
   "source": [
    "import geopandas as gpd\n",
    "import pandas as pd\n",
    "import numpy as np\n",
    "pd.options.display.max_columns = None\n",
    "crash_data = gpd.read_file('../01_Source/U_VM_A_L_BRW_TL.geojson') \n",
    "geo_information = pd.read_csv('../01_Source/geo_information.csv', sep=';')\n",
    "crash_data = pd.merge(crash_data, geo_information, on ='OBJECTID',  how='inner')\n",
    "from bs4 import BeautifulSoup\n",
    "import requests\n",
    "import numpy as np\n",
    "import datetime"
   ]
  },
  {
   "cell_type": "code",
   "execution_count": 164,
   "metadata": {},
   "outputs": [],
   "source": [
    "crash_data = crash_data.drop([\"ULAND\",\"UREGBEZ\",\"UJAHR\",\"LINREFX\",\"LINREFY\",\"METER\",\"EW2010\",\"GFZ\",\"HERKUNFT\",\"NAME\",\"KNAME\",\"PLR_NAME\",\n",
    "                              \"VBUS\",\"VBUS_PERS\",\"GESLAERM_PERS\",\"GEMEINDE\",\"BEZIRK\",\"ANWERT\",\"VERFAHRENSART\",\"STICHTAG\",\"BEITRAGSZUSTAND\",\"LUMNUM\",\"ELEM_NR\",\"VRICHT_TXT\",\"ZEIT_T\",\"TAG_T\"\n",
    "                             ,\"DURCH_T\",\"DANN_T\",\"DAT_T\",\"LAT\",\"LON\",\"formatted_address\",\"address_components\",\"street_number\",\"route\",\"postal_code\",\"sublocality\",\"BRW\"], axis=1)"
   ]
  },
  {
   "cell_type": "code",
   "execution_count": 165,
   "metadata": {},
   "outputs": [],
   "source": [
    "# Aus UKategorie das Target extrahieren\n",
    "# Wenn UKategorie = 1 oder 2 dann target 1 sonst 0\n",
    "# Unfallart\n",
    "\n",
    "\n",
    "crash_data[\"UKATEGORIE\"] = crash_data[\"UKATEGORIE\"]/2\n",
    "crash_data['TARGET'] = 0 #0 leicht verletzt 1= Schwer Verletzt/getötet\n",
    "crash_data.loc[crash_data[\"UKATEGORIE\"] <= 1, ['TARGET']] = 1\n",
    "\n",
    "\n",
    "def id_switcher(left_df, right_df):\n",
    "    \"\"\"\n",
    "\n",
    "    :param left_df: main df\n",
    "    :param right_df: merger df, col 1 = merger column; col 2 corresponding value\n",
    "    :return: dataframe\n",
    "    \"\"\"\n",
    "    on_column = right_df.columns[0]\n",
    "    on_column_value = on_column + \"_Value\"\n",
    "    left_df[on_column_value] = left_df.merge(right_df, on = on_column)['Value']\n",
    "    left_df = left_df.drop([on_column],axis=1)\n",
    "    return left_df\n",
    "\n",
    "\n",
    "uart_df = pd.DataFrame({'UART' : [1,2,3,4,5,6,7,8,9,10], 'Value':[\"Zusammenstoß mit anfahrendem / anhaltendem / ruhendem Fahrzeug\",\n",
    "                \"Zusammenstoß mit vorausfahrendem / wartendem Fahrzeug\",\n",
    "                \"Zusammenstoß mit seitlich in gleicher Richtung fahrendem Fahrzeug\",\n",
    "                \"Zusammenstoß mit entgegenkommendem Fahrzeug\",\n",
    "                \"Zusammenstoß mit einbiegendem / kreuzendem Fahrzeug\",\n",
    "                \"Zusammenstoß zwischen Fahrzeug und Fußgänger\",\n",
    "                \"Aufprall auf Fahrbahnhindernis\",\n",
    "                \"Abkommen von Fahrbahn nach rechts\",\n",
    "                \"Abkommen von Fahrbahn nach links\",\n",
    "                \"Unfall anderer Art\"]})\n",
    "\n",
    "crash_data = id_switcher(crash_data, uart_df)\n",
    "\n",
    "\n",
    "\n",
    "# Wochentag\n",
    "\n",
    "wochentag_df = pd.DataFrame({'UWOCHENTAG':[1,2,3,4,5,6,7],\n",
    "                                 'Value':['Sonntag','Montag','Dienstag','Mittwoch','Donnerstag','Freitag','Samstag']})\n",
    "crash_data = id_switcher(crash_data, wochentag_df)\n",
    "    \n",
    "\n",
    "unfalltyp_df = pd.DataFrame({'UTYP1':[1,2,3,4,5,6,7],\n",
    "                                 'Value':['Fahrunfall','Abbiegeunfall','Einbiegen / Kreuzen-Unfall','Überschreitenunfall','Unfall durch ruhenden Verkehr','Unfall im Längsverkehr','sonstiger Unfall']})\n",
    "crash_data = id_switcher(crash_data, unfalltyp_df)\n",
    "\n",
    "licht_df = pd.DataFrame({'ULICHTVERH':[0,1,2],\n",
    "                                 'Value':['Tageslicht','Dämmerung','Dunkelheit']})\n",
    "crash_data = id_switcher(crash_data, licht_df)\n",
    "\n",
    "str_zustand_df = pd.DataFrame({'STRZUSTAND':[0,1,2],\n",
    "                                 'Value':['trocken','nass/feucht/schlüpfrig','winterglatt']})\n",
    "crash_data = id_switcher(crash_data, str_zustand_df)\n",
    "\n",
    "crash_data['DTV'] = crash_data['DTV'].fillna(crash_data['DTV'].mean())\n",
    "crash_data[\"ANTEIL_PKW\"] = crash_data[\"PKW\"]*100/crash_data[\"DTV\"]\n",
    "crash_data[\"ANTEIL_PKW\"] = crash_data[\"ANTEIL_PKW\"].fillna(crash_data[\"ANTEIL_PKW\"].mean())\n",
    "crash_data[\"ANTEIL_LKW\"] = crash_data[\"LKW\"]*100/crash_data[\"DTV\"]\n",
    "crash_data[\"ANTEIL_LKW\"] = crash_data[\"ANTEIL_LKW\"].fillna(crash_data[\"ANTEIL_LKW\"].mean())\n",
    "crash_data[\"ANTEIL_LIEFERWAGEN\"] = crash_data[\"LIEFERWAGEN\"]*100/crash_data[\"DTV\"]\n",
    "crash_data[\"ANTEIL_LIEFERWAGEN\"] = crash_data[\"ANTEIL_LIEFERWAGEN\"].fillna(crash_data[\"ANTEIL_LKW\"].mean())\n",
    "crash_data[\"ANTEIL_LINIENBUSSE\"] = crash_data[\"LINIENBUSSE\"]*100/crash_data[\"DTV\"]\n",
    "crash_data[\"ANTEIL_LINIENBUSSE\"] = crash_data[\"ANTEIL_LINIENBUSSE\"].fillna(crash_data[\"ANTEIL_LKW\"].mean())\n",
    "crash_data.loc[crash_data[\"ANTEIL_LINIENBUSSE\"] == np.inf, ['DTV']] = crash_data.loc[crash_data[\"ANTEIL_LINIENBUSSE\"] == np.inf, ['LINIENBUSSE']]\n",
    "crash_data.loc[crash_data[\"ANTEIL_LINIENBUSSE\"] == np.inf, ['ANTEIL_LINIENBUSSE']] = 100\n",
    "crash_data[\"ANTEIL_REISEBUSSE\"] = crash_data[\"REISEBUSSE\"]*100/crash_data[\"DTV\"]\n",
    "crash_data[\"ANTEIL_REISEBUSSE\"] = crash_data[\"ANTEIL_REISEBUSSE\"].fillna(crash_data[\"ANTEIL_REISEBUSSE\"].mean())\n",
    "crash_data[\"ANTEIL_KRAD\"] = crash_data[\"KRAD\"]*100/crash_data[\"DTV\"]\n",
    "crash_data[\"ANTEIL_KRAD\"] = crash_data[\"ANTEIL_KRAD\"].fillna(crash_data[\"ANTEIL_KRAD\"].mean())\n",
    "crash_data = crash_data.drop([\"PKW\",\"LKW\",\"LIEFERWAGEN\",\"LINIENBUSSE\",\"REISEBUSSE\",\"KRAD\"], axis=1)\n",
    "crash_data = crash_data.drop([\"UKATEGORIE\"], axis=1)"
   ]
  },
  {
   "cell_type": "code",
   "execution_count": 166,
   "metadata": {},
   "outputs": [
    {
     "ename": "KeyError",
     "evalue": "'FATAL_CRASH_BY_DTV'",
     "output_type": "error",
     "traceback": [
      "\u001b[0;31m---------------------------------------------------------------------------\u001b[0m",
      "\u001b[0;31mKeyError\u001b[0m                                  Traceback (most recent call last)",
      "\u001b[0;32m~/anaconda3/lib/python3.7/site-packages/pandas/core/indexes/base.py\u001b[0m in \u001b[0;36mget_loc\u001b[0;34m(self, key, method, tolerance)\u001b[0m\n\u001b[1;32m   2656\u001b[0m             \u001b[0;32mtry\u001b[0m\u001b[0;34m:\u001b[0m\u001b[0;34m\u001b[0m\u001b[0;34m\u001b[0m\u001b[0m\n\u001b[0;32m-> 2657\u001b[0;31m                 \u001b[0;32mreturn\u001b[0m \u001b[0mself\u001b[0m\u001b[0;34m.\u001b[0m\u001b[0m_engine\u001b[0m\u001b[0;34m.\u001b[0m\u001b[0mget_loc\u001b[0m\u001b[0;34m(\u001b[0m\u001b[0mkey\u001b[0m\u001b[0;34m)\u001b[0m\u001b[0;34m\u001b[0m\u001b[0;34m\u001b[0m\u001b[0m\n\u001b[0m\u001b[1;32m   2658\u001b[0m             \u001b[0;32mexcept\u001b[0m \u001b[0mKeyError\u001b[0m\u001b[0;34m:\u001b[0m\u001b[0;34m\u001b[0m\u001b[0;34m\u001b[0m\u001b[0m\n",
      "\u001b[0;32mpandas/_libs/index.pyx\u001b[0m in \u001b[0;36mpandas._libs.index.IndexEngine.get_loc\u001b[0;34m()\u001b[0m\n",
      "\u001b[0;32mpandas/_libs/index.pyx\u001b[0m in \u001b[0;36mpandas._libs.index.IndexEngine.get_loc\u001b[0;34m()\u001b[0m\n",
      "\u001b[0;32mpandas/_libs/hashtable_class_helper.pxi\u001b[0m in \u001b[0;36mpandas._libs.hashtable.PyObjectHashTable.get_item\u001b[0;34m()\u001b[0m\n",
      "\u001b[0;32mpandas/_libs/hashtable_class_helper.pxi\u001b[0m in \u001b[0;36mpandas._libs.hashtable.PyObjectHashTable.get_item\u001b[0;34m()\u001b[0m\n",
      "\u001b[0;31mKeyError\u001b[0m: 'FATAL_CRASH_BY_DTV'",
      "\nDuring handling of the above exception, another exception occurred:\n",
      "\u001b[0;31mKeyError\u001b[0m                                  Traceback (most recent call last)",
      "\u001b[0;32m<ipython-input-166-ec5ddea34f9f>\u001b[0m in \u001b[0;36m<module>\u001b[0;34m\u001b[0m\n\u001b[1;32m     27\u001b[0m \u001b[0;31m#crash_data = pd.merge(crash_data, join_dtv, on ='STR_NAME',  how='inner')\u001b[0m\u001b[0;34m\u001b[0m\u001b[0;34m\u001b[0m\u001b[0;34m\u001b[0m\u001b[0m\n\u001b[1;32m     28\u001b[0m \u001b[0mcrash_data\u001b[0m \u001b[0;34m=\u001b[0m \u001b[0mcrash_data\u001b[0m\u001b[0;34m.\u001b[0m\u001b[0mdrop\u001b[0m\u001b[0;34m(\u001b[0m\u001b[0;34m[\u001b[0m\u001b[0;34m\"OBJECTID\"\u001b[0m\u001b[0;34m,\u001b[0m\u001b[0;34m\"STR_NAME\"\u001b[0m\u001b[0;34m]\u001b[0m\u001b[0;34m,\u001b[0m \u001b[0maxis\u001b[0m\u001b[0;34m=\u001b[0m\u001b[0;36m1\u001b[0m\u001b[0;34m)\u001b[0m\u001b[0;34m\u001b[0m\u001b[0;34m\u001b[0m\u001b[0m\n\u001b[0;32m---> 29\u001b[0;31m \u001b[0mcrash_data\u001b[0m\u001b[0;34m[\u001b[0m\u001b[0;34m'FATAL_CRASH_BY_DTV'\u001b[0m\u001b[0;34m]\u001b[0m \u001b[0;34m=\u001b[0m \u001b[0mcrash_data\u001b[0m\u001b[0;34m[\u001b[0m\u001b[0;34m'FATAL_CRASH_BY_DTV'\u001b[0m\u001b[0;34m]\u001b[0m\u001b[0;34m.\u001b[0m\u001b[0mfillna\u001b[0m\u001b[0;34m(\u001b[0m\u001b[0mcrash_data\u001b[0m\u001b[0;34m[\u001b[0m\u001b[0;34m'FATAL_CRASH_BY_DTV'\u001b[0m\u001b[0;34m]\u001b[0m\u001b[0;34m.\u001b[0m\u001b[0mmean\u001b[0m\u001b[0;34m(\u001b[0m\u001b[0;34m)\u001b[0m\u001b[0;34m)\u001b[0m\u001b[0;34m\u001b[0m\u001b[0;34m\u001b[0m\u001b[0m\n\u001b[0m",
      "\u001b[0;32m~/anaconda3/lib/python3.7/site-packages/geopandas/geodataframe.py\u001b[0m in \u001b[0;36m__getitem__\u001b[0;34m(self, key)\u001b[0m\n\u001b[1;32m    544\u001b[0m         \u001b[0mGeoDataFrame\u001b[0m\u001b[0;34m.\u001b[0m\u001b[0;34m\u001b[0m\u001b[0;34m\u001b[0m\u001b[0m\n\u001b[1;32m    545\u001b[0m         \"\"\"\n\u001b[0;32m--> 546\u001b[0;31m         \u001b[0mresult\u001b[0m \u001b[0;34m=\u001b[0m \u001b[0msuper\u001b[0m\u001b[0;34m(\u001b[0m\u001b[0mGeoDataFrame\u001b[0m\u001b[0;34m,\u001b[0m \u001b[0mself\u001b[0m\u001b[0;34m)\u001b[0m\u001b[0;34m.\u001b[0m\u001b[0m__getitem__\u001b[0m\u001b[0;34m(\u001b[0m\u001b[0mkey\u001b[0m\u001b[0;34m)\u001b[0m\u001b[0;34m\u001b[0m\u001b[0;34m\u001b[0m\u001b[0m\n\u001b[0m\u001b[1;32m    547\u001b[0m         \u001b[0mgeo_col\u001b[0m \u001b[0;34m=\u001b[0m \u001b[0mself\u001b[0m\u001b[0;34m.\u001b[0m\u001b[0m_geometry_column_name\u001b[0m\u001b[0;34m\u001b[0m\u001b[0;34m\u001b[0m\u001b[0m\n\u001b[1;32m    548\u001b[0m         \u001b[0;32mif\u001b[0m \u001b[0misinstance\u001b[0m\u001b[0;34m(\u001b[0m\u001b[0mkey\u001b[0m\u001b[0;34m,\u001b[0m \u001b[0mstring_types\u001b[0m\u001b[0;34m)\u001b[0m \u001b[0;32mand\u001b[0m \u001b[0mkey\u001b[0m \u001b[0;34m==\u001b[0m \u001b[0mgeo_col\u001b[0m\u001b[0;34m:\u001b[0m\u001b[0;34m\u001b[0m\u001b[0;34m\u001b[0m\u001b[0m\n",
      "\u001b[0;32m~/anaconda3/lib/python3.7/site-packages/pandas/core/frame.py\u001b[0m in \u001b[0;36m__getitem__\u001b[0;34m(self, key)\u001b[0m\n\u001b[1;32m   2925\u001b[0m             \u001b[0;32mif\u001b[0m \u001b[0mself\u001b[0m\u001b[0;34m.\u001b[0m\u001b[0mcolumns\u001b[0m\u001b[0;34m.\u001b[0m\u001b[0mnlevels\u001b[0m \u001b[0;34m>\u001b[0m \u001b[0;36m1\u001b[0m\u001b[0;34m:\u001b[0m\u001b[0;34m\u001b[0m\u001b[0;34m\u001b[0m\u001b[0m\n\u001b[1;32m   2926\u001b[0m                 \u001b[0;32mreturn\u001b[0m \u001b[0mself\u001b[0m\u001b[0;34m.\u001b[0m\u001b[0m_getitem_multilevel\u001b[0m\u001b[0;34m(\u001b[0m\u001b[0mkey\u001b[0m\u001b[0;34m)\u001b[0m\u001b[0;34m\u001b[0m\u001b[0;34m\u001b[0m\u001b[0m\n\u001b[0;32m-> 2927\u001b[0;31m             \u001b[0mindexer\u001b[0m \u001b[0;34m=\u001b[0m \u001b[0mself\u001b[0m\u001b[0;34m.\u001b[0m\u001b[0mcolumns\u001b[0m\u001b[0;34m.\u001b[0m\u001b[0mget_loc\u001b[0m\u001b[0;34m(\u001b[0m\u001b[0mkey\u001b[0m\u001b[0;34m)\u001b[0m\u001b[0;34m\u001b[0m\u001b[0;34m\u001b[0m\u001b[0m\n\u001b[0m\u001b[1;32m   2928\u001b[0m             \u001b[0;32mif\u001b[0m \u001b[0mis_integer\u001b[0m\u001b[0;34m(\u001b[0m\u001b[0mindexer\u001b[0m\u001b[0;34m)\u001b[0m\u001b[0;34m:\u001b[0m\u001b[0;34m\u001b[0m\u001b[0;34m\u001b[0m\u001b[0m\n\u001b[1;32m   2929\u001b[0m                 \u001b[0mindexer\u001b[0m \u001b[0;34m=\u001b[0m \u001b[0;34m[\u001b[0m\u001b[0mindexer\u001b[0m\u001b[0;34m]\u001b[0m\u001b[0;34m\u001b[0m\u001b[0;34m\u001b[0m\u001b[0m\n",
      "\u001b[0;32m~/anaconda3/lib/python3.7/site-packages/pandas/core/indexes/base.py\u001b[0m in \u001b[0;36mget_loc\u001b[0;34m(self, key, method, tolerance)\u001b[0m\n\u001b[1;32m   2657\u001b[0m                 \u001b[0;32mreturn\u001b[0m \u001b[0mself\u001b[0m\u001b[0;34m.\u001b[0m\u001b[0m_engine\u001b[0m\u001b[0;34m.\u001b[0m\u001b[0mget_loc\u001b[0m\u001b[0;34m(\u001b[0m\u001b[0mkey\u001b[0m\u001b[0;34m)\u001b[0m\u001b[0;34m\u001b[0m\u001b[0;34m\u001b[0m\u001b[0m\n\u001b[1;32m   2658\u001b[0m             \u001b[0;32mexcept\u001b[0m \u001b[0mKeyError\u001b[0m\u001b[0;34m:\u001b[0m\u001b[0;34m\u001b[0m\u001b[0;34m\u001b[0m\u001b[0m\n\u001b[0;32m-> 2659\u001b[0;31m                 \u001b[0;32mreturn\u001b[0m \u001b[0mself\u001b[0m\u001b[0;34m.\u001b[0m\u001b[0m_engine\u001b[0m\u001b[0;34m.\u001b[0m\u001b[0mget_loc\u001b[0m\u001b[0;34m(\u001b[0m\u001b[0mself\u001b[0m\u001b[0;34m.\u001b[0m\u001b[0m_maybe_cast_indexer\u001b[0m\u001b[0;34m(\u001b[0m\u001b[0mkey\u001b[0m\u001b[0;34m)\u001b[0m\u001b[0;34m)\u001b[0m\u001b[0;34m\u001b[0m\u001b[0;34m\u001b[0m\u001b[0m\n\u001b[0m\u001b[1;32m   2660\u001b[0m         \u001b[0mindexer\u001b[0m \u001b[0;34m=\u001b[0m \u001b[0mself\u001b[0m\u001b[0;34m.\u001b[0m\u001b[0mget_indexer\u001b[0m\u001b[0;34m(\u001b[0m\u001b[0;34m[\u001b[0m\u001b[0mkey\u001b[0m\u001b[0;34m]\u001b[0m\u001b[0;34m,\u001b[0m \u001b[0mmethod\u001b[0m\u001b[0;34m=\u001b[0m\u001b[0mmethod\u001b[0m\u001b[0;34m,\u001b[0m \u001b[0mtolerance\u001b[0m\u001b[0;34m=\u001b[0m\u001b[0mtolerance\u001b[0m\u001b[0;34m)\u001b[0m\u001b[0;34m\u001b[0m\u001b[0;34m\u001b[0m\u001b[0m\n\u001b[1;32m   2661\u001b[0m         \u001b[0;32mif\u001b[0m \u001b[0mindexer\u001b[0m\u001b[0;34m.\u001b[0m\u001b[0mndim\u001b[0m \u001b[0;34m>\u001b[0m \u001b[0;36m1\u001b[0m \u001b[0;32mor\u001b[0m \u001b[0mindexer\u001b[0m\u001b[0;34m.\u001b[0m\u001b[0msize\u001b[0m \u001b[0;34m>\u001b[0m \u001b[0;36m1\u001b[0m\u001b[0;34m:\u001b[0m\u001b[0;34m\u001b[0m\u001b[0;34m\u001b[0m\u001b[0m\n",
      "\u001b[0;32mpandas/_libs/index.pyx\u001b[0m in \u001b[0;36mpandas._libs.index.IndexEngine.get_loc\u001b[0;34m()\u001b[0m\n",
      "\u001b[0;32mpandas/_libs/index.pyx\u001b[0m in \u001b[0;36mpandas._libs.index.IndexEngine.get_loc\u001b[0;34m()\u001b[0m\n",
      "\u001b[0;32mpandas/_libs/hashtable_class_helper.pxi\u001b[0m in \u001b[0;36mpandas._libs.hashtable.PyObjectHashTable.get_item\u001b[0;34m()\u001b[0m\n",
      "\u001b[0;32mpandas/_libs/hashtable_class_helper.pxi\u001b[0m in \u001b[0;36mpandas._libs.hashtable.PyObjectHashTable.get_item\u001b[0;34m()\u001b[0m\n",
      "\u001b[0;31mKeyError\u001b[0m: 'FATAL_CRASH_BY_DTV'"
     ]
    }
   ],
   "source": [
    "avg_ukreis = crash_data.groupby('UKREIS')['OBJECTID'].count()\n",
    "count_target_ukreis = crash_data.groupby('UKREIS')['TARGET'].sum()\n",
    "join_ukreis = pd.merge(avg_ukreis, count_target_ukreis, on ='UKREIS',  how='inner')\n",
    "join_ukreis['UKREIS_AVG_TARGET'] = join_ukreis['TARGET']*100 / join_ukreis['OBJECTID']\n",
    "\n",
    "avg_ugemeinde = crash_data.groupby('UGEMEINDE')['OBJECTID'].count()\n",
    "count_target_ugemeinde = crash_data.groupby('UGEMEINDE')['TARGET'].sum()\n",
    "join_ugemeinde = pd.merge(avg_ugemeinde, count_target_ugemeinde, on ='UGEMEINDE',  how='inner')\n",
    "join_ugemeinde['UGEMEINDE_AVG_TARGET'] = join_ugemeinde['TARGET']*100 / join_ugemeinde['OBJECTID']\n",
    "\n",
    "join_ugemeinde = join_ugemeinde.drop([\"OBJECTID\",\"TARGET\"], axis=1)\n",
    "join_ukreis = join_ukreis.drop([\"OBJECTID\",\"TARGET\"], axis=1)\n",
    "\n",
    "avg_dtv = crash_data.groupby('STR_NAME')['DTV'].mean()\n",
    "count_crashes_by_street = crash_data.groupby('STR_NAME')['OBJECTID'].count()\n",
    "count_fatal_crashes_by_street = crash_data.groupby('STR_NAME')['TARGET'].sum()\n",
    "join_dtv = pd.merge(avg_dtv, count_crashes_by_street, on ='STR_NAME',  how='inner')\n",
    "join_dtv = pd.merge(join_dtv, count_fatal_crashes_by_street, on ='STR_NAME',  how='inner')\n",
    "join_dtv['CRASH_BY_DTV'] = (join_dtv['OBJECTID']*100 / join_dtv['DTV'])\n",
    "join_dtv['CRASH_BY_DTV'] = join_dtv['CRASH_BY_DTV'].round(4)\n",
    "join_dtv['FATAL_CRASH_BY_DTV'] = join_dtv['TARGET']*100 / join_dtv['DTV']\n",
    "join_dtv['FATAL_CRASH_BY_DTV'] = join_dtv['FATAL_CRASH_BY_DTV'].round(4)\n",
    "join_dtv = join_dtv.drop([\"OBJECTID\",\"TARGET\",\"DTV\"], axis=1)\n",
    "\n",
    "crash_data = pd.merge(crash_data, join_ukreis, on ='UKREIS',  how='inner')\n",
    "crash_data = pd.merge(crash_data, join_ugemeinde, on ='UGEMEINDE',  how='inner')\n",
    "#crash_data = pd.merge(crash_data, join_dtv, on ='STR_NAME',  how='inner')\n",
    "crash_data = crash_data.drop([\"OBJECTID\",\"STR_NAME\"], axis=1)\n",
    "#crash_data['FATAL_CRASH_BY_DTV'] = crash_data['FATAL_CRASH_BY_DTV'].fillna(crash_data['FATAL_CRASH_BY_DTV'].mean())"
   ]
  },
  {
   "cell_type": "code",
   "execution_count": 167,
   "metadata": {},
   "outputs": [],
   "source": [
    "\n",
    "\n",
    "#DTV,GESLAERM,BRW, NUTZUNG,WERT_VES,\n",
    "crash_data.loc[crash_data[\"WERT_VES\"] > 100, ['WERT_VES']] = 50\n",
    "crash_data['WERT_VES'] = crash_data['WERT_VES'].fillna(50)\n",
    "crash_data['UART_Value'] = crash_data['UART_Value'].fillna(\"Unbekannt\")\n",
    "crash_data['GESLAERM'] = crash_data['GESLAERM'].fillna(\"mittel\")\n",
    "crash_data['DTV'] = crash_data['DTV'].fillna(crash_data['DTV'].mean())\n",
    "crash_data['DTV'] = crash_data['DTV'].fillna(0)"
   ]
  },
  {
   "cell_type": "code",
   "execution_count": 183,
   "metadata": {},
   "outputs": [],
   "source": [
    "\n",
    "crash_data_copy = crash_data.copy()\n",
    "crash_data_copy = pd.get_dummies(crash_data_copy, columns=[\"UART_Value\"], prefix='UART_Value_')\n",
    "crash_data_copy = pd.get_dummies(crash_data_copy, columns=[\"UWOCHENTAG_Value\"], prefix='UWOCHENTAG_Value_')\n",
    "crash_data_copy = pd.get_dummies(crash_data_copy, columns=[\"UTYP1_Value\"], prefix='UTYP1_Value_')\n",
    "crash_data_copy = pd.get_dummies(crash_data_copy, columns=[\"ULICHTVERH_Value\"], prefix='ULICHTVERH_Value_')\n",
    "crash_data_copy = pd.get_dummies(crash_data_copy, columns=[\"STRZUSTAND_Value\"], prefix='STRZUSTAND_Value_')\n",
    "crash_data_copy = pd.get_dummies(crash_data_copy, columns=[\"NUTZUNG\"], prefix='NUTZUNG_')\n",
    "crash_data_copy = pd.get_dummies(crash_data_copy, columns=[\"GESLAERM\"], prefix='GESLAERM_')\n",
    "\n",
    "#corr_matrix = crash_data_copy.corr()\n",
    "#corr_matrix[\"TARGET\"]\n",
    "crash_data_copy = crash_data_copy.drop([\"geometry\"], axis=1)"
   ]
  },
  {
   "cell_type": "code",
   "execution_count": 185,
   "metadata": {},
   "outputs": [
    {
     "data": {
      "text/plain": [
       "(array([], dtype=int64), array([], dtype=int64))"
      ]
     },
     "execution_count": 185,
     "metadata": {},
     "output_type": "execute_result"
    }
   ],
   "source": [
    "#np.all(np.isfinite(crash_data_copy))\n",
    "crash_data_copy = crash_data_copy.reset_index()\n",
    "np.where(crash_data_copy.values >= np.finfo(np.float64).max)"
   ]
  },
  {
   "cell_type": "code",
   "execution_count": 197,
   "metadata": {},
   "outputs": [],
   "source": [
    "# Import train_test_split function\n",
    "from sklearn.model_selection import train_test_split\n",
    "\n",
    "X = crash_data_copy.drop([\"TARGET\"] , axis=1)\n",
    "Y = crash_data_copy[\"TARGET\"]\n",
    "X_train, X_test, y_train, y_test = train_test_split(X,Y, test_size=0.2, random_state=42)\n",
    "from imblearn.over_sampling import SMOTE\n",
    "sm = SMOTE(random_state=12, ratio = 1.0)\n",
    "x_train_res, y_train_res = sm.fit_sample(X_train, y_train)"
   ]
  },
  {
   "cell_type": "code",
   "execution_count": 198,
   "metadata": {},
   "outputs": [
    {
     "name": "stdout",
     "output_type": "stream",
     "text": [
      "Fitting 10 folds for each of 9 candidates, totalling 90 fits\n"
     ]
    },
    {
     "name": "stderr",
     "output_type": "stream",
     "text": [
      "[Parallel(n_jobs=5)]: Using backend LokyBackend with 5 concurrent workers.\n",
      "[Parallel(n_jobs=5)]: Done   3 tasks      | elapsed:    0.5s\n",
      "[Parallel(n_jobs=5)]: Done   8 tasks      | elapsed:    0.9s\n",
      "[Parallel(n_jobs=5)]: Done  15 tasks      | elapsed:    1.4s\n",
      "[Parallel(n_jobs=5)]: Done  22 tasks      | elapsed:    2.2s\n",
      "[Parallel(n_jobs=5)]: Done  31 tasks      | elapsed:    3.1s\n",
      "[Parallel(n_jobs=5)]: Done  40 tasks      | elapsed:    3.7s\n",
      "[Parallel(n_jobs=5)]: Done  51 tasks      | elapsed:    5.1s\n",
      "[Parallel(n_jobs=5)]: Done  62 tasks      | elapsed:    6.3s\n",
      "[Parallel(n_jobs=5)]: Done  75 tasks      | elapsed:    7.7s\n",
      "[Parallel(n_jobs=5)]: Done  90 out of  90 | elapsed:    9.8s finished\n"
     ]
    }
   ],
   "source": [
    "\n",
    "#Import Random Forest Model\n",
    "from sklearn.ensemble import RandomForestClassifier\n",
    "\n",
    "#Create a Gaussian Classifier\n",
    "clf=RandomForestClassifier()\n",
    "\n",
    "param_grid = {\n",
    "                 'n_estimators': [5, 15, 30, 100, 200],\n",
    "                 'max_depth': [1, 2, 5, 7, 9, 11, 13],\n",
    "                 'class_weight':[\"balanced\"],\n",
    "                 'min_samples_leaf': [2, 3, 4, 5]\n",
    "             }\n",
    "\n",
    "param_grid2 = {\n",
    "                 'n_estimators': [85, 90, 95],\n",
    "                 'max_depth': [3, 4, 5],\n",
    "                 'min_samples_leaf': [7] #5\n",
    "             }\n",
    "\n",
    "from sklearn.model_selection import GridSearchCV\n",
    "\n",
    "grid_clf = GridSearchCV(clf, param_grid2, cv=10, verbose=10, n_jobs=5, scoring='average_precision')\n",
    "grid_clf.fit(X_train, y_train)\n",
    "\n",
    "#Train the model using the training sets y_pred=clf.predict(X_test)\n",
    "#clf.fit(X_train,y_train)\n",
    "\n",
    "y_pred=grid_clf.predict(X_test)"
   ]
  },
  {
   "cell_type": "code",
   "execution_count": 199,
   "metadata": {},
   "outputs": [],
   "source": [
    "y_pred=grid_clf.predict(X_test)"
   ]
  },
  {
   "cell_type": "code",
   "execution_count": 200,
   "metadata": {},
   "outputs": [
    {
     "name": "stdout",
     "output_type": "stream",
     "text": [
      "Accuracy: 0.8399267399267399\n"
     ]
    }
   ],
   "source": [
    "#Import scikit-learn metrics module for accuracy calculation\n",
    "from sklearn import metrics\n",
    "# Model Accuracy, how often is the classifier correct?\n",
    "print(\"Accuracy:\",metrics.accuracy_score(y_test, y_pred))"
   ]
  },
  {
   "cell_type": "code",
   "execution_count": 201,
   "metadata": {},
   "outputs": [
    {
     "name": "stdout",
     "output_type": "stream",
     "text": [
      "Average precision-recall score: 0.16\n"
     ]
    }
   ],
   "source": [
    "#grid_clf.best_params_\n",
    "#{'max_depth': 1, 'n_estimators': 5}\n",
    "from sklearn.metrics import average_precision_score\n",
    "average_precision = average_precision_score(y_test, y_pred)\n",
    "\n",
    "print('Average precision-recall score: {0:0.2f}'.format(\n",
    "      average_precision))"
   ]
  },
  {
   "cell_type": "code",
   "execution_count": 202,
   "metadata": {},
   "outputs": [
    {
     "data": {
      "text/plain": [
       "{'max_depth': 5, 'min_samples_leaf': 7, 'n_estimators': 95}"
      ]
     },
     "execution_count": 202,
     "metadata": {},
     "output_type": "execute_result"
    }
   ],
   "source": [
    "grid_clf.best_params_"
   ]
  },
  {
   "cell_type": "code",
   "execution_count": 203,
   "metadata": {},
   "outputs": [
    {
     "data": {
      "text/plain": [
       "(2293, 0, 437, 0)"
      ]
     },
     "execution_count": 203,
     "metadata": {},
     "output_type": "execute_result"
    }
   ],
   "source": [
    "from sklearn.metrics import confusion_matrix\n",
    "tn, fp, fn, tp = confusion_matrix(y_test, y_pred).ravel()\n",
    "(tn, fp, fn, tp)"
   ]
  },
  {
   "cell_type": "code",
   "execution_count": 219,
   "metadata": {},
   "outputs": [],
   "source": [
    "clf=RandomForestClassifier(random_state=42,class_weight='balanced',max_depth=3, min_samples_leaf=7, n_estimators=90)\n",
    "clf.fit(X_train, y_train)\n",
    "y_pred=clf.predict(X_test)"
   ]
  },
  {
   "cell_type": "code",
   "execution_count": 224,
   "metadata": {},
   "outputs": [
    {
     "name": "stdout",
     "output_type": "stream",
     "text": [
      "Accuracy: 0.5904761904761905\n"
     ]
    }
   ],
   "source": [
    "#Import scikit-learn metrics module for accuracy calculation\n",
    "from sklearn import metrics\n",
    "# Model Accuracy, how often is the classifier correct?\n",
    "print(\"Accuracy:\",metrics.accuracy_score(y_test, y_pred))"
   ]
  },
  {
   "cell_type": "code",
   "execution_count": 220,
   "metadata": {},
   "outputs": [
    {
     "data": {
      "text/plain": [
       "(1343, 950, 168, 269)"
      ]
     },
     "execution_count": 220,
     "metadata": {},
     "output_type": "execute_result"
    }
   ],
   "source": [
    "from sklearn.metrics import confusion_matrix\n",
    "tn, fp, fn, tp = confusion_matrix(y_test, y_pred).ravel()\n",
    "(tn, fp, fn, tp)"
   ]
  },
  {
   "cell_type": "code",
   "execution_count": 226,
   "metadata": {},
   "outputs": [
    {
     "data": {
      "text/plain": [
       "0.2206726825266612"
      ]
     },
     "execution_count": 226,
     "metadata": {},
     "output_type": "execute_result"
    }
   ],
   "source": [
    "#Precision\n",
    "tp/(tp+fp)"
   ]
  },
  {
   "cell_type": "code",
   "execution_count": 225,
   "metadata": {},
   "outputs": [
    {
     "data": {
      "text/plain": [
       "0.6155606407322655"
      ]
     },
     "execution_count": 225,
     "metadata": {},
     "output_type": "execute_result"
    }
   ],
   "source": [
    "#Recall\n",
    "tp/(tp+fn)"
   ]
  },
  {
   "cell_type": "code",
   "execution_count": 221,
   "metadata": {},
   "outputs": [
    {
     "name": "stdout",
     "output_type": "stream",
     "text": [
      "Average precision-recall score: 0.20\n"
     ]
    }
   ],
   "source": [
    "#grid_clf.best_params_\n",
    "#{'max_depth': 1, 'n_estimators': 5}\n",
    "from sklearn.metrics import average_precision_score\n",
    "average_precision = average_precision_score(y_test, y_pred)\n",
    "\n",
    "print('Average precision-recall score: {0:0.2f}'.format(\n",
    "      average_precision))"
   ]
  },
  {
   "cell_type": "code",
   "execution_count": 24,
   "metadata": {},
   "outputs": [],
   "source": [
    "y_dummy = []"
   ]
  },
  {
   "cell_type": "code",
   "execution_count": 25,
   "metadata": {},
   "outputs": [],
   "source": [
    "for element in y_pred:\n",
    "    y_dummy.append(0)"
   ]
  },
  {
   "cell_type": "code",
   "execution_count": 26,
   "metadata": {},
   "outputs": [
    {
     "data": {
      "text/plain": [
       "(2285, 0, 445, 0)"
      ]
     },
     "execution_count": 26,
     "metadata": {},
     "output_type": "execute_result"
    }
   ],
   "source": [
    "tn, fp, fn, tp = confusion_matrix(y_test, y_dummy).ravel()\n",
    "(tn, fp, fn, tp)"
   ]
  },
  {
   "cell_type": "code",
   "execution_count": 128,
   "metadata": {},
   "outputs": [],
   "source": [
    "feature_imp = pd.Series(clf.feature_importances_, index= X_train.columns).sort_values(ascending=False)"
   ]
  },
  {
   "cell_type": "code",
   "execution_count": 129,
   "metadata": {},
   "outputs": [
    {
     "data": {
      "text/plain": [
       "IstFuss                                                                          0.203049\n",
       "IstKrad                                                                          0.081867\n",
       "UGEMEINDE                                                                        0.074144\n",
       "ANTEIL_KRAD                                                                      0.069947\n",
       "USTUNDE                                                                          0.067844\n",
       "UKREIS                                                                           0.067794\n",
       "IstPKW                                                                           0.061962\n",
       "ANTEIL_REISEBUSSE                                                                0.054484\n",
       "ANTEIL_LIEFERWAGEN                                                               0.037665\n",
       "IstRad                                                                           0.034589\n",
       "DTV                                                                              0.032861\n",
       "ANTEIL_LKW                                                                       0.027761\n",
       "ANTEIL_LINIENBUSSE                                                               0.022879\n",
       "ANTEIL_PKW                                                                       0.021353\n",
       "UMONAT                                                                           0.014861\n",
       "NUTZUNG__M1 - Kerngebiet                                                         0.014197\n",
       "UTYP1_Value__sonstiger Unfall                                                    0.012604\n",
       "UWOCHENTAG_Value__Montag                                                         0.010459\n",
       "IstGkfz                                                                          0.007277\n",
       "WERT_VES                                                                         0.006684\n",
       "UART_Value__Abkommen von Fahrbahn nach links                                     0.006482\n",
       "NUTZUNG__M2 - Mischgebiet                                                        0.005219\n",
       "UART_Value__Zusammenstoß mit seitlich in gleicher Richtung fahrendem Fahrzeug    0.004452\n",
       "NUTZUNG__F - Forstflächen                                                        0.004180\n",
       "UWOCHENTAG_Value__Dienstag                                                       0.003399\n",
       "UWOCHENTAG_Value__Donnerstag                                                     0.003348\n",
       "NUTZUNG__W - Wohngebiet                                                          0.003019\n",
       "UART_Value__Zusammenstoß zwischen Fahrzeug und Fußgänger                         0.002870\n",
       "UTYP1_Value__Unfall durch ruhenden Verkehr                                       0.002761\n",
       "UART_Value__Zusammenstoß mit einbiegendem / kreuzendem Fahrzeug                  0.002712\n",
       "                                                                                   ...   \n",
       "UART_Value__Unbekannt                                                            0.002386\n",
       "UART_Value__Zusammenstoß mit entgegenkommendem Fahrzeug                          0.002350\n",
       "UWOCHENTAG_Value__Sonntag                                                        0.002221\n",
       "UART_Value__Zusammenstoß mit vorausfahrendem / wartendem Fahrzeug                0.002181\n",
       "STRZUSTAND_Value__winterglatt                                                    0.002144\n",
       "UTYP1_Value__Einbiegen / Kreuzen-Unfall                                          0.002029\n",
       "GESLAERM__niedrig - sehr niedrig                                                 0.001964\n",
       "UTYP1_Value__Fahrunfall                                                          0.001771\n",
       "IstSonstige                                                                      0.001611\n",
       "NUTZUNG__G - Gewerbe                                                             0.001556\n",
       "ULICHTVERH_Value__Tageslicht                                                     0.001525\n",
       "UTYP1_Value__Überschreitenunfall                                                 0.001525\n",
       "STRZUSTAND_Value__nass/feucht/schlüpfrig                                         0.001486\n",
       "ULICHTVERH_Value__Dämmerung                                                      0.001424\n",
       "ULICHTVERH_Value__Dunkelheit                                                     0.001383\n",
       "UWOCHENTAG_Value__Mittwoch                                                       0.001089\n",
       "UWOCHENTAG_Value__Freitag                                                        0.000838\n",
       "GESLAERM__sehr hoch                                                              0.000740\n",
       "UTYP1_Value__Abbiegeunfall                                                       0.000660\n",
       "UART_Value__Abkommen von Fahrbahn nach rechts                                    0.000605\n",
       "UWOCHENTAG_Value__Samstag                                                        0.000600\n",
       "GESLAERM__mittel                                                                 0.000506\n",
       "UART_Value__Zusammenstoß mit anfahrendem / anhaltendem / ruhendem Fahrzeug       0.000406\n",
       "NUTZUNG__LW-A - Acker                                                            0.000399\n",
       "GESLAERM__hoch                                                                   0.000357\n",
       "UART_Value__Aufprall auf Fahrbahnhindernis                                       0.000330\n",
       "NUTZUNG__GB - Gemeinbedarf                                                       0.000323\n",
       "UTYP1_Value__Unfall im Längsverkehr                                              0.000258\n",
       "NUTZUNG__Gp - Gewerbe produzierend                                               0.000000\n",
       "NUTZUNG__LW-GR - Grünland                                                        0.000000\n",
       "Length: 61, dtype: float64"
      ]
     },
     "execution_count": 129,
     "metadata": {},
     "output_type": "execute_result"
    }
   ],
   "source": [
    "feature_imp"
   ]
  },
  {
   "cell_type": "code",
   "execution_count": 18,
   "metadata": {},
   "outputs": [
    {
     "data": {
      "text/plain": [
       "0    11433\n",
       "1     2216\n",
       "Name: TARGET, dtype: int64"
      ]
     },
     "execution_count": 18,
     "metadata": {},
     "output_type": "execute_result"
    }
   ],
   "source": [
    "crash_data_copy[\"TARGET\"].value_counts()"
   ]
  },
  {
   "cell_type": "code",
   "execution_count": 20,
   "metadata": {},
   "outputs": [
    {
     "data": {
      "text/plain": [
       "0.806175107145981"
      ]
     },
     "execution_count": 20,
     "metadata": {},
     "output_type": "execute_result"
    }
   ],
   "source": [
    "(11433-2216)/11433"
   ]
  },
  {
   "cell_type": "code",
   "execution_count": null,
   "metadata": {},
   "outputs": [],
   "source": []
  }
 ],
 "metadata": {
  "kernelspec": {
   "display_name": "Python 3",
   "language": "python",
   "name": "python3"
  },
  "language_info": {
   "codemirror_mode": {
    "name": "ipython",
    "version": 3
   },
   "file_extension": ".py",
   "mimetype": "text/x-python",
   "name": "python",
   "nbconvert_exporter": "python",
   "pygments_lexer": "ipython3",
   "version": "3.7.3"
  }
 },
 "nbformat": 4,
 "nbformat_minor": 2
}
